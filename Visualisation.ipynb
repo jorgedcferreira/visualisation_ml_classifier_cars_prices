{
 "cells": [
  {
   "cell_type": "code",
   "execution_count": 655,
   "metadata": {},
   "outputs": [],
   "source": [
    "#Import libraries\n",
    "import pandas as pd \n",
    "import seaborn as sns\n",
    "from sklearn.metrics import r2_score\n",
    "import matplotlib.pyplot as plt\n",
    "import numpy as np\n",
    "import h2o\n",
    "from h2o.automl import H2OAutoML"
   ]
  },
  {
   "cell_type": "code",
   "execution_count": 656,
   "metadata": {},
   "outputs": [
    {
     "data": {
      "text/html": [
       "<div>\n",
       "<style scoped>\n",
       "    .dataframe tbody tr th:only-of-type {\n",
       "        vertical-align: middle;\n",
       "    }\n",
       "\n",
       "    .dataframe tbody tr th {\n",
       "        vertical-align: top;\n",
       "    }\n",
       "\n",
       "    .dataframe thead th {\n",
       "        text-align: right;\n",
       "    }\n",
       "</style>\n",
       "<table border=\"1\" class=\"dataframe\">\n",
       "  <thead>\n",
       "    <tr style=\"text-align: right;\">\n",
       "      <th></th>\n",
       "      <th>id</th>\n",
       "      <th>price_category</th>\n",
       "      <th>make</th>\n",
       "      <th>year</th>\n",
       "      <th>mileage</th>\n",
       "      <th>power</th>\n",
       "      <th>car_type</th>\n",
       "      <th>color</th>\n",
       "      <th>fuel_type</th>\n",
       "      <th>transmission</th>\n",
       "      <th>...</th>\n",
       "      <th>flg_missing_transmission</th>\n",
       "      <th>flg_missing_n_doors</th>\n",
       "      <th>flg_missing_n_cylinders</th>\n",
       "      <th>flg_missing_displacement</th>\n",
       "      <th>flg_missing_dry_weight</th>\n",
       "      <th>flg_missing_acceleration</th>\n",
       "      <th>flg_missing_top_speed</th>\n",
       "      <th>flg_missing_n_seats</th>\n",
       "      <th>flg_missing_emission</th>\n",
       "      <th>flg_missing_emission_label</th>\n",
       "    </tr>\n",
       "  </thead>\n",
       "  <tbody>\n",
       "    <tr>\n",
       "      <th>0</th>\n",
       "      <td>2</td>\n",
       "      <td>5 (10K-15K)</td>\n",
       "      <td>volkswagen</td>\n",
       "      <td>2012</td>\n",
       "      <td>168390</td>\n",
       "      <td>160</td>\n",
       "      <td>stationwagon</td>\n",
       "      <td>wit</td>\n",
       "      <td>benzine</td>\n",
       "      <td>Handgeschakeld</td>\n",
       "      <td>...</td>\n",
       "      <td>0</td>\n",
       "      <td>0</td>\n",
       "      <td>0</td>\n",
       "      <td>0</td>\n",
       "      <td>0</td>\n",
       "      <td>0</td>\n",
       "      <td>0</td>\n",
       "      <td>0</td>\n",
       "      <td>0</td>\n",
       "      <td>0</td>\n",
       "    </tr>\n",
       "    <tr>\n",
       "      <th>1</th>\n",
       "      <td>3</td>\n",
       "      <td>6 (&gt; 15K)</td>\n",
       "      <td>renault</td>\n",
       "      <td>2015</td>\n",
       "      <td>12170</td>\n",
       "      <td>200</td>\n",
       "      <td>hatchback</td>\n",
       "      <td>wit</td>\n",
       "      <td>benzine</td>\n",
       "      <td>Automaat</td>\n",
       "      <td>...</td>\n",
       "      <td>0</td>\n",
       "      <td>0</td>\n",
       "      <td>0</td>\n",
       "      <td>0</td>\n",
       "      <td>0</td>\n",
       "      <td>0</td>\n",
       "      <td>0</td>\n",
       "      <td>0</td>\n",
       "      <td>0</td>\n",
       "      <td>0</td>\n",
       "    </tr>\n",
       "    <tr>\n",
       "      <th>2</th>\n",
       "      <td>4</td>\n",
       "      <td>3 (2K-5K)</td>\n",
       "      <td>renault</td>\n",
       "      <td>2008</td>\n",
       "      <td>233485</td>\n",
       "      <td>103</td>\n",
       "      <td>mpv</td>\n",
       "      <td>blauw</td>\n",
       "      <td>diesel</td>\n",
       "      <td>Handgeschakeld</td>\n",
       "      <td>...</td>\n",
       "      <td>0</td>\n",
       "      <td>0</td>\n",
       "      <td>0</td>\n",
       "      <td>0</td>\n",
       "      <td>0</td>\n",
       "      <td>0</td>\n",
       "      <td>0</td>\n",
       "      <td>0</td>\n",
       "      <td>0</td>\n",
       "      <td>1</td>\n",
       "    </tr>\n",
       "    <tr>\n",
       "      <th>3</th>\n",
       "      <td>5</td>\n",
       "      <td>4 (5K-10K)</td>\n",
       "      <td>mercedes-benz</td>\n",
       "      <td>2012</td>\n",
       "      <td>287567</td>\n",
       "      <td>109</td>\n",
       "      <td>mpv</td>\n",
       "      <td>zwart</td>\n",
       "      <td>diesel</td>\n",
       "      <td>Automaat</td>\n",
       "      <td>...</td>\n",
       "      <td>0</td>\n",
       "      <td>0</td>\n",
       "      <td>0</td>\n",
       "      <td>0</td>\n",
       "      <td>0</td>\n",
       "      <td>0</td>\n",
       "      <td>0</td>\n",
       "      <td>0</td>\n",
       "      <td>0</td>\n",
       "      <td>0</td>\n",
       "    </tr>\n",
       "    <tr>\n",
       "      <th>4</th>\n",
       "      <td>7</td>\n",
       "      <td>6 (&gt; 15K)</td>\n",
       "      <td>kia</td>\n",
       "      <td>2013</td>\n",
       "      <td>72565</td>\n",
       "      <td>0</td>\n",
       "      <td>coupe</td>\n",
       "      <td>oranje</td>\n",
       "      <td>diesel</td>\n",
       "      <td>Automaat</td>\n",
       "      <td>...</td>\n",
       "      <td>0</td>\n",
       "      <td>0</td>\n",
       "      <td>1</td>\n",
       "      <td>1</td>\n",
       "      <td>0</td>\n",
       "      <td>0</td>\n",
       "      <td>1</td>\n",
       "      <td>0</td>\n",
       "      <td>0</td>\n",
       "      <td>1</td>\n",
       "    </tr>\n",
       "    <tr>\n",
       "      <th>...</th>\n",
       "      <td>...</td>\n",
       "      <td>...</td>\n",
       "      <td>...</td>\n",
       "      <td>...</td>\n",
       "      <td>...</td>\n",
       "      <td>...</td>\n",
       "      <td>...</td>\n",
       "      <td>...</td>\n",
       "      <td>...</td>\n",
       "      <td>...</td>\n",
       "      <td>...</td>\n",
       "      <td>...</td>\n",
       "      <td>...</td>\n",
       "      <td>...</td>\n",
       "      <td>...</td>\n",
       "      <td>...</td>\n",
       "      <td>...</td>\n",
       "      <td>...</td>\n",
       "      <td>...</td>\n",
       "      <td>...</td>\n",
       "      <td>...</td>\n",
       "    </tr>\n",
       "    <tr>\n",
       "      <th>8227</th>\n",
       "      <td>10286</td>\n",
       "      <td>3 (2K-5K)</td>\n",
       "      <td>smart</td>\n",
       "      <td>2006</td>\n",
       "      <td>102299</td>\n",
       "      <td>61</td>\n",
       "      <td>0</td>\n",
       "      <td>grijs</td>\n",
       "      <td>benzine</td>\n",
       "      <td>Semi-automaat</td>\n",
       "      <td>...</td>\n",
       "      <td>0</td>\n",
       "      <td>0</td>\n",
       "      <td>0</td>\n",
       "      <td>0</td>\n",
       "      <td>1</td>\n",
       "      <td>1</td>\n",
       "      <td>0</td>\n",
       "      <td>0</td>\n",
       "      <td>1</td>\n",
       "      <td>1</td>\n",
       "    </tr>\n",
       "    <tr>\n",
       "      <th>8228</th>\n",
       "      <td>10287</td>\n",
       "      <td>1 (&lt; 1K)</td>\n",
       "      <td>daewoo</td>\n",
       "      <td>2000</td>\n",
       "      <td>103659</td>\n",
       "      <td>52</td>\n",
       "      <td>hatchback</td>\n",
       "      <td>grijs</td>\n",
       "      <td>benzine</td>\n",
       "      <td>Handgeschakeld</td>\n",
       "      <td>...</td>\n",
       "      <td>0</td>\n",
       "      <td>0</td>\n",
       "      <td>0</td>\n",
       "      <td>0</td>\n",
       "      <td>0</td>\n",
       "      <td>0</td>\n",
       "      <td>0</td>\n",
       "      <td>0</td>\n",
       "      <td>0</td>\n",
       "      <td>0</td>\n",
       "    </tr>\n",
       "    <tr>\n",
       "      <th>8229</th>\n",
       "      <td>10288</td>\n",
       "      <td>4 (5K-10K)</td>\n",
       "      <td>opel</td>\n",
       "      <td>2011</td>\n",
       "      <td>120980</td>\n",
       "      <td>95</td>\n",
       "      <td>stationwagon</td>\n",
       "      <td>grijs</td>\n",
       "      <td>diesel</td>\n",
       "      <td>Handgeschakeld</td>\n",
       "      <td>...</td>\n",
       "      <td>0</td>\n",
       "      <td>0</td>\n",
       "      <td>0</td>\n",
       "      <td>0</td>\n",
       "      <td>0</td>\n",
       "      <td>0</td>\n",
       "      <td>0</td>\n",
       "      <td>0</td>\n",
       "      <td>0</td>\n",
       "      <td>0</td>\n",
       "    </tr>\n",
       "    <tr>\n",
       "      <th>8230</th>\n",
       "      <td>10289</td>\n",
       "      <td>6 (&gt; 15K)</td>\n",
       "      <td>kia</td>\n",
       "      <td>2013</td>\n",
       "      <td>76890</td>\n",
       "      <td>135</td>\n",
       "      <td>mpv</td>\n",
       "      <td>grijs</td>\n",
       "      <td>benzine</td>\n",
       "      <td>Handgeschakeld</td>\n",
       "      <td>...</td>\n",
       "      <td>0</td>\n",
       "      <td>0</td>\n",
       "      <td>0</td>\n",
       "      <td>0</td>\n",
       "      <td>0</td>\n",
       "      <td>0</td>\n",
       "      <td>0</td>\n",
       "      <td>0</td>\n",
       "      <td>0</td>\n",
       "      <td>0</td>\n",
       "    </tr>\n",
       "    <tr>\n",
       "      <th>8231</th>\n",
       "      <td>10290</td>\n",
       "      <td>2 (1K-2K)</td>\n",
       "      <td>bmw</td>\n",
       "      <td>1997</td>\n",
       "      <td>279850</td>\n",
       "      <td>116</td>\n",
       "      <td>sedan</td>\n",
       "      <td>zwart</td>\n",
       "      <td>benzine</td>\n",
       "      <td>Automaat</td>\n",
       "      <td>...</td>\n",
       "      <td>0</td>\n",
       "      <td>0</td>\n",
       "      <td>0</td>\n",
       "      <td>0</td>\n",
       "      <td>1</td>\n",
       "      <td>1</td>\n",
       "      <td>0</td>\n",
       "      <td>0</td>\n",
       "      <td>1</td>\n",
       "      <td>1</td>\n",
       "    </tr>\n",
       "  </tbody>\n",
       "</table>\n",
       "<p>8232 rows × 33 columns</p>\n",
       "</div>"
      ],
      "text/plain": [
       "         id price_category           make  year  mileage  power      car_type  \\\n",
       "0         2    5 (10K-15K)     volkswagen  2012   168390    160  stationwagon   \n",
       "1         3      6 (> 15K)        renault  2015    12170    200     hatchback   \n",
       "2         4      3 (2K-5K)        renault  2008   233485    103           mpv   \n",
       "3         5     4 (5K-10K)  mercedes-benz  2012   287567    109           mpv   \n",
       "4         7      6 (> 15K)            kia  2013    72565      0         coupe   \n",
       "...     ...            ...            ...   ...      ...    ...           ...   \n",
       "8227  10286      3 (2K-5K)          smart  2006   102299     61             0   \n",
       "8228  10287       1 (< 1K)         daewoo  2000   103659     52     hatchback   \n",
       "8229  10288     4 (5K-10K)           opel  2011   120980     95  stationwagon   \n",
       "8230  10289      6 (> 15K)            kia  2013    76890    135           mpv   \n",
       "8231  10290      2 (1K-2K)            bmw  1997   279850    116         sedan   \n",
       "\n",
       "       color fuel_type    transmission  ...  flg_missing_transmission  \\\n",
       "0        wit   benzine  Handgeschakeld  ...                         0   \n",
       "1        wit   benzine        Automaat  ...                         0   \n",
       "2      blauw    diesel  Handgeschakeld  ...                         0   \n",
       "3      zwart    diesel        Automaat  ...                         0   \n",
       "4     oranje    diesel        Automaat  ...                         0   \n",
       "...      ...       ...             ...  ...                       ...   \n",
       "8227   grijs   benzine   Semi-automaat  ...                         0   \n",
       "8228   grijs   benzine  Handgeschakeld  ...                         0   \n",
       "8229   grijs    diesel  Handgeschakeld  ...                         0   \n",
       "8230   grijs   benzine  Handgeschakeld  ...                         0   \n",
       "8231   zwart   benzine        Automaat  ...                         0   \n",
       "\n",
       "      flg_missing_n_doors  flg_missing_n_cylinders  flg_missing_displacement  \\\n",
       "0                       0                        0                         0   \n",
       "1                       0                        0                         0   \n",
       "2                       0                        0                         0   \n",
       "3                       0                        0                         0   \n",
       "4                       0                        1                         1   \n",
       "...                   ...                      ...                       ...   \n",
       "8227                    0                        0                         0   \n",
       "8228                    0                        0                         0   \n",
       "8229                    0                        0                         0   \n",
       "8230                    0                        0                         0   \n",
       "8231                    0                        0                         0   \n",
       "\n",
       "      flg_missing_dry_weight  flg_missing_acceleration  flg_missing_top_speed  \\\n",
       "0                          0                         0                      0   \n",
       "1                          0                         0                      0   \n",
       "2                          0                         0                      0   \n",
       "3                          0                         0                      0   \n",
       "4                          0                         0                      1   \n",
       "...                      ...                       ...                    ...   \n",
       "8227                       1                         1                      0   \n",
       "8228                       0                         0                      0   \n",
       "8229                       0                         0                      0   \n",
       "8230                       0                         0                      0   \n",
       "8231                       1                         1                      0   \n",
       "\n",
       "      flg_missing_n_seats flg_missing_emission  flg_missing_emission_label  \n",
       "0                       0                    0                           0  \n",
       "1                       0                    0                           0  \n",
       "2                       0                    0                           1  \n",
       "3                       0                    0                           0  \n",
       "4                       0                    0                           1  \n",
       "...                   ...                  ...                         ...  \n",
       "8227                    0                    1                           1  \n",
       "8228                    0                    0                           0  \n",
       "8229                    0                    0                           0  \n",
       "8230                    0                    0                           0  \n",
       "8231                    0                    1                           1  \n",
       "\n",
       "[8232 rows x 33 columns]"
      ]
     },
     "execution_count": 656,
     "metadata": {},
     "output_type": "execute_result"
    }
   ],
   "source": [
    "#Read data\n",
    "dt_car_train = pd.read_csv('./Dataset/dt_car_train_2021.csv')\n",
    "dt_car_train"
   ]
  },
  {
   "cell_type": "code",
   "execution_count": 657,
   "metadata": {},
   "outputs": [
    {
     "data": {
      "text/plain": [
       "id                              int64\n",
       "price_category                 object\n",
       "make                           object\n",
       "year                            int64\n",
       "mileage                         int64\n",
       "power                           int64\n",
       "car_type                       object\n",
       "color                          object\n",
       "fuel_type                      object\n",
       "transmission                   object\n",
       "n_doors                         int64\n",
       "n_cylinders                     int64\n",
       "displacement                    int64\n",
       "dry_weight                      int64\n",
       "acceleration                  float64\n",
       "top_speed                       int64\n",
       "n_seats                         int64\n",
       "emission                        int64\n",
       "emission_label                 object\n",
       "flg_missing_power               int64\n",
       "flg_missing_car_type            int64\n",
       "flg_missing_color               int64\n",
       "flg_missing_fuel_type           int64\n",
       "flg_missing_transmission        int64\n",
       "flg_missing_n_doors             int64\n",
       "flg_missing_n_cylinders         int64\n",
       "flg_missing_displacement        int64\n",
       "flg_missing_dry_weight          int64\n",
       "flg_missing_acceleration        int64\n",
       "flg_missing_top_speed           int64\n",
       "flg_missing_n_seats             int64\n",
       "flg_missing_emission            int64\n",
       "flg_missing_emission_label      int64\n",
       "dtype: object"
      ]
     },
     "execution_count": 657,
     "metadata": {},
     "output_type": "execute_result"
    }
   ],
   "source": [
    "#Data types per column\n",
    "dt_car_train.dtypes"
   ]
  },
  {
   "cell_type": "code",
   "execution_count": 658,
   "metadata": {},
   "outputs": [
    {
     "data": {
      "text/plain": [
       "(8232, 33)"
      ]
     },
     "execution_count": 658,
     "metadata": {},
     "output_type": "execute_result"
    }
   ],
   "source": [
    "#Data set size, rows and columns\n",
    "dt_car_train.shape"
   ]
  },
  {
   "cell_type": "markdown",
   "metadata": {},
   "source": [
    "# Data Pre processing"
   ]
  },
  {
   "cell_type": "markdown",
   "metadata": {},
   "source": [
    "It was identified that some car manufacturers where with errors being with car manufacturers that are unkonwn or using the car model name as a car manufacturer, so a transformation was done to the data:"
   ]
  },
  {
   "cell_type": "code",
   "execution_count": 659,
   "metadata": {},
   "outputs": [
    {
     "name": "stdout",
     "output_type": "stream",
     "text": [
      "Before processing the car makers were:\n",
      "['volkswagen' 'renault' 'mercedes-benz' 'kia' 'opel' 'nissan' 'fiat'\n",
      " 'mini' 'bmw' 'mitsubishi' 'saab' 'hyundai' 'peugeot' 'porsche' 'audi'\n",
      " 'citroen' 'citroën' 'daewoo' 'volvo' 'honda' 'toyota' 'ford' 'suzuki'\n",
      " 'chrysler' 'seat' 'cadillac' 'daihatsu' 'alfa' 'smart' 'land-rover'\n",
      " 'mazda' 'skoda' 'jaguar' 'chevrolet' 'lancia' 'nu' 'land' 'škoda' 'dodge'\n",
      " 'v70' 'gereserveerd!' 'rover' 'jeep' 'ssangyong' 'mercedes' 'palmo'\n",
      " 'lamborghini' 'dacia' 'r-design' 'lexus' '3x' 'ferrari' 'mg' 'maserati'\n",
      " 'zeer' 'ds' 'subaru' 'ligier' 'landwind' 'v40' 'gereserveerd' 'corvette'\n",
      " 'vw' 'van' 'lotus' 'rolls-royce' 'bentley' 's-klasse' 'w203' 'lincoln'\n",
      " 'vectra' 'hummer' 'aston' 'dealer' 'opel/' 'pontiac' '2.0-16v' 'golf'\n",
      " 'a4' '940' 'infiniti' 'touran' '850' 'mev' 'westfield' 'toth-twa' 'corsa'\n",
      " 'astra' '307' 'w210' 'bombardier' 'abarth' 'mb' 'goede' 'yaris'\n",
      " 'schneider' 'wij' 'bomvoll!!!' 'bmw_car123456' 'leer' 'laguna' 's6'\n",
      " 'c-klasse' 'punto' 'berlingo' '407' 'gezocht' 'a.' 'autohilhorst'\n",
      " 'nieuwe' 'colt' 'boom' 'rolls' 'tt' 'morgan' 'c180' 'alpina' 'andrey'\n",
      " 'qashqai' 's40' 'mooie' 'e-klasse' 'polo']\n",
      "After processing the car makers are:\n",
      "['volkswagen' 'renault' 'mercedes-benz' 'kia' 'opel' 'nissan' 'fiat'\n",
      " 'mini' 'bmw' 'mitsubishi' 'saab' 'hyundai' 'peugeot' 'porsche' 'audi'\n",
      " 'citroen' 'daewoo' 'volvo' 'honda' 'toyota' 'ford' 'suzuki' 'chrysler'\n",
      " 'seat' 'cadillac' 'daihatsu' 'alfa' 'smart' 'land-rover' 'mazda' 'skoda'\n",
      " 'jaguar' 'chevrolet' 'lancia' '' 'dodge' 'rover' 'jeep' 'ssangyong'\n",
      " 'lamborghini' 'dacia' 'lexus' 'ferrari' 'mg' 'maserati' 'ds' 'subaru'\n",
      " 'ligier' 'landwind' 'lotus' 'rolls-royce' 'bentley' 'lincoln' 'hummer'\n",
      " 'aston' 'pontiac' 'infiniti' 'abarth' 'alpina']\n",
      "\n",
      " From 123 to 59 car manufacturers\n"
     ]
    }
   ],
   "source": [
    "#Map inconsistent car maker to correct label \n",
    "dt_car_train['car_maker'] =  dt_car_train['make'].replace({'citroën':'citroen',\n",
    "                                                    'škoda':'skoda',\n",
    "                                                    'land':'land-rover',\n",
    "                                                    'gereserveerd!':'',\n",
    "                                                    'v40':'volvo',\n",
    "                                                    'v70':'volvo',\n",
    "                                                    'mercedes':'mercedes-benz',\n",
    "                                                    '3x':'',\n",
    "                                                    'palmo':'',\n",
    "                                                    'zeer':'',\n",
    "                                                    'r-design': 'volvo',\n",
    "                                                    'gereserveerd':'',\n",
    "                                                    'corvette': 'chevrolet',\n",
    "                                                    'van':'',\n",
    "                                                    's-klasse':'mercedes-benz',\n",
    "                                                    'w203':'',\n",
    "                                                    'nu':'',\n",
    "                                                    'vectra':'',\n",
    "                                                    'dealer':'',\n",
    "                                                    'golf':'volkswagen',\n",
    "                                                    'vw': 'volkswagen',\n",
    "                                                    'a4':'audi',\n",
    "                                                    '940':'',\n",
    "                                                    'touran':'volkswagen',\n",
    "                                                    '850':'',\n",
    "                                                    'mev':'',\n",
    "                                                    'westfield':'',\n",
    "                                                    'toth-twa':'',\n",
    "                                                    'corsa':'opel',\n",
    "                                                    'astra':'opel',\n",
    "                                                    '307':'',\n",
    "                                                    'w210':'',\n",
    "                                                    'bombardier':'',\n",
    "                                                    'mb':'',\n",
    "                                                    'goede':'',\n",
    "                                                    'yaris':'toyota',\n",
    "                                                    'schneider':'',\n",
    "                                                    'wij':'',\n",
    "                                                    'bomvoll!!!':'',\n",
    "                                                    'bmw_car123456':'bmw',\n",
    "                                                    'leer':'',\n",
    "                                                    'laguna':'renault',\n",
    "                                                    's6':'',\n",
    "                                                    'c-klasse':'mercedes-benz',\n",
    "                                                    'punto':'fiat',\n",
    "                                                    'berlingo':'citroen',\n",
    "                                                    '407':'',\n",
    "                                                    'gezocht':'',\n",
    "                                                    'a.':'',\n",
    "                                                    'autohilhorst':'',\n",
    "                                                    'nieuwe':'',\n",
    "                                                    'colt':'',\n",
    "                                                    'boom':'',\n",
    "                                                    'rolls':'rolls-royce',\n",
    "                                                    'tt':'audi',\n",
    "                                                    'morgan':'',\n",
    "                                                    'c180':'',\n",
    "                                                    'andrey':'',\n",
    "                                                    'qashqai':'',\n",
    "                                                    's40':'',\n",
    "                                                    'mooie':'',\n",
    "                                                    'e-klasse':'mercedes-benz',\n",
    "                                                    'polo':'volkswagen',\n",
    "                                                    '2.0-16v':'',\n",
    "                                                    'opel/':'opel'\n",
    "                                                    })\n",
    "print('Before processing the car makers were:')\n",
    "print(dt_car_train['make'].unique())\n",
    "print('After processing the car makers are:')\n",
    "print(dt_car_train['car_maker'].unique())\n",
    "print('\\n From ' + str(len(dt_car_train['make'].unique())) + ' to ' +str(len(dt_car_train['car_maker'].unique())) +' car manufacturers') "
   ]
  },
  {
   "cell_type": "markdown",
   "metadata": {},
   "source": [
    "Feature Engineering - creation of new variabless:\n",
    "    \n",
    "* Color traslated to english\n",
    "* Car maker country\n",
    "* Average price based on the interval\n",
    "* Numerical rank of price class"
   ]
  },
  {
   "cell_type": "code",
   "execution_count": 660,
   "metadata": {},
   "outputs": [],
   "source": [
    "car_maker_country = pd.read_csv('car_maker_country.csv')\n",
    "colors = pd.read_csv('color_translations.csv')\n",
    "average_price =  pd.read_csv('average_price.csv')"
   ]
  },
  {
   "cell_type": "code",
   "execution_count": 661,
   "metadata": {},
   "outputs": [],
   "source": [
    "dt_car_train = pd.merge(dt_car_train, \n",
    "                     colors, \n",
    "                     left_on ='color',\n",
    "                     right_on = 'Color Dutch', \n",
    "                     how ='left')\n",
    "dt_car_train = pd.merge(dt_car_train, \n",
    "                     average_price, \n",
    "                     left_on ='price_category',\n",
    "                     right_on = 'class', \n",
    "                     how ='left')\n",
    "dt_car_train = pd.merge(dt_car_train, \n",
    "                     car_maker_country, \n",
    "                     left_on ='car_maker',\n",
    "                     right_on = 'car_make', \n",
    "                     how ='left')"
   ]
  },
  {
   "cell_type": "code",
   "execution_count": 662,
   "metadata": {},
   "outputs": [],
   "source": [
    "dict_classes_to_numbers = {'1 (< 1K)' : 1,\n",
    "                           '2 (1K-2K)' : 2,\n",
    "                           '3 (2K-5K)' : 3,\n",
    "                           '4 (5K-10K)': 4,\n",
    "                           '5 (10K-15K)' : 5,\n",
    "                           '6 (> 15K)': 6}\n",
    "\n",
    "# Map the values of the dataframe\n",
    "dt_car_train['class_rank']= dt_car_train['price_category'].map(dict_classes_to_numbers)\n"
   ]
  },
  {
   "cell_type": "markdown",
   "metadata": {},
   "source": [
    "Convert values to NA for rows whith NA flag on respective column"
   ]
  },
  {
   "cell_type": "code",
   "execution_count": 663,
   "metadata": {},
   "outputs": [],
   "source": [
    "dt_car_train.loc[dt_car_train.flg_missing_power == 1, 'power'] = None\n",
    "dt_car_train.loc[dt_car_train.flg_missing_car_type == 1, 'car_type'] = None\n",
    "dt_car_train.loc[dt_car_train.flg_missing_color == 1, 'color'] = None\n",
    "dt_car_train.loc[dt_car_train.flg_missing_fuel_type == 1, 'fuel_type'] = None\n",
    "dt_car_train.loc[dt_car_train.flg_missing_transmission == 1, 'transmission'] = None\n",
    "dt_car_train.loc[dt_car_train.flg_missing_n_doors == 1, 'n_doors'] = None\n",
    "dt_car_train.loc[dt_car_train.flg_missing_n_cylinders == 1, 'n_cylinders'] = None\n",
    "dt_car_train.loc[dt_car_train.flg_missing_displacement == 1, 'displacement'] = None\n",
    "dt_car_train.loc[dt_car_train.flg_missing_dry_weight == 1, 'dry_weight'] = None\n",
    "dt_car_train.loc[dt_car_train.flg_missing_acceleration == 1, 'acceleration'] = None\n",
    "dt_car_train.loc[dt_car_train.flg_missing_top_speed == 1, 'top_speed'] = None\n",
    "dt_car_train.loc[dt_car_train.flg_missing_n_seats == 1, 'n_seats'] = None\n",
    "dt_car_train.loc[dt_car_train.flg_missing_emission == 1, 'emission'] = None\n",
    "dt_car_train.loc[dt_car_train.flg_missing_emission_label == 1, 'emission_label'] = None\n"
   ]
  },
  {
   "cell_type": "code",
   "execution_count": 664,
   "metadata": {},
   "outputs": [
    {
     "data": {
      "text/html": [
       "<div>\n",
       "<style scoped>\n",
       "    .dataframe tbody tr th:only-of-type {\n",
       "        vertical-align: middle;\n",
       "    }\n",
       "\n",
       "    .dataframe tbody tr th {\n",
       "        vertical-align: top;\n",
       "    }\n",
       "\n",
       "    .dataframe thead th {\n",
       "        text-align: right;\n",
       "    }\n",
       "</style>\n",
       "<table border=\"1\" class=\"dataframe\">\n",
       "  <thead>\n",
       "    <tr style=\"text-align: right;\">\n",
       "      <th></th>\n",
       "      <th>id</th>\n",
       "      <th>price_category</th>\n",
       "      <th>make</th>\n",
       "      <th>year</th>\n",
       "      <th>mileage</th>\n",
       "      <th>power</th>\n",
       "      <th>car_type</th>\n",
       "      <th>color</th>\n",
       "      <th>fuel_type</th>\n",
       "      <th>transmission</th>\n",
       "      <th>...</th>\n",
       "      <th>flg_missing_emission</th>\n",
       "      <th>flg_missing_emission_label</th>\n",
       "      <th>car_maker</th>\n",
       "      <th>Color Dutch</th>\n",
       "      <th>Color English</th>\n",
       "      <th>class</th>\n",
       "      <th>average price</th>\n",
       "      <th>car_make</th>\n",
       "      <th>country</th>\n",
       "      <th>class_rank</th>\n",
       "    </tr>\n",
       "  </thead>\n",
       "  <tbody>\n",
       "    <tr>\n",
       "      <th>0</th>\n",
       "      <td>2</td>\n",
       "      <td>5 (10K-15K)</td>\n",
       "      <td>volkswagen</td>\n",
       "      <td>2012</td>\n",
       "      <td>168390</td>\n",
       "      <td>160.0</td>\n",
       "      <td>stationwagon</td>\n",
       "      <td>wit</td>\n",
       "      <td>benzine</td>\n",
       "      <td>Handgeschakeld</td>\n",
       "      <td>...</td>\n",
       "      <td>0</td>\n",
       "      <td>0</td>\n",
       "      <td>volkswagen</td>\n",
       "      <td>wit</td>\n",
       "      <td>White</td>\n",
       "      <td>NaN</td>\n",
       "      <td>NaN</td>\n",
       "      <td>volkswagen</td>\n",
       "      <td>Germany</td>\n",
       "      <td>5</td>\n",
       "    </tr>\n",
       "    <tr>\n",
       "      <th>1</th>\n",
       "      <td>3</td>\n",
       "      <td>6 (&gt; 15K)</td>\n",
       "      <td>renault</td>\n",
       "      <td>2015</td>\n",
       "      <td>12170</td>\n",
       "      <td>200.0</td>\n",
       "      <td>hatchback</td>\n",
       "      <td>wit</td>\n",
       "      <td>benzine</td>\n",
       "      <td>Automaat</td>\n",
       "      <td>...</td>\n",
       "      <td>0</td>\n",
       "      <td>0</td>\n",
       "      <td>renault</td>\n",
       "      <td>wit</td>\n",
       "      <td>White</td>\n",
       "      <td>6 (&gt; 15K)</td>\n",
       "      <td>NaN</td>\n",
       "      <td>renault</td>\n",
       "      <td>France</td>\n",
       "      <td>6</td>\n",
       "    </tr>\n",
       "    <tr>\n",
       "      <th>2</th>\n",
       "      <td>4</td>\n",
       "      <td>3 (2K-5K)</td>\n",
       "      <td>renault</td>\n",
       "      <td>2008</td>\n",
       "      <td>233485</td>\n",
       "      <td>103.0</td>\n",
       "      <td>mpv</td>\n",
       "      <td>blauw</td>\n",
       "      <td>diesel</td>\n",
       "      <td>Handgeschakeld</td>\n",
       "      <td>...</td>\n",
       "      <td>0</td>\n",
       "      <td>1</td>\n",
       "      <td>renault</td>\n",
       "      <td>blauw</td>\n",
       "      <td>Blue</td>\n",
       "      <td>3 (2K-5K)</td>\n",
       "      <td>2500.0</td>\n",
       "      <td>renault</td>\n",
       "      <td>France</td>\n",
       "      <td>3</td>\n",
       "    </tr>\n",
       "    <tr>\n",
       "      <th>3</th>\n",
       "      <td>5</td>\n",
       "      <td>4 (5K-10K)</td>\n",
       "      <td>mercedes-benz</td>\n",
       "      <td>2012</td>\n",
       "      <td>287567</td>\n",
       "      <td>109.0</td>\n",
       "      <td>mpv</td>\n",
       "      <td>zwart</td>\n",
       "      <td>diesel</td>\n",
       "      <td>Automaat</td>\n",
       "      <td>...</td>\n",
       "      <td>0</td>\n",
       "      <td>0</td>\n",
       "      <td>mercedes-benz</td>\n",
       "      <td>zwart</td>\n",
       "      <td>Black</td>\n",
       "      <td>4 (5K-10K)</td>\n",
       "      <td>7500.0</td>\n",
       "      <td>mercedes-benz</td>\n",
       "      <td>Germany</td>\n",
       "      <td>4</td>\n",
       "    </tr>\n",
       "    <tr>\n",
       "      <th>4</th>\n",
       "      <td>7</td>\n",
       "      <td>6 (&gt; 15K)</td>\n",
       "      <td>kia</td>\n",
       "      <td>2013</td>\n",
       "      <td>72565</td>\n",
       "      <td>NaN</td>\n",
       "      <td>coupe</td>\n",
       "      <td>oranje</td>\n",
       "      <td>diesel</td>\n",
       "      <td>Automaat</td>\n",
       "      <td>...</td>\n",
       "      <td>0</td>\n",
       "      <td>1</td>\n",
       "      <td>kia</td>\n",
       "      <td>NaN</td>\n",
       "      <td>NaN</td>\n",
       "      <td>6 (&gt; 15K)</td>\n",
       "      <td>NaN</td>\n",
       "      <td>kia</td>\n",
       "      <td>South Korea</td>\n",
       "      <td>6</td>\n",
       "    </tr>\n",
       "    <tr>\n",
       "      <th>...</th>\n",
       "      <td>...</td>\n",
       "      <td>...</td>\n",
       "      <td>...</td>\n",
       "      <td>...</td>\n",
       "      <td>...</td>\n",
       "      <td>...</td>\n",
       "      <td>...</td>\n",
       "      <td>...</td>\n",
       "      <td>...</td>\n",
       "      <td>...</td>\n",
       "      <td>...</td>\n",
       "      <td>...</td>\n",
       "      <td>...</td>\n",
       "      <td>...</td>\n",
       "      <td>...</td>\n",
       "      <td>...</td>\n",
       "      <td>...</td>\n",
       "      <td>...</td>\n",
       "      <td>...</td>\n",
       "      <td>...</td>\n",
       "      <td>...</td>\n",
       "    </tr>\n",
       "    <tr>\n",
       "      <th>8227</th>\n",
       "      <td>10286</td>\n",
       "      <td>3 (2K-5K)</td>\n",
       "      <td>smart</td>\n",
       "      <td>2006</td>\n",
       "      <td>102299</td>\n",
       "      <td>61.0</td>\n",
       "      <td>None</td>\n",
       "      <td>grijs</td>\n",
       "      <td>benzine</td>\n",
       "      <td>Semi-automaat</td>\n",
       "      <td>...</td>\n",
       "      <td>1</td>\n",
       "      <td>1</td>\n",
       "      <td>smart</td>\n",
       "      <td>grijs</td>\n",
       "      <td>Gray</td>\n",
       "      <td>3 (2K-5K)</td>\n",
       "      <td>2500.0</td>\n",
       "      <td>smart</td>\n",
       "      <td>Germany</td>\n",
       "      <td>3</td>\n",
       "    </tr>\n",
       "    <tr>\n",
       "      <th>8228</th>\n",
       "      <td>10287</td>\n",
       "      <td>1 (&lt; 1K)</td>\n",
       "      <td>daewoo</td>\n",
       "      <td>2000</td>\n",
       "      <td>103659</td>\n",
       "      <td>52.0</td>\n",
       "      <td>hatchback</td>\n",
       "      <td>grijs</td>\n",
       "      <td>benzine</td>\n",
       "      <td>Handgeschakeld</td>\n",
       "      <td>...</td>\n",
       "      <td>0</td>\n",
       "      <td>0</td>\n",
       "      <td>daewoo</td>\n",
       "      <td>grijs</td>\n",
       "      <td>Gray</td>\n",
       "      <td>1 (&lt; 1K)</td>\n",
       "      <td>500.0</td>\n",
       "      <td>daewoo</td>\n",
       "      <td>South Korea</td>\n",
       "      <td>1</td>\n",
       "    </tr>\n",
       "    <tr>\n",
       "      <th>8229</th>\n",
       "      <td>10288</td>\n",
       "      <td>4 (5K-10K)</td>\n",
       "      <td>opel</td>\n",
       "      <td>2011</td>\n",
       "      <td>120980</td>\n",
       "      <td>95.0</td>\n",
       "      <td>stationwagon</td>\n",
       "      <td>grijs</td>\n",
       "      <td>diesel</td>\n",
       "      <td>Handgeschakeld</td>\n",
       "      <td>...</td>\n",
       "      <td>0</td>\n",
       "      <td>0</td>\n",
       "      <td>opel</td>\n",
       "      <td>grijs</td>\n",
       "      <td>Gray</td>\n",
       "      <td>4 (5K-10K)</td>\n",
       "      <td>7500.0</td>\n",
       "      <td>opel</td>\n",
       "      <td>Germany</td>\n",
       "      <td>4</td>\n",
       "    </tr>\n",
       "    <tr>\n",
       "      <th>8230</th>\n",
       "      <td>10289</td>\n",
       "      <td>6 (&gt; 15K)</td>\n",
       "      <td>kia</td>\n",
       "      <td>2013</td>\n",
       "      <td>76890</td>\n",
       "      <td>135.0</td>\n",
       "      <td>mpv</td>\n",
       "      <td>grijs</td>\n",
       "      <td>benzine</td>\n",
       "      <td>Handgeschakeld</td>\n",
       "      <td>...</td>\n",
       "      <td>0</td>\n",
       "      <td>0</td>\n",
       "      <td>kia</td>\n",
       "      <td>grijs</td>\n",
       "      <td>Gray</td>\n",
       "      <td>6 (&gt; 15K)</td>\n",
       "      <td>NaN</td>\n",
       "      <td>kia</td>\n",
       "      <td>South Korea</td>\n",
       "      <td>6</td>\n",
       "    </tr>\n",
       "    <tr>\n",
       "      <th>8231</th>\n",
       "      <td>10290</td>\n",
       "      <td>2 (1K-2K)</td>\n",
       "      <td>bmw</td>\n",
       "      <td>1997</td>\n",
       "      <td>279850</td>\n",
       "      <td>116.0</td>\n",
       "      <td>sedan</td>\n",
       "      <td>zwart</td>\n",
       "      <td>benzine</td>\n",
       "      <td>Automaat</td>\n",
       "      <td>...</td>\n",
       "      <td>1</td>\n",
       "      <td>1</td>\n",
       "      <td>bmw</td>\n",
       "      <td>zwart</td>\n",
       "      <td>Black</td>\n",
       "      <td>2 (1K-2K)</td>\n",
       "      <td>1500.0</td>\n",
       "      <td>bmw</td>\n",
       "      <td>Germany</td>\n",
       "      <td>2</td>\n",
       "    </tr>\n",
       "  </tbody>\n",
       "</table>\n",
       "<p>8232 rows × 41 columns</p>\n",
       "</div>"
      ],
      "text/plain": [
       "         id price_category           make  year  mileage  power      car_type  \\\n",
       "0         2    5 (10K-15K)     volkswagen  2012   168390  160.0  stationwagon   \n",
       "1         3      6 (> 15K)        renault  2015    12170  200.0     hatchback   \n",
       "2         4      3 (2K-5K)        renault  2008   233485  103.0           mpv   \n",
       "3         5     4 (5K-10K)  mercedes-benz  2012   287567  109.0           mpv   \n",
       "4         7      6 (> 15K)            kia  2013    72565    NaN         coupe   \n",
       "...     ...            ...            ...   ...      ...    ...           ...   \n",
       "8227  10286      3 (2K-5K)          smart  2006   102299   61.0          None   \n",
       "8228  10287       1 (< 1K)         daewoo  2000   103659   52.0     hatchback   \n",
       "8229  10288     4 (5K-10K)           opel  2011   120980   95.0  stationwagon   \n",
       "8230  10289      6 (> 15K)            kia  2013    76890  135.0           mpv   \n",
       "8231  10290      2 (1K-2K)            bmw  1997   279850  116.0         sedan   \n",
       "\n",
       "       color fuel_type    transmission  ...  flg_missing_emission  \\\n",
       "0        wit   benzine  Handgeschakeld  ...                     0   \n",
       "1        wit   benzine        Automaat  ...                     0   \n",
       "2      blauw    diesel  Handgeschakeld  ...                     0   \n",
       "3      zwart    diesel        Automaat  ...                     0   \n",
       "4     oranje    diesel        Automaat  ...                     0   \n",
       "...      ...       ...             ...  ...                   ...   \n",
       "8227   grijs   benzine   Semi-automaat  ...                     1   \n",
       "8228   grijs   benzine  Handgeschakeld  ...                     0   \n",
       "8229   grijs    diesel  Handgeschakeld  ...                     0   \n",
       "8230   grijs   benzine  Handgeschakeld  ...                     0   \n",
       "8231   zwart   benzine        Automaat  ...                     1   \n",
       "\n",
       "      flg_missing_emission_label      car_maker  Color Dutch  Color English  \\\n",
       "0                              0     volkswagen          wit          White   \n",
       "1                              0        renault          wit          White   \n",
       "2                              1        renault        blauw           Blue   \n",
       "3                              0  mercedes-benz        zwart          Black   \n",
       "4                              1            kia          NaN            NaN   \n",
       "...                          ...            ...          ...            ...   \n",
       "8227                           1          smart        grijs           Gray   \n",
       "8228                           0         daewoo        grijs           Gray   \n",
       "8229                           0           opel        grijs           Gray   \n",
       "8230                           0            kia        grijs           Gray   \n",
       "8231                           1            bmw        zwart          Black   \n",
       "\n",
       "           class  average price       car_make      country  class_rank  \n",
       "0            NaN            NaN     volkswagen      Germany           5  \n",
       "1      6 (> 15K)            NaN        renault       France           6  \n",
       "2      3 (2K-5K)         2500.0        renault       France           3  \n",
       "3     4 (5K-10K)         7500.0  mercedes-benz      Germany           4  \n",
       "4      6 (> 15K)            NaN            kia  South Korea           6  \n",
       "...          ...            ...            ...          ...         ...  \n",
       "8227   3 (2K-5K)         2500.0          smart      Germany           3  \n",
       "8228    1 (< 1K)          500.0         daewoo  South Korea           1  \n",
       "8229  4 (5K-10K)         7500.0           opel      Germany           4  \n",
       "8230   6 (> 15K)            NaN            kia  South Korea           6  \n",
       "8231   2 (1K-2K)         1500.0            bmw      Germany           2  \n",
       "\n",
       "[8232 rows x 41 columns]"
      ]
     },
     "execution_count": 664,
     "metadata": {},
     "output_type": "execute_result"
    }
   ],
   "source": [
    "dt_car_train"
   ]
  },
  {
   "cell_type": "code",
   "execution_count": 665,
   "metadata": {},
   "outputs": [],
   "source": [
    "dt_car_train.to_csv('dt_car_train_pre_processed_1.csv')"
   ]
  },
  {
   "cell_type": "code",
   "execution_count": 666,
   "metadata": {},
   "outputs": [
    {
     "data": {
      "text/plain": [
       "year              int64\n",
       "mileage           int64\n",
       "power           float64\n",
       "n_doors         float64\n",
       "n_cylinders     float64\n",
       "displacement    float64\n",
       "dry_weight      float64\n",
       "acceleration    float64\n",
       "top_speed       float64\n",
       "n_seats         float64\n",
       "emission        float64\n",
       "class_rank        int64\n",
       "dtype: object"
      ]
     },
     "execution_count": 666,
     "metadata": {},
     "output_type": "execute_result"
    }
   ],
   "source": [
    "#Saving dataset just with numerical variables (disconsidering NA flags)\n",
    "\n",
    "dt_car_numerical_only = dt_car_train.drop(['make', 'price_category', 'car_type', 'color', 'fuel_type',\n",
    "        'transmission', 'emission_label','flg_missing_power',\n",
    "'flg_missing_car_type',\n",
    "'flg_missing_color',\n",
    "'flg_missing_fuel_type',\n",
    "'flg_missing_transmission',\n",
    "'flg_missing_n_doors',\n",
    "'flg_missing_n_cylinders',\n",
    "'flg_missing_displacement',\n",
    "'flg_missing_dry_weight',\n",
    "'flg_missing_acceleration',\n",
    "'flg_missing_top_speed',\n",
    "'flg_missing_n_seats',\n",
    "'flg_missing_emission',\n",
    "'flg_missing_emission_label',\n",
    "'car_maker',\n",
    "'Color Dutch',\n",
    "'Color English',\n",
    "'class',\n",
    "'average price',\n",
    "'car_make',\n",
    "'country',\n",
    "'id'\n",
    "        ], axis=1)\n",
    "\n",
    "dt_car_numerical_only.dtypes"
   ]
  },
  {
   "cell_type": "markdown",
   "metadata": {},
   "source": [
    "# Data visualisation"
   ]
  },
  {
   "cell_type": "markdown",
   "metadata": {},
   "source": [
    "## Univariate analysis "
   ]
  },
  {
   "cell_type": "markdown",
   "metadata": {},
   "source": [
    "### Target variable"
   ]
  },
  {
   "cell_type": "code",
   "execution_count": 667,
   "metadata": {},
   "outputs": [
    {
     "data": {
      "text/plain": [
       "Price Category\n",
       "1 (< 1K)        924\n",
       "2 (1K-2K)      1429\n",
       "3 (2K-5K)      2334\n",
       "4 (5K-10K)     1808\n",
       "5 (10K-15K)     728\n",
       "6 (> 15K)      1009\n",
       "dtype: int64"
      ]
     },
     "execution_count": 667,
     "metadata": {},
     "output_type": "execute_result"
    },
    {
     "data": {
      "image/png": "[encoded data removed]",
      "text/plain": [
       "<Figure size 432x288 with 1 Axes>"
      ]
     },
     "metadata": {
      "needs_background": "light"
     },
     "output_type": "display_data"
    }
   ],
   "source": [
    "ax = dt_car_train.groupby(dt_car_train['price_category'].rename('Price Category')).size().plot.bar()\n",
    "x_offset = 0\n",
    "y_offset = 100\n",
    "for p in ax.patches:\n",
    "    b = p.get_bbox()\n",
    "    val = \"{:}\".format(int(b.y1 + b.y0))        \n",
    "    ax.annotate(val, ((b.x0 + b.x1)/2 + x_offset, b.y1 + y_offset-10))\n",
    "    \n",
    "\n",
    "dt_car_train.groupby(dt_car_train['price_category'].rename('Price Category')).size()"
   ]
  },
  {
   "cell_type": "markdown",
   "metadata": {},
   "source": [
    "### Independent variables"
   ]
  },
  {
   "cell_type": "markdown",
   "metadata": {},
   "source": [
    "#### Discrete and categorical variables frequency bar chart"
   ]
  },
  {
   "cell_type": "code",
   "execution_count": 668,
   "metadata": {},
   "outputs": [
    {
     "data": {
      "text/plain": [
       "car_maker\n",
       "                  52\n",
       "abarth             1\n",
       "alfa              82\n",
       "alpina             1\n",
       "aston              2\n",
       "audi             342\n",
       "bentley            6\n",
       "bmw              453\n",
       "cadillac           5\n",
       "chevrolet         97\n",
       "chrysler          36\n",
       "citroen          357\n",
       "dacia             15\n",
       "daewoo            61\n",
       "daihatsu          45\n",
       "dodge              8\n",
       "ds                 2\n",
       "ferrari           12\n",
       "fiat             337\n",
       "ford             490\n",
       "honda             63\n",
       "hummer             2\n",
       "hyundai          129\n",
       "infiniti           2\n",
       "jaguar            55\n",
       "jeep              12\n",
       "kia              177\n",
       "lamborghini        2\n",
       "lancia            19\n",
       "land-rover        40\n",
       "landwind           1\n",
       "lexus              9\n",
       "ligier             1\n",
       "lincoln            5\n",
       "lotus              6\n",
       "maserati           8\n",
       "mazda             84\n",
       "mercedes-benz    485\n",
       "mg                15\n",
       "mini             121\n",
       "mitsubishi       107\n",
       "nissan           157\n",
       "opel             650\n",
       "peugeot          636\n",
       "pontiac            1\n",
       "porsche           71\n",
       "renault          790\n",
       "rolls-royce        2\n",
       "rover             12\n",
       "saab              79\n",
       "seat             272\n",
       "skoda            120\n",
       "smart             48\n",
       "ssangyong         11\n",
       "subaru            14\n",
       "suzuki           137\n",
       "toyota           246\n",
       "volkswagen       914\n",
       "volvo            325\n",
       "dtype: int64"
      ]
     },
     "execution_count": 668,
     "metadata": {},
     "output_type": "execute_result"
    },
    {
     "data": {
      "image/png": "[encoded data removed]",
      "text/plain": [
       "<Figure size 432x288 with 1 Axes>"
      ]
     },
     "metadata": {
      "needs_background": "light"
     },
     "output_type": "display_data"
    }
   ],
   "source": [
    "dt_car_train.groupby(dt_car_train['car_maker'].rename('Car maker')).size().plot.bar()\n",
    "dt_car_train.groupby(dt_car_train['car_maker'].rename('car_maker')).size()"
   ]
  },
  {
   "cell_type": "code",
   "execution_count": 669,
   "metadata": {},
   "outputs": [
    {
     "data": {
      "text/plain": [
       "# Doors\n",
       "2.0     984\n",
       "3.0    1268\n",
       "4.0    1830\n",
       "5.0    3581\n",
       "6.0       3\n",
       "dtype: int64"
      ]
     },
     "execution_count": 669,
     "metadata": {},
     "output_type": "execute_result"
    },
    {
     "data": {
      "image/png": "[encoded data removed]",
      "text/plain": [
       "<Figure size 432x288 with 1 Axes>"
      ]
     },
     "metadata": {
      "needs_background": "light"
     },
     "output_type": "display_data"
    }
   ],
   "source": [
    "dt_car_train.groupby(dt_car_train['n_doors'].rename('# Doors')).size().plot.bar()\n",
    "dt_car_train.groupby(dt_car_train['n_doors'].rename('# Doors')).size()"
   ]
  },
  {
   "cell_type": "code",
   "execution_count": 670,
   "metadata": {},
   "outputs": [
    {
     "data": {
      "text/plain": [
       "# cylinders\n",
       "1.0      31\n",
       "2.0      37\n",
       "3.0     724\n",
       "4.0    6001\n",
       "5.0     212\n",
       "6.0     574\n",
       "8.0     172\n",
       "dtype: int64"
      ]
     },
     "execution_count": 670,
     "metadata": {},
     "output_type": "execute_result"
    },
    {
     "data": {
      "image/png": "[encoded data removed]",
      "text/plain": [
       "<Figure size 432x288 with 1 Axes>"
      ]
     },
     "metadata": {
      "needs_background": "light"
     },
     "output_type": "display_data"
    }
   ],
   "source": [
    "dt_car_train.groupby(dt_car_train['n_cylinders'].rename('# cylinders')).size().plot.bar()\n",
    "dt_car_train.groupby(dt_car_train['n_cylinders'].rename('# cylinders')).size()"
   ]
  },
  {
   "cell_type": "code",
   "execution_count": 671,
   "metadata": {},
   "outputs": [
    {
     "data": {
      "text/plain": [
       "# seats\n",
       "2.0     198\n",
       "3.0       2\n",
       "4.0    1310\n",
       "5.0    5574\n",
       "6.0      16\n",
       "7.0     212\n",
       "8.0       8\n",
       "9.0      13\n",
       "dtype: int64"
      ]
     },
     "execution_count": 671,
     "metadata": {},
     "output_type": "execute_result"
    },
    {
     "data": {
      "image/png": "[encoded data removed]",
      "text/plain": [
       "<Figure size 432x288 with 1 Axes>"
      ]
     },
     "metadata": {
      "needs_background": "light"
     },
     "output_type": "display_data"
    }
   ],
   "source": [
    "dt_car_train.groupby(dt_car_train['n_seats'].rename('# seats')).size().plot.bar()\n",
    "dt_car_train.groupby(dt_car_train['n_seats'].rename('# seats')).size()"
   ]
  },
  {
   "cell_type": "code",
   "execution_count": 672,
   "metadata": {},
   "outputs": [
    {
     "data": {
      "text/plain": [
       "Car type\n",
       "bestelauto            1\n",
       "cabriolet           456\n",
       "coupe               224\n",
       "hatchback          3660\n",
       "mpv                 948\n",
       "rolstoelvervoer      13\n",
       "sedan               830\n",
       "stationwagon       1415\n",
       "terreinwagen         68\n",
       "dtype: int64"
      ]
     },
     "execution_count": 672,
     "metadata": {},
     "output_type": "execute_result"
    },
    {
     "data": {
      "image/png": "[encoded data removed]",
      "text/plain": [
       "<Figure size 432x288 with 1 Axes>"
      ]
     },
     "metadata": {
      "needs_background": "light"
     },
     "output_type": "display_data"
    }
   ],
   "source": [
    "dt_car_train.groupby(dt_car_train['car_type'].rename('Car type')).size().plot.bar()\n",
    "dt_car_train.groupby(dt_car_train['car_type'].rename('Car type')).size()"
   ]
  },
  {
   "cell_type": "code",
   "execution_count": 673,
   "metadata": {},
   "outputs": [
    {
     "data": {
      "text/plain": [
       "Car color\n",
       "Beige      152\n",
       "Black     1960\n",
       "Blue      1425\n",
       "Brown      119\n",
       "Gold        10\n",
       "Gray      2795\n",
       "Green      390\n",
       "Red        479\n",
       "Silver     194\n",
       "Violet      56\n",
       "White      479\n",
       "Yellow     101\n",
       "dtype: int64"
      ]
     },
     "execution_count": 673,
     "metadata": {},
     "output_type": "execute_result"
    },
    {
     "data": {
      "image/png": "[encoded data removed]",
      "text/plain": [
       "<Figure size 432x288 with 1 Axes>"
      ]
     },
     "metadata": {
      "needs_background": "light"
     },
     "output_type": "display_data"
    }
   ],
   "source": [
    "dt_car_train.groupby(dt_car_train['Color English'].rename('Car color')).size().plot.bar()\n",
    "dt_car_train.groupby(dt_car_train['Color English'].rename('Car color')).size()"
   ]
  },
  {
   "cell_type": "code",
   "execution_count": 674,
   "metadata": {},
   "outputs": [
    {
     "data": {
      "text/plain": [
       "transmission\n",
       "1 versnellingen, Automaat                            5\n",
       "1 versnellingen, Continu variabele transmissie       3\n",
       "2 versnellingen, Handgeschakeld                      2\n",
       "3 versnellingen, Automaat                            3\n",
       "3 versnellingen, Handgeschakeld                      1\n",
       "4 versnellingen                                      3\n",
       "5 versnellingen                                     34\n",
       "6 versnellingen                                      4\n",
       "9 versnellingen, Automaat                            2\n",
       "Automaat                                          1661\n",
       "Continu variabele transmissie                       10\n",
       "Handgeschakeld                                    6299\n",
       "Semi-automaat                                       36\n",
       "dtype: int64"
      ]
     },
     "execution_count": 674,
     "metadata": {},
     "output_type": "execute_result"
    },
    {
     "data": {
      "image/png": "[encoded data removed]",
      "text/plain": [
       "<Figure size 432x288 with 1 Axes>"
      ]
     },
     "metadata": {
      "needs_background": "light"
     },
     "output_type": "display_data"
    }
   ],
   "source": [
    "dt_car_train.groupby(dt_car_train['transmission'].rename('transmission')).size().plot.bar()\n",
    "dt_car_train.groupby(dt_car_train['transmission'].rename('transmission')).size()"
   ]
  },
  {
   "cell_type": "code",
   "execution_count": 675,
   "metadata": {},
   "outputs": [
    {
     "data": {
      "text/plain": [
       "emission_label\n",
       "Euro1       2\n",
       "Euro2     517\n",
       "Euro3    1110\n",
       "Euro4    2060\n",
       "Euro5    1477\n",
       "Euro6     269\n",
       "dtype: int64"
      ]
     },
     "execution_count": 675,
     "metadata": {},
     "output_type": "execute_result"
    },
    {
     "data": {
      "image/png": "[encoded data removed]",
      "text/plain": [
       "<Figure size 432x288 with 1 Axes>"
      ]
     },
     "metadata": {
      "needs_background": "light"
     },
     "output_type": "display_data"
    }
   ],
   "source": [
    "dt_car_train.groupby(dt_car_train['emission_label'].rename('emission_label')).size().plot.bar()\n",
    "dt_car_train.groupby(dt_car_train['emission_label'].rename('emission_label')).size()"
   ]
  },
  {
   "cell_type": "markdown",
   "metadata": {},
   "source": [
    "#### Continuous variables box plots "
   ]
  },
  {
   "cell_type": "code",
   "execution_count": 676,
   "metadata": {},
   "outputs": [
    {
     "data": {
      "text/html": [
       "<div>\n",
       "<style scoped>\n",
       "    .dataframe tbody tr th:only-of-type {\n",
       "        vertical-align: middle;\n",
       "    }\n",
       "\n",
       "    .dataframe tbody tr th {\n",
       "        vertical-align: top;\n",
       "    }\n",
       "\n",
       "    .dataframe thead th {\n",
       "        text-align: right;\n",
       "    }\n",
       "</style>\n",
       "<table border=\"1\" class=\"dataframe\">\n",
       "  <thead>\n",
       "    <tr style=\"text-align: right;\">\n",
       "      <th></th>\n",
       "      <th>year</th>\n",
       "      <th>mileage</th>\n",
       "      <th>power</th>\n",
       "      <th>n_doors</th>\n",
       "      <th>n_cylinders</th>\n",
       "      <th>displacement</th>\n",
       "      <th>dry_weight</th>\n",
       "      <th>acceleration</th>\n",
       "      <th>top_speed</th>\n",
       "      <th>n_seats</th>\n",
       "      <th>emission</th>\n",
       "      <th>class_rank</th>\n",
       "    </tr>\n",
       "  </thead>\n",
       "  <tbody>\n",
       "    <tr>\n",
       "      <th>count</th>\n",
       "      <td>8232.000000</td>\n",
       "      <td>8.232000e+03</td>\n",
       "      <td>7965.000000</td>\n",
       "      <td>7666.000000</td>\n",
       "      <td>7751.000000</td>\n",
       "      <td>7932.000000</td>\n",
       "      <td>7243.000000</td>\n",
       "      <td>6695.000000</td>\n",
       "      <td>6605.000000</td>\n",
       "      <td>7333.000000</td>\n",
       "      <td>7735.000000</td>\n",
       "      <td>8232.000000</td>\n",
       "    </tr>\n",
       "    <tr>\n",
       "      <th>mean</th>\n",
       "      <td>2006.228377</td>\n",
       "      <td>1.688634e+05</td>\n",
       "      <td>123.058632</td>\n",
       "      <td>4.045787</td>\n",
       "      <td>4.149271</td>\n",
       "      <td>1763.521054</td>\n",
       "      <td>1235.848681</td>\n",
       "      <td>20.562315</td>\n",
       "      <td>189.163210</td>\n",
       "      <td>4.810173</td>\n",
       "      <td>66.796639</td>\n",
       "      <td>3.366132</td>\n",
       "    </tr>\n",
       "    <tr>\n",
       "      <th>std</th>\n",
       "      <td>5.012421</td>\n",
       "      <td>1.051120e+05</td>\n",
       "      <td>68.829820</td>\n",
       "      <td>1.070321</td>\n",
       "      <td>0.897185</td>\n",
       "      <td>768.435187</td>\n",
       "      <td>312.482867</td>\n",
       "      <td>26.514121</td>\n",
       "      <td>27.761057</td>\n",
       "      <td>0.736745</td>\n",
       "      <td>66.230931</td>\n",
       "      <td>1.471491</td>\n",
       "    </tr>\n",
       "    <tr>\n",
       "      <th>min</th>\n",
       "      <td>1996.000000</td>\n",
       "      <td>0.000000e+00</td>\n",
       "      <td>0.000000</td>\n",
       "      <td>2.000000</td>\n",
       "      <td>1.000000</td>\n",
       "      <td>4.000000</td>\n",
       "      <td>100.000000</td>\n",
       "      <td>1.000000</td>\n",
       "      <td>45.000000</td>\n",
       "      <td>2.000000</td>\n",
       "      <td>1.000000</td>\n",
       "      <td>1.000000</td>\n",
       "    </tr>\n",
       "    <tr>\n",
       "      <th>25%</th>\n",
       "      <td>2002.000000</td>\n",
       "      <td>1.049720e+05</td>\n",
       "      <td>75.000000</td>\n",
       "      <td>3.000000</td>\n",
       "      <td>4.000000</td>\n",
       "      <td>1300.000000</td>\n",
       "      <td>1004.000000</td>\n",
       "      <td>10.000000</td>\n",
       "      <td>170.000000</td>\n",
       "      <td>5.000000</td>\n",
       "      <td>18.000000</td>\n",
       "      <td>2.000000</td>\n",
       "    </tr>\n",
       "    <tr>\n",
       "      <th>50%</th>\n",
       "      <td>2006.000000</td>\n",
       "      <td>1.600635e+05</td>\n",
       "      <td>109.000000</td>\n",
       "      <td>4.000000</td>\n",
       "      <td>4.000000</td>\n",
       "      <td>1598.000000</td>\n",
       "      <td>1221.000000</td>\n",
       "      <td>12.000000</td>\n",
       "      <td>185.000000</td>\n",
       "      <td>5.000000</td>\n",
       "      <td>53.000000</td>\n",
       "      <td>3.000000</td>\n",
       "    </tr>\n",
       "    <tr>\n",
       "      <th>75%</th>\n",
       "      <td>2010.000000</td>\n",
       "      <td>2.206745e+05</td>\n",
       "      <td>140.000000</td>\n",
       "      <td>5.000000</td>\n",
       "      <td>4.000000</td>\n",
       "      <td>1985.000000</td>\n",
       "      <td>1406.500000</td>\n",
       "      <td>14.000000</td>\n",
       "      <td>204.000000</td>\n",
       "      <td>5.000000</td>\n",
       "      <td>87.000000</td>\n",
       "      <td>4.000000</td>\n",
       "    </tr>\n",
       "    <tr>\n",
       "      <th>max</th>\n",
       "      <td>2015.000000</td>\n",
       "      <td>4.500142e+06</td>\n",
       "      <td>799.000000</td>\n",
       "      <td>6.000000</td>\n",
       "      <td>8.000000</td>\n",
       "      <td>12175.000000</td>\n",
       "      <td>3500.000000</td>\n",
       "      <td>99.900000</td>\n",
       "      <td>330.000000</td>\n",
       "      <td>9.000000</td>\n",
       "      <td>279.000000</td>\n",
       "      <td>6.000000</td>\n",
       "    </tr>\n",
       "  </tbody>\n",
       "</table>\n",
       "</div>"
      ],
      "text/plain": [
       "              year       mileage        power      n_doors  n_cylinders  \\\n",
       "count  8232.000000  8.232000e+03  7965.000000  7666.000000  7751.000000   \n",
       "mean   2006.228377  1.688634e+05   123.058632     4.045787     4.149271   \n",
       "std       5.012421  1.051120e+05    68.829820     1.070321     0.897185   \n",
       "min    1996.000000  0.000000e+00     0.000000     2.000000     1.000000   \n",
       "25%    2002.000000  1.049720e+05    75.000000     3.000000     4.000000   \n",
       "50%    2006.000000  1.600635e+05   109.000000     4.000000     4.000000   \n",
       "75%    2010.000000  2.206745e+05   140.000000     5.000000     4.000000   \n",
       "max    2015.000000  4.500142e+06   799.000000     6.000000     8.000000   \n",
       "\n",
       "       displacement   dry_weight  acceleration    top_speed      n_seats  \\\n",
       "count   7932.000000  7243.000000   6695.000000  6605.000000  7333.000000   \n",
       "mean    1763.521054  1235.848681     20.562315   189.163210     4.810173   \n",
       "std      768.435187   312.482867     26.514121    27.761057     0.736745   \n",
       "min        4.000000   100.000000      1.000000    45.000000     2.000000   \n",
       "25%     1300.000000  1004.000000     10.000000   170.000000     5.000000   \n",
       "50%     1598.000000  1221.000000     12.000000   185.000000     5.000000   \n",
       "75%     1985.000000  1406.500000     14.000000   204.000000     5.000000   \n",
       "max    12175.000000  3500.000000     99.900000   330.000000     9.000000   \n",
       "\n",
       "          emission   class_rank  \n",
       "count  7735.000000  8232.000000  \n",
       "mean     66.796639     3.366132  \n",
       "std      66.230931     1.471491  \n",
       "min       1.000000     1.000000  \n",
       "25%      18.000000     2.000000  \n",
       "50%      53.000000     3.000000  \n",
       "75%      87.000000     4.000000  \n",
       "max     279.000000     6.000000  "
      ]
     },
     "execution_count": 676,
     "metadata": {},
     "output_type": "execute_result"
    }
   ],
   "source": [
    "dt_car_numerical_only.describe()"
   ]
  },
  {
   "cell_type": "markdown",
   "metadata": {},
   "source": [
    "Single variables box plots"
   ]
  },
  {
   "cell_type": "code",
   "execution_count": 677,
   "metadata": {},
   "outputs": [
    {
     "data": {
      "image/png": "[encoded data removed]",
      "text/plain": [
       "<Figure size 432x288 with 1 Axes>"
      ]
     },
     "metadata": {
      "needs_background": "light"
     },
     "output_type": "display_data"
    }
   ],
   "source": [
    "boxplot_year = dt_car_numerical_only.boxplot(column=['year'])"
   ]
  },
  {
   "cell_type": "code",
   "execution_count": 678,
   "metadata": {},
   "outputs": [
    {
     "data": {
      "text/plain": [
       "<matplotlib.axes._subplots.AxesSubplot at 0x7f90993fc9d0>"
      ]
     },
     "execution_count": 678,
     "metadata": {},
     "output_type": "execute_result"
    },
    {
     "data": {
      "image/png": "[encoded data removed]",
      "text/plain": [
       "<Figure size 432x288 with 1 Axes>"
      ]
     },
     "metadata": {
      "needs_background": "light"
     },
     "output_type": "display_data"
    }
   ],
   "source": [
    "dt_car_numerical_only['year'].plot.hist(bins=18, alpha=0.5)"
   ]
  },
  {
   "cell_type": "code",
   "execution_count": 679,
   "metadata": {},
   "outputs": [
    {
     "data": {
      "image/png": "[encoded data removed]",
      "text/plain": [
       "<Figure size 432x288 with 1 Axes>"
      ]
     },
     "metadata": {
      "needs_background": "light"
     },
     "output_type": "display_data"
    }
   ],
   "source": [
    "boxplot_power = dt_car_numerical_only.boxplot(column=['power'])"
   ]
  },
  {
   "cell_type": "code",
   "execution_count": 680,
   "metadata": {},
   "outputs": [
    {
     "data": {
      "text/plain": [
       "<matplotlib.axes._subplots.AxesSubplot at 0x7f909a816b50>"
      ]
     },
     "execution_count": 680,
     "metadata": {},
     "output_type": "execute_result"
    },
    {
     "data": {
      "image/png": "[encoded data removed]",
      "text/plain": [
       "<Figure size 432x288 with 1 Axes>"
      ]
     },
     "metadata": {
      "needs_background": "light"
     },
     "output_type": "display_data"
    }
   ],
   "source": [
    "dt_car_numerical_only['power'].plot.hist(bins=10, alpha=0.5)"
   ]
  },
  {
   "cell_type": "code",
   "execution_count": 681,
   "metadata": {},
   "outputs": [
    {
     "data": {
      "image/png": "[encoded data removed]",
      "text/plain": [
       "<Figure size 432x288 with 1 Axes>"
      ]
     },
     "metadata": {
      "needs_background": "light"
     },
     "output_type": "display_data"
    }
   ],
   "source": [
    "boxplot_displacement = dt_car_numerical_only.boxplot(column=['displacement'])"
   ]
  },
  {
   "cell_type": "code",
   "execution_count": 682,
   "metadata": {},
   "outputs": [
    {
     "data": {
      "text/plain": [
       "<matplotlib.axes._subplots.AxesSubplot at 0x7f909a9db8d0>"
      ]
     },
     "execution_count": 682,
     "metadata": {},
     "output_type": "execute_result"
    },
    {
     "data": {
      "image/png": "[encoded data removed]",
      "text/plain": [
       "<Figure size 432x288 with 1 Axes>"
      ]
     },
     "metadata": {
      "needs_background": "light"
     },
     "output_type": "display_data"
    }
   ],
   "source": [
    "dt_car_numerical_only['displacement'].plot.hist(bins=15, alpha=0.5)"
   ]
  },
  {
   "cell_type": "code",
   "execution_count": 683,
   "metadata": {},
   "outputs": [
    {
     "data": {
      "image/png": "[encoded data removed]",
      "text/plain": [
       "<Figure size 432x288 with 1 Axes>"
      ]
     },
     "metadata": {
      "needs_background": "light"
     },
     "output_type": "display_data"
    }
   ],
   "source": [
    "boxplot_dry_weight = dt_car_numerical_only.boxplot(column=['dry_weight'])"
   ]
  },
  {
   "cell_type": "code",
   "execution_count": 684,
   "metadata": {},
   "outputs": [
    {
     "data": {
      "text/plain": [
       "<matplotlib.axes._subplots.AxesSubplot at 0x7f909ab904d0>"
      ]
     },
     "execution_count": 684,
     "metadata": {},
     "output_type": "execute_result"
    },
    {
     "data": {
      "image/png": "[encoded data removed]",
      "text/plain": [
       "<Figure size 432x288 with 1 Axes>"
      ]
     },
     "metadata": {
      "needs_background": "light"
     },
     "output_type": "display_data"
    }
   ],
   "source": [
    "dt_car_numerical_only['dry_weight'].plot.hist(bins=15, alpha=0.5)"
   ]
  },
  {
   "cell_type": "code",
   "execution_count": 685,
   "metadata": {},
   "outputs": [
    {
     "data": {
      "image/png": "[encoded data removed]",
      "text/plain": [
       "<Figure size 432x288 with 1 Axes>"
      ]
     },
     "metadata": {
      "needs_background": "light"
     },
     "output_type": "display_data"
    }
   ],
   "source": [
    "boxplot_acceleration = dt_car_numerical_only.boxplot(column=['acceleration']) "
   ]
  },
  {
   "cell_type": "code",
   "execution_count": 686,
   "metadata": {},
   "outputs": [
    {
     "data": {
      "text/plain": [
       "<matplotlib.axes._subplots.AxesSubplot at 0x7f909ac8af10>"
      ]
     },
     "execution_count": 686,
     "metadata": {},
     "output_type": "execute_result"
    },
    {
     "data": {
      "image/png": "[encoded data removed]",
      "text/plain": [
       "<Figure size 432x288 with 1 Axes>"
      ]
     },
     "metadata": {
      "needs_background": "light"
     },
     "output_type": "display_data"
    }
   ],
   "source": [
    "dt_car_numerical_only['acceleration'].plot.hist(bins=15, alpha=0.5)"
   ]
  },
  {
   "cell_type": "code",
   "execution_count": 687,
   "metadata": {},
   "outputs": [
    {
     "data": {
      "image/png": "[encoded data removed]",
      "text/plain": [
       "<Figure size 432x288 with 1 Axes>"
      ]
     },
     "metadata": {
      "needs_background": "light"
     },
     "output_type": "display_data"
    }
   ],
   "source": [
    "boxplot_top_speed = dt_car_numerical_only.boxplot(column=['top_speed']) "
   ]
  },
  {
   "cell_type": "code",
   "execution_count": 688,
   "metadata": {},
   "outputs": [
    {
     "data": {
      "text/plain": [
       "<matplotlib.axes._subplots.AxesSubplot at 0x7f909af4e3d0>"
      ]
     },
     "execution_count": 688,
     "metadata": {},
     "output_type": "execute_result"
    },
    {
     "data": {
      "image/png": "[encoded data removed]",
      "text/plain": [
       "<Figure size 432x288 with 1 Axes>"
      ]
     },
     "metadata": {
      "needs_background": "light"
     },
     "output_type": "display_data"
    }
   ],
   "source": [
    "dt_car_numerical_only['top_speed'].plot.hist(bins=15, alpha=0.5)"
   ]
  },
  {
   "cell_type": "code",
   "execution_count": 689,
   "metadata": {},
   "outputs": [
    {
     "data": {
      "image/png": "[encoded data removed]",
      "text/plain": [
       "<Figure size 432x288 with 1 Axes>"
      ]
     },
     "metadata": {
      "needs_background": "light"
     },
     "output_type": "display_data"
    }
   ],
   "source": [
    "boxplot_emission = dt_car_numerical_only.boxplot(column=['emission']) "
   ]
  },
  {
   "cell_type": "code",
   "execution_count": 690,
   "metadata": {},
   "outputs": [
    {
     "data": {
      "text/plain": [
       "<matplotlib.axes._subplots.AxesSubplot at 0x7f909b0d7b50>"
      ]
     },
     "execution_count": 690,
     "metadata": {},
     "output_type": "execute_result"
    },
    {
     "data": {
      "image/png": "[encoded data removed]",
      "text/plain": [
       "<Figure size 432x288 with 1 Axes>"
      ]
     },
     "metadata": {
      "needs_background": "light"
     },
     "output_type": "display_data"
    }
   ],
   "source": [
    "dt_car_numerical_only['emission'].plot.hist(bins=12, alpha=0.5)"
   ]
  },
  {
   "cell_type": "markdown",
   "metadata": {},
   "source": [
    "Kurtosis analysis\n",
    "\n",
    "The excess kurtosis is used in statistics and probability theory to compare the kurtosis coefficient with that normal distribution. Excess kurtosis can be positive (Leptokurtic distribution), negative (Platykurtic distribution), or near to zero (Mesokurtic distribution). Since normal distributions have a kurtosis of 3, excess kurtosis is calculating by subtracting kurtosis by 3.\n",
    "\n",
    "* Leptokurtic or heavy-tailed distribution (kurtosis more than normal distribution k>3\n",
    "* Mesokurtic (kurtosis same as the normal distribution) k=3\n",
    "* Platykurtic or short-tailed distribution (kurtosis less than normal distribution) k<3\n",
    "\n",
    "https://www.analyticsvidhya.com/blog/2021/05/shape-of-data-skewness-and-kurtosis/"
   ]
  },
  {
   "cell_type": "code",
   "execution_count": 691,
   "metadata": {},
   "outputs": [
    {
     "data": {
      "text/plain": [
       "year             -0.996997\n",
       "mileage         388.305563\n",
       "power            11.729197\n",
       "n_doors          -0.835789\n",
       "n_cylinders       6.917626\n",
       "displacement     16.020648\n",
       "dry_weight        1.803411\n",
       "acceleration      4.652644\n",
       "top_speed         1.977083\n",
       "n_seats           7.507658\n",
       "emission          2.279606\n",
       "class_rank       -0.718578\n",
       "dtype: float64"
      ]
     },
     "execution_count": 691,
     "metadata": {},
     "output_type": "execute_result"
    }
   ],
   "source": [
    "dt_car_numerical_only.kurtosis()"
   ]
  },
  {
   "cell_type": "markdown",
   "metadata": {},
   "source": [
    "Skewness analysis\n",
    "\n",
    "In statistics, skewness is a degree of asymmetry observed in a probability distribution that deviates from the symmetrical normal distribution (bell curve) in a given set of data. \n",
    "\n",
    "* The symmetrical distribution has zero skewness as all measures of a central tendency lies in the middle\n",
    "\n",
    "* In positively skewed, the mean of the data is greater than the median\n",
    "\n",
    "* In negatively skewed, the mean of the data is less than the median\n",
    "\n",
    "https://www.analyticsvidhya.com/blog/2021/05/shape-of-data-skewness-and-kurtosis/"
   ]
  },
  {
   "cell_type": "code",
   "execution_count": 692,
   "metadata": {},
   "outputs": [
    {
     "data": {
      "text/plain": [
       "year            -0.021382\n",
       "mileage         10.929960\n",
       "power            2.785604\n",
       "n_doors         -0.717530\n",
       "n_cylinders      1.990119\n",
       "displacement     3.042778\n",
       "dry_weight       0.875216\n",
       "acceleration     2.548357\n",
       "top_speed        0.982914\n",
       "n_seats         -0.544284\n",
       "emission         1.585311\n",
       "class_rank       0.231655\n",
       "dtype: float64"
      ]
     },
     "execution_count": 692,
     "metadata": {},
     "output_type": "execute_result"
    }
   ],
   "source": [
    "dt_car_numerical_only.skew()"
   ]
  },
  {
   "cell_type": "markdown",
   "metadata": {},
   "source": [
    "## bivariate analysis"
   ]
  },
  {
   "cell_type": "markdown",
   "metadata": {},
   "source": [
    "### Correlation analysis"
   ]
  },
  {
   "cell_type": "markdown",
   "metadata": {},
   "source": [
    "Spearman and Pearson correlation metrics\n",
    "\n",
    "https://www.analyticsvidhya.com/blog/2021/03/comparison-of-pearson-and-spearman-correlation-coefficients/"
   ]
  },
  {
   "cell_type": "code",
   "execution_count": 693,
   "metadata": {},
   "outputs": [
    {
     "data": {
      "text/html": [
       "<style  type=\"text/css\" >\n",
       "    #T_757be2d4_4beb_11ec_b2cc_acde48001122row0_col0 {\n",
       "            background-color:  #b40426;\n",
       "            color:  #f1f1f1;\n",
       "        }    #T_757be2d4_4beb_11ec_b2cc_acde48001122row0_col1 {\n",
       "            background-color:  #3b4cc0;\n",
       "            color:  #f1f1f1;\n",
       "        }    #T_757be2d4_4beb_11ec_b2cc_acde48001122row0_col2 {\n",
       "            background-color:  #7da0f9;\n",
       "            color:  #000000;\n",
       "        }    #T_757be2d4_4beb_11ec_b2cc_acde48001122row0_col3 {\n",
       "            background-color:  #a9c6fd;\n",
       "            color:  #000000;\n",
       "        }    #T_757be2d4_4beb_11ec_b2cc_acde48001122row0_col4 {\n",
       "            background-color:  #3b4cc0;\n",
       "            color:  #f1f1f1;\n",
       "        }    #T_757be2d4_4beb_11ec_b2cc_acde48001122row0_col5 {\n",
       "            background-color:  #3b4cc0;\n",
       "            color:  #f1f1f1;\n",
       "        }    #T_757be2d4_4beb_11ec_b2cc_acde48001122row0_col6 {\n",
       "            background-color:  #779af7;\n",
       "            color:  #000000;\n",
       "        }    #T_757be2d4_4beb_11ec_b2cc_acde48001122row0_col7 {\n",
       "            background-color:  #536edd;\n",
       "            color:  #000000;\n",
       "        }    #T_757be2d4_4beb_11ec_b2cc_acde48001122row0_col8 {\n",
       "            background-color:  #7ea1fa;\n",
       "            color:  #000000;\n",
       "        }    #T_757be2d4_4beb_11ec_b2cc_acde48001122row0_col9 {\n",
       "            background-color:  #4f69d9;\n",
       "            color:  #000000;\n",
       "        }    #T_757be2d4_4beb_11ec_b2cc_acde48001122row0_col10 {\n",
       "            background-color:  #7295f4;\n",
       "            color:  #000000;\n",
       "        }    #T_757be2d4_4beb_11ec_b2cc_acde48001122row0_col11 {\n",
       "            background-color:  #f18f71;\n",
       "            color:  #000000;\n",
       "        }    #T_757be2d4_4beb_11ec_b2cc_acde48001122row1_col0 {\n",
       "            background-color:  #3b4cc0;\n",
       "            color:  #f1f1f1;\n",
       "        }    #T_757be2d4_4beb_11ec_b2cc_acde48001122row1_col1 {\n",
       "            background-color:  #b40426;\n",
       "            color:  #f1f1f1;\n",
       "        }    #T_757be2d4_4beb_11ec_b2cc_acde48001122row1_col2 {\n",
       "            background-color:  #6180e9;\n",
       "            color:  #000000;\n",
       "        }    #T_757be2d4_4beb_11ec_b2cc_acde48001122row1_col3 {\n",
       "            background-color:  #7597f6;\n",
       "            color:  #000000;\n",
       "        }    #T_757be2d4_4beb_11ec_b2cc_acde48001122row1_col4 {\n",
       "            background-color:  #779af7;\n",
       "            color:  #000000;\n",
       "        }    #T_757be2d4_4beb_11ec_b2cc_acde48001122row1_col5 {\n",
       "            background-color:  #80a3fa;\n",
       "            color:  #000000;\n",
       "        }    #T_757be2d4_4beb_11ec_b2cc_acde48001122row1_col6 {\n",
       "            background-color:  #92b4fe;\n",
       "            color:  #000000;\n",
       "        }    #T_757be2d4_4beb_11ec_b2cc_acde48001122row1_col7 {\n",
       "            background-color:  #6687ed;\n",
       "            color:  #000000;\n",
       "        }    #T_757be2d4_4beb_11ec_b2cc_acde48001122row1_col8 {\n",
       "            background-color:  #7b9ff9;\n",
       "            color:  #000000;\n",
       "        }    #T_757be2d4_4beb_11ec_b2cc_acde48001122row1_col9 {\n",
       "            background-color:  #85a8fc;\n",
       "            color:  #000000;\n",
       "        }    #T_757be2d4_4beb_11ec_b2cc_acde48001122row1_col10 {\n",
       "            background-color:  #516ddb;\n",
       "            color:  #000000;\n",
       "        }    #T_757be2d4_4beb_11ec_b2cc_acde48001122row1_col11 {\n",
       "            background-color:  #3b4cc0;\n",
       "            color:  #f1f1f1;\n",
       "        }    #T_757be2d4_4beb_11ec_b2cc_acde48001122row2_col0 {\n",
       "            background-color:  #b2ccfb;\n",
       "            color:  #000000;\n",
       "        }    #T_757be2d4_4beb_11ec_b2cc_acde48001122row2_col1 {\n",
       "            background-color:  #9abbff;\n",
       "            color:  #000000;\n",
       "        }    #T_757be2d4_4beb_11ec_b2cc_acde48001122row2_col2 {\n",
       "            background-color:  #b40426;\n",
       "            color:  #f1f1f1;\n",
       "        }    #T_757be2d4_4beb_11ec_b2cc_acde48001122row2_col3 {\n",
       "            background-color:  #536edd;\n",
       "            color:  #000000;\n",
       "        }    #T_757be2d4_4beb_11ec_b2cc_acde48001122row2_col4 {\n",
       "            background-color:  #f7ad90;\n",
       "            color:  #000000;\n",
       "        }    #T_757be2d4_4beb_11ec_b2cc_acde48001122row2_col5 {\n",
       "            background-color:  #de614d;\n",
       "            color:  #000000;\n",
       "        }    #T_757be2d4_4beb_11ec_b2cc_acde48001122row2_col6 {\n",
       "            background-color:  #f29274;\n",
       "            color:  #000000;\n",
       "        }    #T_757be2d4_4beb_11ec_b2cc_acde48001122row2_col7 {\n",
       "            background-color:  #4257c9;\n",
       "            color:  #f1f1f1;\n",
       "        }    #T_757be2d4_4beb_11ec_b2cc_acde48001122row2_col8 {\n",
       "            background-color:  #d85646;\n",
       "            color:  #000000;\n",
       "        }    #T_757be2d4_4beb_11ec_b2cc_acde48001122row2_col9 {\n",
       "            background-color:  #3b4cc0;\n",
       "            color:  #f1f1f1;\n",
       "        }    #T_757be2d4_4beb_11ec_b2cc_acde48001122row2_col10 {\n",
       "            background-color:  #86a9fc;\n",
       "            color:  #000000;\n",
       "        }    #T_757be2d4_4beb_11ec_b2cc_acde48001122row2_col11 {\n",
       "            background-color:  #f5c0a7;\n",
       "            color:  #000000;\n",
       "        }    #T_757be2d4_4beb_11ec_b2cc_acde48001122row3_col0 {\n",
       "            background-color:  #d2dbe8;\n",
       "            color:  #000000;\n",
       "        }    #T_757be2d4_4beb_11ec_b2cc_acde48001122row3_col1 {\n",
       "            background-color:  #abc8fd;\n",
       "            color:  #000000;\n",
       "        }    #T_757be2d4_4beb_11ec_b2cc_acde48001122row3_col2 {\n",
       "            background-color:  #536edd;\n",
       "            color:  #000000;\n",
       "        }    #T_757be2d4_4beb_11ec_b2cc_acde48001122row3_col3 {\n",
       "            background-color:  #b40426;\n",
       "            color:  #f1f1f1;\n",
       "        }    #T_757be2d4_4beb_11ec_b2cc_acde48001122row3_col4 {\n",
       "            background-color:  #465ecf;\n",
       "            color:  #f1f1f1;\n",
       "        }    #T_757be2d4_4beb_11ec_b2cc_acde48001122row3_col5 {\n",
       "            background-color:  #4c66d6;\n",
       "            color:  #000000;\n",
       "        }    #T_757be2d4_4beb_11ec_b2cc_acde48001122row3_col6 {\n",
       "            background-color:  #8caffe;\n",
       "            color:  #000000;\n",
       "        }    #T_757be2d4_4beb_11ec_b2cc_acde48001122row3_col7 {\n",
       "            background-color:  #4257c9;\n",
       "            color:  #f1f1f1;\n",
       "        }    #T_757be2d4_4beb_11ec_b2cc_acde48001122row3_col8 {\n",
       "            background-color:  #5a78e4;\n",
       "            color:  #000000;\n",
       "        }    #T_757be2d4_4beb_11ec_b2cc_acde48001122row3_col9 {\n",
       "            background-color:  #dfdbd9;\n",
       "            color:  #000000;\n",
       "        }    #T_757be2d4_4beb_11ec_b2cc_acde48001122row3_col10 {\n",
       "            background-color:  #6485ec;\n",
       "            color:  #000000;\n",
       "        }    #T_757be2d4_4beb_11ec_b2cc_acde48001122row3_col11 {\n",
       "            background-color:  #abc8fd;\n",
       "            color:  #000000;\n",
       "        }    #T_757be2d4_4beb_11ec_b2cc_acde48001122row4_col0 {\n",
       "            background-color:  #7ea1fa;\n",
       "            color:  #000000;\n",
       "        }    #T_757be2d4_4beb_11ec_b2cc_acde48001122row4_col1 {\n",
       "            background-color:  #b2ccfb;\n",
       "            color:  #000000;\n",
       "        }    #T_757be2d4_4beb_11ec_b2cc_acde48001122row4_col2 {\n",
       "            background-color:  #f7ac8e;\n",
       "            color:  #000000;\n",
       "        }    #T_757be2d4_4beb_11ec_b2cc_acde48001122row4_col3 {\n",
       "            background-color:  #4c66d6;\n",
       "            color:  #000000;\n",
       "        }    #T_757be2d4_4beb_11ec_b2cc_acde48001122row4_col4 {\n",
       "            background-color:  #b40426;\n",
       "            color:  #f1f1f1;\n",
       "        }    #T_757be2d4_4beb_11ec_b2cc_acde48001122row4_col5 {\n",
       "            background-color:  #f59d7e;\n",
       "            color:  #000000;\n",
       "        }    #T_757be2d4_4beb_11ec_b2cc_acde48001122row4_col6 {\n",
       "            background-color:  #f5c1a9;\n",
       "            color:  #000000;\n",
       "        }    #T_757be2d4_4beb_11ec_b2cc_acde48001122row4_col7 {\n",
       "            background-color:  #516ddb;\n",
       "            color:  #000000;\n",
       "        }    #T_757be2d4_4beb_11ec_b2cc_acde48001122row4_col8 {\n",
       "            background-color:  #f6bea4;\n",
       "            color:  #000000;\n",
       "        }    #T_757be2d4_4beb_11ec_b2cc_acde48001122row4_col9 {\n",
       "            background-color:  #516ddb;\n",
       "            color:  #000000;\n",
       "        }    #T_757be2d4_4beb_11ec_b2cc_acde48001122row4_col10 {\n",
       "            background-color:  #5f7fe8;\n",
       "            color:  #000000;\n",
       "        }    #T_757be2d4_4beb_11ec_b2cc_acde48001122row4_col11 {\n",
       "            background-color:  #d3dbe7;\n",
       "            color:  #000000;\n",
       "        }    #T_757be2d4_4beb_11ec_b2cc_acde48001122row5_col0 {\n",
       "            background-color:  #80a3fa;\n",
       "            color:  #000000;\n",
       "        }    #T_757be2d4_4beb_11ec_b2cc_acde48001122row5_col1 {\n",
       "            background-color:  #b9d0f9;\n",
       "            color:  #000000;\n",
       "        }    #T_757be2d4_4beb_11ec_b2cc_acde48001122row5_col2 {\n",
       "            background-color:  #dd5f4b;\n",
       "            color:  #000000;\n",
       "        }    #T_757be2d4_4beb_11ec_b2cc_acde48001122row5_col3 {\n",
       "            background-color:  #536edd;\n",
       "            color:  #000000;\n",
       "        }    #T_757be2d4_4beb_11ec_b2cc_acde48001122row5_col4 {\n",
       "            background-color:  #f59d7e;\n",
       "            color:  #000000;\n",
       "        }    #T_757be2d4_4beb_11ec_b2cc_acde48001122row5_col5 {\n",
       "            background-color:  #b40426;\n",
       "            color:  #f1f1f1;\n",
       "        }    #T_757be2d4_4beb_11ec_b2cc_acde48001122row5_col6 {\n",
       "            background-color:  #f08a6c;\n",
       "            color:  #000000;\n",
       "        }    #T_757be2d4_4beb_11ec_b2cc_acde48001122row5_col7 {\n",
       "            background-color:  #4961d2;\n",
       "            color:  #f1f1f1;\n",
       "        }    #T_757be2d4_4beb_11ec_b2cc_acde48001122row5_col8 {\n",
       "            background-color:  #ec7f63;\n",
       "            color:  #000000;\n",
       "        }    #T_757be2d4_4beb_11ec_b2cc_acde48001122row5_col9 {\n",
       "            background-color:  #536edd;\n",
       "            color:  #000000;\n",
       "        }    #T_757be2d4_4beb_11ec_b2cc_acde48001122row5_col10 {\n",
       "            background-color:  #80a3fa;\n",
       "            color:  #000000;\n",
       "        }    #T_757be2d4_4beb_11ec_b2cc_acde48001122row5_col11 {\n",
       "            background-color:  #e2dad5;\n",
       "            color:  #000000;\n",
       "        }    #T_757be2d4_4beb_11ec_b2cc_acde48001122row6_col0 {\n",
       "            background-color:  #b5cdfa;\n",
       "            color:  #000000;\n",
       "        }    #T_757be2d4_4beb_11ec_b2cc_acde48001122row6_col1 {\n",
       "            background-color:  #c7d7f0;\n",
       "            color:  #000000;\n",
       "        }    #T_757be2d4_4beb_11ec_b2cc_acde48001122row6_col2 {\n",
       "            background-color:  #f18f71;\n",
       "            color:  #000000;\n",
       "        }    #T_757be2d4_4beb_11ec_b2cc_acde48001122row6_col3 {\n",
       "            background-color:  #94b6ff;\n",
       "            color:  #000000;\n",
       "        }    #T_757be2d4_4beb_11ec_b2cc_acde48001122row6_col4 {\n",
       "            background-color:  #f5c0a7;\n",
       "            color:  #000000;\n",
       "        }    #T_757be2d4_4beb_11ec_b2cc_acde48001122row6_col5 {\n",
       "            background-color:  #ef886b;\n",
       "            color:  #000000;\n",
       "        }    #T_757be2d4_4beb_11ec_b2cc_acde48001122row6_col6 {\n",
       "            background-color:  #b40426;\n",
       "            color:  #f1f1f1;\n",
       "        }    #T_757be2d4_4beb_11ec_b2cc_acde48001122row6_col7 {\n",
       "            background-color:  #4b64d5;\n",
       "            color:  #f1f1f1;\n",
       "        }    #T_757be2d4_4beb_11ec_b2cc_acde48001122row6_col8 {\n",
       "            background-color:  #f59d7e;\n",
       "            color:  #000000;\n",
       "        }    #T_757be2d4_4beb_11ec_b2cc_acde48001122row6_col9 {\n",
       "            background-color:  #a2c1ff;\n",
       "            color:  #000000;\n",
       "        }    #T_757be2d4_4beb_11ec_b2cc_acde48001122row6_col10 {\n",
       "            background-color:  #82a6fb;\n",
       "            color:  #000000;\n",
       "        }    #T_757be2d4_4beb_11ec_b2cc_acde48001122row6_col11 {\n",
       "            background-color:  #f1ccb8;\n",
       "            color:  #000000;\n",
       "        }    #T_757be2d4_4beb_11ec_b2cc_acde48001122row7_col0 {\n",
       "            background-color:  #86a9fc;\n",
       "            color:  #000000;\n",
       "        }    #T_757be2d4_4beb_11ec_b2cc_acde48001122row7_col1 {\n",
       "            background-color:  #98b9ff;\n",
       "            color:  #000000;\n",
       "        }    #T_757be2d4_4beb_11ec_b2cc_acde48001122row7_col2 {\n",
       "            background-color:  #3b4cc0;\n",
       "            color:  #f1f1f1;\n",
       "        }    #T_757be2d4_4beb_11ec_b2cc_acde48001122row7_col3 {\n",
       "            background-color:  #3b4cc0;\n",
       "            color:  #f1f1f1;\n",
       "        }    #T_757be2d4_4beb_11ec_b2cc_acde48001122row7_col4 {\n",
       "            background-color:  #445acc;\n",
       "            color:  #f1f1f1;\n",
       "        }    #T_757be2d4_4beb_11ec_b2cc_acde48001122row7_col5 {\n",
       "            background-color:  #3b4cc0;\n",
       "            color:  #f1f1f1;\n",
       "        }    #T_757be2d4_4beb_11ec_b2cc_acde48001122row7_col6 {\n",
       "            background-color:  #3b4cc0;\n",
       "            color:  #f1f1f1;\n",
       "        }    #T_757be2d4_4beb_11ec_b2cc_acde48001122row7_col7 {\n",
       "            background-color:  #b40426;\n",
       "            color:  #f1f1f1;\n",
       "        }    #T_757be2d4_4beb_11ec_b2cc_acde48001122row7_col8 {\n",
       "            background-color:  #3b4cc0;\n",
       "            color:  #f1f1f1;\n",
       "        }    #T_757be2d4_4beb_11ec_b2cc_acde48001122row7_col9 {\n",
       "            background-color:  #4a63d3;\n",
       "            color:  #f1f1f1;\n",
       "        }    #T_757be2d4_4beb_11ec_b2cc_acde48001122row7_col10 {\n",
       "            background-color:  #3b4cc0;\n",
       "            color:  #f1f1f1;\n",
       "        }    #T_757be2d4_4beb_11ec_b2cc_acde48001122row7_col11 {\n",
       "            background-color:  #7b9ff9;\n",
       "            color:  #000000;\n",
       "        }    #T_757be2d4_4beb_11ec_b2cc_acde48001122row8_col0 {\n",
       "            background-color:  #aec9fc;\n",
       "            color:  #000000;\n",
       "        }    #T_757be2d4_4beb_11ec_b2cc_acde48001122row8_col1 {\n",
       "            background-color:  #abc8fd;\n",
       "            color:  #000000;\n",
       "        }    #T_757be2d4_4beb_11ec_b2cc_acde48001122row8_col2 {\n",
       "            background-color:  #d85646;\n",
       "            color:  #000000;\n",
       "        }    #T_757be2d4_4beb_11ec_b2cc_acde48001122row8_col3 {\n",
       "            background-color:  #536edd;\n",
       "            color:  #000000;\n",
       "        }    #T_757be2d4_4beb_11ec_b2cc_acde48001122row8_col4 {\n",
       "            background-color:  #f5c4ac;\n",
       "            color:  #000000;\n",
       "        }    #T_757be2d4_4beb_11ec_b2cc_acde48001122row8_col5 {\n",
       "            background-color:  #ed8366;\n",
       "            color:  #000000;\n",
       "        }    #T_757be2d4_4beb_11ec_b2cc_acde48001122row8_col6 {\n",
       "            background-color:  #f6a385;\n",
       "            color:  #000000;\n",
       "        }    #T_757be2d4_4beb_11ec_b2cc_acde48001122row8_col7 {\n",
       "            background-color:  #3b4cc0;\n",
       "            color:  #f1f1f1;\n",
       "        }    #T_757be2d4_4beb_11ec_b2cc_acde48001122row8_col8 {\n",
       "            background-color:  #b40426;\n",
       "            color:  #f1f1f1;\n",
       "        }    #T_757be2d4_4beb_11ec_b2cc_acde48001122row8_col9 {\n",
       "            background-color:  #3c4ec2;\n",
       "            color:  #f1f1f1;\n",
       "        }    #T_757be2d4_4beb_11ec_b2cc_acde48001122row8_col10 {\n",
       "            background-color:  #779af7;\n",
       "            color:  #000000;\n",
       "        }    #T_757be2d4_4beb_11ec_b2cc_acde48001122row8_col11 {\n",
       "            background-color:  #f3c8b2;\n",
       "            color:  #000000;\n",
       "        }    #T_757be2d4_4beb_11ec_b2cc_acde48001122row9_col0 {\n",
       "            background-color:  #9fbfff;\n",
       "            color:  #000000;\n",
       "        }    #T_757be2d4_4beb_11ec_b2cc_acde48001122row9_col1 {\n",
       "            background-color:  #c7d7f0;\n",
       "            color:  #000000;\n",
       "        }    #T_757be2d4_4beb_11ec_b2cc_acde48001122row9_col2 {\n",
       "            background-color:  #516ddb;\n",
       "            color:  #000000;\n",
       "        }    #T_757be2d4_4beb_11ec_b2cc_acde48001122row9_col3 {\n",
       "            background-color:  #e8d6cc;\n",
       "            color:  #000000;\n",
       "        }    #T_757be2d4_4beb_11ec_b2cc_acde48001122row9_col4 {\n",
       "            background-color:  #6384eb;\n",
       "            color:  #000000;\n",
       "        }    #T_757be2d4_4beb_11ec_b2cc_acde48001122row9_col5 {\n",
       "            background-color:  #6384eb;\n",
       "            color:  #000000;\n",
       "        }    #T_757be2d4_4beb_11ec_b2cc_acde48001122row9_col6 {\n",
       "            background-color:  #adc9fd;\n",
       "            color:  #000000;\n",
       "        }    #T_757be2d4_4beb_11ec_b2cc_acde48001122row9_col7 {\n",
       "            background-color:  #688aef;\n",
       "            color:  #000000;\n",
       "        }    #T_757be2d4_4beb_11ec_b2cc_acde48001122row9_col8 {\n",
       "            background-color:  #5a78e4;\n",
       "            color:  #000000;\n",
       "        }    #T_757be2d4_4beb_11ec_b2cc_acde48001122row9_col9 {\n",
       "            background-color:  #b40426;\n",
       "            color:  #f1f1f1;\n",
       "        }    #T_757be2d4_4beb_11ec_b2cc_acde48001122row9_col10 {\n",
       "            background-color:  #4f69d9;\n",
       "            color:  #000000;\n",
       "        }    #T_757be2d4_4beb_11ec_b2cc_acde48001122row9_col11 {\n",
       "            background-color:  #8caffe;\n",
       "            color:  #000000;\n",
       "        }    #T_757be2d4_4beb_11ec_b2cc_acde48001122row10_col0 {\n",
       "            background-color:  #b7cff9;\n",
       "            color:  #000000;\n",
       "        }    #T_757be2d4_4beb_11ec_b2cc_acde48001122row10_col1 {\n",
       "            background-color:  #9ebeff;\n",
       "            color:  #000000;\n",
       "        }    #T_757be2d4_4beb_11ec_b2cc_acde48001122row10_col2 {\n",
       "            background-color:  #97b8ff;\n",
       "            color:  #000000;\n",
       "        }    #T_757be2d4_4beb_11ec_b2cc_acde48001122row10_col3 {\n",
       "            background-color:  #779af7;\n",
       "            color:  #000000;\n",
       "        }    #T_757be2d4_4beb_11ec_b2cc_acde48001122row10_col4 {\n",
       "            background-color:  #6b8df0;\n",
       "            color:  #000000;\n",
       "        }    #T_757be2d4_4beb_11ec_b2cc_acde48001122row10_col5 {\n",
       "            background-color:  #8caffe;\n",
       "            color:  #000000;\n",
       "        }    #T_757be2d4_4beb_11ec_b2cc_acde48001122row10_col6 {\n",
       "            background-color:  #8badfd;\n",
       "            color:  #000000;\n",
       "        }    #T_757be2d4_4beb_11ec_b2cc_acde48001122row10_col7 {\n",
       "            background-color:  #5572df;\n",
       "            color:  #000000;\n",
       "        }    #T_757be2d4_4beb_11ec_b2cc_acde48001122row10_col8 {\n",
       "            background-color:  #90b2fe;\n",
       "            color:  #000000;\n",
       "        }    #T_757be2d4_4beb_11ec_b2cc_acde48001122row10_col9 {\n",
       "            background-color:  #4b64d5;\n",
       "            color:  #f1f1f1;\n",
       "        }    #T_757be2d4_4beb_11ec_b2cc_acde48001122row10_col10 {\n",
       "            background-color:  #b40426;\n",
       "            color:  #f1f1f1;\n",
       "        }    #T_757be2d4_4beb_11ec_b2cc_acde48001122row10_col11 {\n",
       "            background-color:  #b2ccfb;\n",
       "            color:  #000000;\n",
       "        }    #T_757be2d4_4beb_11ec_b2cc_acde48001122row11_col0 {\n",
       "            background-color:  #f18d6f;\n",
       "            color:  #000000;\n",
       "        }    #T_757be2d4_4beb_11ec_b2cc_acde48001122row11_col1 {\n",
       "            background-color:  #3c4ec2;\n",
       "            color:  #f1f1f1;\n",
       "        }    #T_757be2d4_4beb_11ec_b2cc_acde48001122row11_col2 {\n",
       "            background-color:  #ead4c8;\n",
       "            color:  #000000;\n",
       "        }    #T_757be2d4_4beb_11ec_b2cc_acde48001122row11_col3 {\n",
       "            background-color:  #7699f6;\n",
       "            color:  #000000;\n",
       "        }    #T_757be2d4_4beb_11ec_b2cc_acde48001122row11_col4 {\n",
       "            background-color:  #a9c6fd;\n",
       "            color:  #000000;\n",
       "        }    #T_757be2d4_4beb_11ec_b2cc_acde48001122row11_col5 {\n",
       "            background-color:  #bfd3f6;\n",
       "            color:  #000000;\n",
       "        }    #T_757be2d4_4beb_11ec_b2cc_acde48001122row11_col6 {\n",
       "            background-color:  #dadce0;\n",
       "            color:  #000000;\n",
       "        }    #T_757be2d4_4beb_11ec_b2cc_acde48001122row11_col7 {\n",
       "            background-color:  #485fd1;\n",
       "            color:  #f1f1f1;\n",
       "        }    #T_757be2d4_4beb_11ec_b2cc_acde48001122row11_col8 {\n",
       "            background-color:  #e6d7cf;\n",
       "            color:  #000000;\n",
       "        }    #T_757be2d4_4beb_11ec_b2cc_acde48001122row11_col9 {\n",
       "            background-color:  #3b4cc0;\n",
       "            color:  #f1f1f1;\n",
       "        }    #T_757be2d4_4beb_11ec_b2cc_acde48001122row11_col10 {\n",
       "            background-color:  #6c8ff1;\n",
       "            color:  #000000;\n",
       "        }    #T_757be2d4_4beb_11ec_b2cc_acde48001122row11_col11 {\n",
       "            background-color:  #b40426;\n",
       "            color:  #f1f1f1;\n",
       "        }</style><table id=\"T_757be2d4_4beb_11ec_b2cc_acde48001122\" ><thead>    <tr>        <th class=\"blank level0\" ></th>        <th class=\"col_heading level0 col0\" >year</th>        <th class=\"col_heading level0 col1\" >mileage</th>        <th class=\"col_heading level0 col2\" >power</th>        <th class=\"col_heading level0 col3\" >n_doors</th>        <th class=\"col_heading level0 col4\" >n_cylinders</th>        <th class=\"col_heading level0 col5\" >displacement</th>        <th class=\"col_heading level0 col6\" >dry_weight</th>        <th class=\"col_heading level0 col7\" >acceleration</th>        <th class=\"col_heading level0 col8\" >top_speed</th>        <th class=\"col_heading level0 col9\" >n_seats</th>        <th class=\"col_heading level0 col10\" >emission</th>        <th class=\"col_heading level0 col11\" >class_rank</th>    </tr></thead><tbody>\n",
       "                <tr>\n",
       "                        <th id=\"T_757be2d4_4beb_11ec_b2cc_acde48001122level0_row0\" class=\"row_heading level0 row0\" >year</th>\n",
       "                        <td id=\"T_757be2d4_4beb_11ec_b2cc_acde48001122row0_col0\" class=\"data row0 col0\" >1.000000</td>\n",
       "                        <td id=\"T_757be2d4_4beb_11ec_b2cc_acde48001122row0_col1\" class=\"data row0 col1\" >-0.409212</td>\n",
       "                        <td id=\"T_757be2d4_4beb_11ec_b2cc_acde48001122row0_col2\" class=\"data row0 col2\" >0.093170</td>\n",
       "                        <td id=\"T_757be2d4_4beb_11ec_b2cc_acde48001122row0_col3\" class=\"data row0 col3\" >0.236375</td>\n",
       "                        <td id=\"T_757be2d4_4beb_11ec_b2cc_acde48001122row0_col4\" class=\"data row0 col4\" >-0.117123</td>\n",
       "                        <td id=\"T_757be2d4_4beb_11ec_b2cc_acde48001122row0_col5\" class=\"data row0 col5\" >-0.110033</td>\n",
       "                        <td id=\"T_757be2d4_4beb_11ec_b2cc_acde48001122row0_col6\" class=\"data row0 col6\" >0.105935</td>\n",
       "                        <td id=\"T_757be2d4_4beb_11ec_b2cc_acde48001122row0_col7\" class=\"data row0 col7\" >-0.079443</td>\n",
       "                        <td id=\"T_757be2d4_4beb_11ec_b2cc_acde48001122row0_col8\" class=\"data row0 col8\" >0.075306</td>\n",
       "                        <td id=\"T_757be2d4_4beb_11ec_b2cc_acde48001122row0_col9\" class=\"data row0 col9\" >0.018334</td>\n",
       "                        <td id=\"T_757be2d4_4beb_11ec_b2cc_acde48001122row0_col10\" class=\"data row0 col10\" >0.118059</td>\n",
       "                        <td id=\"T_757be2d4_4beb_11ec_b2cc_acde48001122row0_col11\" class=\"data row0 col11\" >0.686327</td>\n",
       "            </tr>\n",
       "            <tr>\n",
       "                        <th id=\"T_757be2d4_4beb_11ec_b2cc_acde48001122level0_row1\" class=\"row_heading level0 row1\" >mileage</th>\n",
       "                        <td id=\"T_757be2d4_4beb_11ec_b2cc_acde48001122row1_col0\" class=\"data row1 col0\" >-0.409212</td>\n",
       "                        <td id=\"T_757be2d4_4beb_11ec_b2cc_acde48001122row1_col1\" class=\"data row1 col1\" >1.000000</td>\n",
       "                        <td id=\"T_757be2d4_4beb_11ec_b2cc_acde48001122row1_col2\" class=\"data row1 col2\" >-0.002426</td>\n",
       "                        <td id=\"T_757be2d4_4beb_11ec_b2cc_acde48001122row1_col3\" class=\"data row1 col3\" >0.067356</td>\n",
       "                        <td id=\"T_757be2d4_4beb_11ec_b2cc_acde48001122row1_col4\" class=\"data row1 col4\" >0.094560</td>\n",
       "                        <td id=\"T_757be2d4_4beb_11ec_b2cc_acde48001122row1_col5\" class=\"data row1 col5\" >0.123629</td>\n",
       "                        <td id=\"T_757be2d4_4beb_11ec_b2cc_acde48001122row1_col6\" class=\"data row1 col6\" >0.189358</td>\n",
       "                        <td id=\"T_757be2d4_4beb_11ec_b2cc_acde48001122row1_col7\" class=\"data row1 col7\" >-0.008302</td>\n",
       "                        <td id=\"T_757be2d4_4beb_11ec_b2cc_acde48001122row1_col8\" class=\"data row1 col8\" >0.065810</td>\n",
       "                        <td id=\"T_757be2d4_4beb_11ec_b2cc_acde48001122row1_col9\" class=\"data row1 col9\" >0.187105</td>\n",
       "                        <td id=\"T_757be2d4_4beb_11ec_b2cc_acde48001122row1_col10\" class=\"data row1 col10\" >0.012500</td>\n",
       "                        <td id=\"T_757be2d4_4beb_11ec_b2cc_acde48001122row1_col11\" class=\"data row1 col11\" >-0.400422</td>\n",
       "            </tr>\n",
       "            <tr>\n",
       "                        <th id=\"T_757be2d4_4beb_11ec_b2cc_acde48001122level0_row2\" class=\"row_heading level0 row2\" >power</th>\n",
       "                        <td id=\"T_757be2d4_4beb_11ec_b2cc_acde48001122row2_col0\" class=\"data row2 col0\" >0.093170</td>\n",
       "                        <td id=\"T_757be2d4_4beb_11ec_b2cc_acde48001122row2_col1\" class=\"data row2 col1\" >-0.002426</td>\n",
       "                        <td id=\"T_757be2d4_4beb_11ec_b2cc_acde48001122row2_col2\" class=\"data row2 col2\" >1.000000</td>\n",
       "                        <td id=\"T_757be2d4_4beb_11ec_b2cc_acde48001122row2_col3\" class=\"data row2 col3\" >-0.049932</td>\n",
       "                        <td id=\"T_757be2d4_4beb_11ec_b2cc_acde48001122row2_col4\" class=\"data row2 col4\" >0.660452</td>\n",
       "                        <td id=\"T_757be2d4_4beb_11ec_b2cc_acde48001122row2_col5\" class=\"data row2 col5\" >0.858758</td>\n",
       "                        <td id=\"T_757be2d4_4beb_11ec_b2cc_acde48001122row2_col6\" class=\"data row2 col6\" >0.741450</td>\n",
       "                        <td id=\"T_757be2d4_4beb_11ec_b2cc_acde48001122row2_col7\" class=\"data row2 col7\" >-0.141718</td>\n",
       "                        <td id=\"T_757be2d4_4beb_11ec_b2cc_acde48001122row2_col8\" class=\"data row2 col8\" >0.875261</td>\n",
       "                        <td id=\"T_757be2d4_4beb_11ec_b2cc_acde48001122row2_col9\" class=\"data row2 col9\" >-0.053811</td>\n",
       "                        <td id=\"T_757be2d4_4beb_11ec_b2cc_acde48001122row2_col10\" class=\"data row2 col10\" >0.178464</td>\n",
       "                        <td id=\"T_757be2d4_4beb_11ec_b2cc_acde48001122row2_col11\" class=\"data row2 col11\" >0.491832</td>\n",
       "            </tr>\n",
       "            <tr>\n",
       "                        <th id=\"T_757be2d4_4beb_11ec_b2cc_acde48001122level0_row3\" class=\"row_heading level0 row3\" >n_doors</th>\n",
       "                        <td id=\"T_757be2d4_4beb_11ec_b2cc_acde48001122row3_col0\" class=\"data row3 col0\" >0.236375</td>\n",
       "                        <td id=\"T_757be2d4_4beb_11ec_b2cc_acde48001122row3_col1\" class=\"data row3 col1\" >0.067356</td>\n",
       "                        <td id=\"T_757be2d4_4beb_11ec_b2cc_acde48001122row3_col2\" class=\"data row3 col2\" >-0.049932</td>\n",
       "                        <td id=\"T_757be2d4_4beb_11ec_b2cc_acde48001122row3_col3\" class=\"data row3 col3\" >1.000000</td>\n",
       "                        <td id=\"T_757be2d4_4beb_11ec_b2cc_acde48001122row3_col4\" class=\"data row3 col4\" >-0.070080</td>\n",
       "                        <td id=\"T_757be2d4_4beb_11ec_b2cc_acde48001122row3_col5\" class=\"data row3 col5\" >-0.047345</td>\n",
       "                        <td id=\"T_757be2d4_4beb_11ec_b2cc_acde48001122row3_col6\" class=\"data row3 col6\" >0.169052</td>\n",
       "                        <td id=\"T_757be2d4_4beb_11ec_b2cc_acde48001122row3_col7\" class=\"data row3 col7\" >-0.140244</td>\n",
       "                        <td id=\"T_757be2d4_4beb_11ec_b2cc_acde48001122row3_col8\" class=\"data row3 col8\" >-0.049930</td>\n",
       "                        <td id=\"T_757be2d4_4beb_11ec_b2cc_acde48001122row3_col9\" class=\"data row3 col9\" >0.482580</td>\n",
       "                        <td id=\"T_757be2d4_4beb_11ec_b2cc_acde48001122row3_col10\" class=\"data row3 col10\" >0.075802</td>\n",
       "                        <td id=\"T_757be2d4_4beb_11ec_b2cc_acde48001122row3_col11\" class=\"data row3 col11\" >0.072076</td>\n",
       "            </tr>\n",
       "            <tr>\n",
       "                        <th id=\"T_757be2d4_4beb_11ec_b2cc_acde48001122level0_row4\" class=\"row_heading level0 row4\" >n_cylinders</th>\n",
       "                        <td id=\"T_757be2d4_4beb_11ec_b2cc_acde48001122row4_col0\" class=\"data row4 col0\" >-0.117123</td>\n",
       "                        <td id=\"T_757be2d4_4beb_11ec_b2cc_acde48001122row4_col1\" class=\"data row4 col1\" >0.094560</td>\n",
       "                        <td id=\"T_757be2d4_4beb_11ec_b2cc_acde48001122row4_col2\" class=\"data row4 col2\" >0.660452</td>\n",
       "                        <td id=\"T_757be2d4_4beb_11ec_b2cc_acde48001122row4_col3\" class=\"data row4 col3\" >-0.070080</td>\n",
       "                        <td id=\"T_757be2d4_4beb_11ec_b2cc_acde48001122row4_col4\" class=\"data row4 col4\" >1.000000</td>\n",
       "                        <td id=\"T_757be2d4_4beb_11ec_b2cc_acde48001122row4_col5\" class=\"data row4 col5\" >0.711964</td>\n",
       "                        <td id=\"T_757be2d4_4beb_11ec_b2cc_acde48001122row4_col6\" class=\"data row4 col6\" >0.596852</td>\n",
       "                        <td id=\"T_757be2d4_4beb_11ec_b2cc_acde48001122row4_col7\" class=\"data row4 col7\" >-0.080392</td>\n",
       "                        <td id=\"T_757be2d4_4beb_11ec_b2cc_acde48001122row4_col8\" class=\"data row4 col8\" >0.585112</td>\n",
       "                        <td id=\"T_757be2d4_4beb_11ec_b2cc_acde48001122row4_col9\" class=\"data row4 col9\" >0.026976</td>\n",
       "                        <td id=\"T_757be2d4_4beb_11ec_b2cc_acde48001122row4_col10\" class=\"data row4 col10\" >0.056999</td>\n",
       "                        <td id=\"T_757be2d4_4beb_11ec_b2cc_acde48001122row4_col11\" class=\"data row4 col11\" >0.250374</td>\n",
       "            </tr>\n",
       "            <tr>\n",
       "                        <th id=\"T_757be2d4_4beb_11ec_b2cc_acde48001122level0_row5\" class=\"row_heading level0 row5\" >displacement</th>\n",
       "                        <td id=\"T_757be2d4_4beb_11ec_b2cc_acde48001122row5_col0\" class=\"data row5 col0\" >-0.110033</td>\n",
       "                        <td id=\"T_757be2d4_4beb_11ec_b2cc_acde48001122row5_col1\" class=\"data row5 col1\" >0.123629</td>\n",
       "                        <td id=\"T_757be2d4_4beb_11ec_b2cc_acde48001122row5_col2\" class=\"data row5 col2\" >0.858758</td>\n",
       "                        <td id=\"T_757be2d4_4beb_11ec_b2cc_acde48001122row5_col3\" class=\"data row5 col3\" >-0.047345</td>\n",
       "                        <td id=\"T_757be2d4_4beb_11ec_b2cc_acde48001122row5_col4\" class=\"data row5 col4\" >0.711964</td>\n",
       "                        <td id=\"T_757be2d4_4beb_11ec_b2cc_acde48001122row5_col5\" class=\"data row5 col5\" >1.000000</td>\n",
       "                        <td id=\"T_757be2d4_4beb_11ec_b2cc_acde48001122row5_col6\" class=\"data row5 col6\" >0.765850</td>\n",
       "                        <td id=\"T_757be2d4_4beb_11ec_b2cc_acde48001122row5_col7\" class=\"data row5 col7\" >-0.114230</td>\n",
       "                        <td id=\"T_757be2d4_4beb_11ec_b2cc_acde48001122row5_col8\" class=\"data row5 col8\" >0.779007</td>\n",
       "                        <td id=\"T_757be2d4_4beb_11ec_b2cc_acde48001122row5_col9\" class=\"data row5 col9\" >0.031397</td>\n",
       "                        <td id=\"T_757be2d4_4beb_11ec_b2cc_acde48001122row5_col10\" class=\"data row5 col10\" >0.160471</td>\n",
       "                        <td id=\"T_757be2d4_4beb_11ec_b2cc_acde48001122row5_col11\" class=\"data row5 col11\" >0.327603</td>\n",
       "            </tr>\n",
       "            <tr>\n",
       "                        <th id=\"T_757be2d4_4beb_11ec_b2cc_acde48001122level0_row6\" class=\"row_heading level0 row6\" >dry_weight</th>\n",
       "                        <td id=\"T_757be2d4_4beb_11ec_b2cc_acde48001122row6_col0\" class=\"data row6 col0\" >0.105935</td>\n",
       "                        <td id=\"T_757be2d4_4beb_11ec_b2cc_acde48001122row6_col1\" class=\"data row6 col1\" >0.189358</td>\n",
       "                        <td id=\"T_757be2d4_4beb_11ec_b2cc_acde48001122row6_col2\" class=\"data row6 col2\" >0.741450</td>\n",
       "                        <td id=\"T_757be2d4_4beb_11ec_b2cc_acde48001122row6_col3\" class=\"data row6 col3\" >0.169052</td>\n",
       "                        <td id=\"T_757be2d4_4beb_11ec_b2cc_acde48001122row6_col4\" class=\"data row6 col4\" >0.596852</td>\n",
       "                        <td id=\"T_757be2d4_4beb_11ec_b2cc_acde48001122row6_col5\" class=\"data row6 col5\" >0.765850</td>\n",
       "                        <td id=\"T_757be2d4_4beb_11ec_b2cc_acde48001122row6_col6\" class=\"data row6 col6\" >1.000000</td>\n",
       "                        <td id=\"T_757be2d4_4beb_11ec_b2cc_acde48001122row6_col7\" class=\"data row6 col7\" >-0.103592</td>\n",
       "                        <td id=\"T_757be2d4_4beb_11ec_b2cc_acde48001122row6_col8\" class=\"data row6 col8\" >0.697332</td>\n",
       "                        <td id=\"T_757be2d4_4beb_11ec_b2cc_acde48001122row6_col9\" class=\"data row6 col9\" >0.271604</td>\n",
       "                        <td id=\"T_757be2d4_4beb_11ec_b2cc_acde48001122row6_col10\" class=\"data row6 col10\" >0.166332</td>\n",
       "                        <td id=\"T_757be2d4_4beb_11ec_b2cc_acde48001122row6_col11\" class=\"data row6 col11\" >0.435708</td>\n",
       "            </tr>\n",
       "            <tr>\n",
       "                        <th id=\"T_757be2d4_4beb_11ec_b2cc_acde48001122level0_row7\" class=\"row_heading level0 row7\" >acceleration</th>\n",
       "                        <td id=\"T_757be2d4_4beb_11ec_b2cc_acde48001122row7_col0\" class=\"data row7 col0\" >-0.079443</td>\n",
       "                        <td id=\"T_757be2d4_4beb_11ec_b2cc_acde48001122row7_col1\" class=\"data row7 col1\" >-0.008302</td>\n",
       "                        <td id=\"T_757be2d4_4beb_11ec_b2cc_acde48001122row7_col2\" class=\"data row7 col2\" >-0.141718</td>\n",
       "                        <td id=\"T_757be2d4_4beb_11ec_b2cc_acde48001122row7_col3\" class=\"data row7 col3\" >-0.140244</td>\n",
       "                        <td id=\"T_757be2d4_4beb_11ec_b2cc_acde48001122row7_col4\" class=\"data row7 col4\" >-0.080392</td>\n",
       "                        <td id=\"T_757be2d4_4beb_11ec_b2cc_acde48001122row7_col5\" class=\"data row7 col5\" >-0.114230</td>\n",
       "                        <td id=\"T_757be2d4_4beb_11ec_b2cc_acde48001122row7_col6\" class=\"data row7 col6\" >-0.103592</td>\n",
       "                        <td id=\"T_757be2d4_4beb_11ec_b2cc_acde48001122row7_col7\" class=\"data row7 col7\" >1.000000</td>\n",
       "                        <td id=\"T_757be2d4_4beb_11ec_b2cc_acde48001122row7_col8\" class=\"data row7 col8\" >-0.170968</td>\n",
       "                        <td id=\"T_757be2d4_4beb_11ec_b2cc_acde48001122row7_col9\" class=\"data row7 col9\" >-0.000622</td>\n",
       "                        <td id=\"T_757be2d4_4beb_11ec_b2cc_acde48001122row7_col10\" class=\"data row7 col10\" >-0.068868</td>\n",
       "                        <td id=\"T_757be2d4_4beb_11ec_b2cc_acde48001122row7_col11\" class=\"data row7 col11\" >-0.119921</td>\n",
       "            </tr>\n",
       "            <tr>\n",
       "                        <th id=\"T_757be2d4_4beb_11ec_b2cc_acde48001122level0_row8\" class=\"row_heading level0 row8\" >top_speed</th>\n",
       "                        <td id=\"T_757be2d4_4beb_11ec_b2cc_acde48001122row8_col0\" class=\"data row8 col0\" >0.075306</td>\n",
       "                        <td id=\"T_757be2d4_4beb_11ec_b2cc_acde48001122row8_col1\" class=\"data row8 col1\" >0.065810</td>\n",
       "                        <td id=\"T_757be2d4_4beb_11ec_b2cc_acde48001122row8_col2\" class=\"data row8 col2\" >0.875261</td>\n",
       "                        <td id=\"T_757be2d4_4beb_11ec_b2cc_acde48001122row8_col3\" class=\"data row8 col3\" >-0.049930</td>\n",
       "                        <td id=\"T_757be2d4_4beb_11ec_b2cc_acde48001122row8_col4\" class=\"data row8 col4\" >0.585112</td>\n",
       "                        <td id=\"T_757be2d4_4beb_11ec_b2cc_acde48001122row8_col5\" class=\"data row8 col5\" >0.779007</td>\n",
       "                        <td id=\"T_757be2d4_4beb_11ec_b2cc_acde48001122row8_col6\" class=\"data row8 col6\" >0.697332</td>\n",
       "                        <td id=\"T_757be2d4_4beb_11ec_b2cc_acde48001122row8_col7\" class=\"data row8 col7\" >-0.170968</td>\n",
       "                        <td id=\"T_757be2d4_4beb_11ec_b2cc_acde48001122row8_col8\" class=\"data row8 col8\" >1.000000</td>\n",
       "                        <td id=\"T_757be2d4_4beb_11ec_b2cc_acde48001122row8_col9\" class=\"data row8 col9\" >-0.048546</td>\n",
       "                        <td id=\"T_757be2d4_4beb_11ec_b2cc_acde48001122row8_col10\" class=\"data row8 col10\" >0.133244</td>\n",
       "                        <td id=\"T_757be2d4_4beb_11ec_b2cc_acde48001122row8_col11\" class=\"data row8 col11\" >0.455751</td>\n",
       "            </tr>\n",
       "            <tr>\n",
       "                        <th id=\"T_757be2d4_4beb_11ec_b2cc_acde48001122level0_row9\" class=\"row_heading level0 row9\" >n_seats</th>\n",
       "                        <td id=\"T_757be2d4_4beb_11ec_b2cc_acde48001122row9_col0\" class=\"data row9 col0\" >0.018334</td>\n",
       "                        <td id=\"T_757be2d4_4beb_11ec_b2cc_acde48001122row9_col1\" class=\"data row9 col1\" >0.187105</td>\n",
       "                        <td id=\"T_757be2d4_4beb_11ec_b2cc_acde48001122row9_col2\" class=\"data row9 col2\" >-0.053811</td>\n",
       "                        <td id=\"T_757be2d4_4beb_11ec_b2cc_acde48001122row9_col3\" class=\"data row9 col3\" >0.482580</td>\n",
       "                        <td id=\"T_757be2d4_4beb_11ec_b2cc_acde48001122row9_col4\" class=\"data row9 col4\" >0.026976</td>\n",
       "                        <td id=\"T_757be2d4_4beb_11ec_b2cc_acde48001122row9_col5\" class=\"data row9 col5\" >0.031397</td>\n",
       "                        <td id=\"T_757be2d4_4beb_11ec_b2cc_acde48001122row9_col6\" class=\"data row9 col6\" >0.271604</td>\n",
       "                        <td id=\"T_757be2d4_4beb_11ec_b2cc_acde48001122row9_col7\" class=\"data row9 col7\" >-0.000622</td>\n",
       "                        <td id=\"T_757be2d4_4beb_11ec_b2cc_acde48001122row9_col8\" class=\"data row9 col8\" >-0.048546</td>\n",
       "                        <td id=\"T_757be2d4_4beb_11ec_b2cc_acde48001122row9_col9\" class=\"data row9 col9\" >1.000000</td>\n",
       "                        <td id=\"T_757be2d4_4beb_11ec_b2cc_acde48001122row9_col10\" class=\"data row9 col10\" >0.004047</td>\n",
       "                        <td id=\"T_757be2d4_4beb_11ec_b2cc_acde48001122row9_col11\" class=\"data row9 col11\" >-0.054770</td>\n",
       "            </tr>\n",
       "            <tr>\n",
       "                        <th id=\"T_757be2d4_4beb_11ec_b2cc_acde48001122level0_row10\" class=\"row_heading level0 row10\" >emission</th>\n",
       "                        <td id=\"T_757be2d4_4beb_11ec_b2cc_acde48001122row10_col0\" class=\"data row10 col0\" >0.118059</td>\n",
       "                        <td id=\"T_757be2d4_4beb_11ec_b2cc_acde48001122row10_col1\" class=\"data row10 col1\" >0.012500</td>\n",
       "                        <td id=\"T_757be2d4_4beb_11ec_b2cc_acde48001122row10_col2\" class=\"data row10 col2\" >0.178464</td>\n",
       "                        <td id=\"T_757be2d4_4beb_11ec_b2cc_acde48001122row10_col3\" class=\"data row10 col3\" >0.075802</td>\n",
       "                        <td id=\"T_757be2d4_4beb_11ec_b2cc_acde48001122row10_col4\" class=\"data row10 col4\" >0.056999</td>\n",
       "                        <td id=\"T_757be2d4_4beb_11ec_b2cc_acde48001122row10_col5\" class=\"data row10 col5\" >0.160471</td>\n",
       "                        <td id=\"T_757be2d4_4beb_11ec_b2cc_acde48001122row10_col6\" class=\"data row10 col6\" >0.166332</td>\n",
       "                        <td id=\"T_757be2d4_4beb_11ec_b2cc_acde48001122row10_col7\" class=\"data row10 col7\" >-0.068868</td>\n",
       "                        <td id=\"T_757be2d4_4beb_11ec_b2cc_acde48001122row10_col8\" class=\"data row10 col8\" >0.133244</td>\n",
       "                        <td id=\"T_757be2d4_4beb_11ec_b2cc_acde48001122row10_col9\" class=\"data row10 col9\" >0.004047</td>\n",
       "                        <td id=\"T_757be2d4_4beb_11ec_b2cc_acde48001122row10_col10\" class=\"data row10 col10\" >1.000000</td>\n",
       "                        <td id=\"T_757be2d4_4beb_11ec_b2cc_acde48001122row10_col11\" class=\"data row10 col11\" >0.099448</td>\n",
       "            </tr>\n",
       "            <tr>\n",
       "                        <th id=\"T_757be2d4_4beb_11ec_b2cc_acde48001122level0_row11\" class=\"row_heading level0 row11\" >class_rank</th>\n",
       "                        <td id=\"T_757be2d4_4beb_11ec_b2cc_acde48001122row11_col0\" class=\"data row11 col0\" >0.686327</td>\n",
       "                        <td id=\"T_757be2d4_4beb_11ec_b2cc_acde48001122row11_col1\" class=\"data row11 col1\" >-0.400422</td>\n",
       "                        <td id=\"T_757be2d4_4beb_11ec_b2cc_acde48001122row11_col2\" class=\"data row11 col2\" >0.491832</td>\n",
       "                        <td id=\"T_757be2d4_4beb_11ec_b2cc_acde48001122row11_col3\" class=\"data row11 col3\" >0.072076</td>\n",
       "                        <td id=\"T_757be2d4_4beb_11ec_b2cc_acde48001122row11_col4\" class=\"data row11 col4\" >0.250374</td>\n",
       "                        <td id=\"T_757be2d4_4beb_11ec_b2cc_acde48001122row11_col5\" class=\"data row11 col5\" >0.327603</td>\n",
       "                        <td id=\"T_757be2d4_4beb_11ec_b2cc_acde48001122row11_col6\" class=\"data row11 col6\" >0.435708</td>\n",
       "                        <td id=\"T_757be2d4_4beb_11ec_b2cc_acde48001122row11_col7\" class=\"data row11 col7\" >-0.119921</td>\n",
       "                        <td id=\"T_757be2d4_4beb_11ec_b2cc_acde48001122row11_col8\" class=\"data row11 col8\" >0.455751</td>\n",
       "                        <td id=\"T_757be2d4_4beb_11ec_b2cc_acde48001122row11_col9\" class=\"data row11 col9\" >-0.054770</td>\n",
       "                        <td id=\"T_757be2d4_4beb_11ec_b2cc_acde48001122row11_col10\" class=\"data row11 col10\" >0.099448</td>\n",
       "                        <td id=\"T_757be2d4_4beb_11ec_b2cc_acde48001122row11_col11\" class=\"data row11 col11\" >1.000000</td>\n",
       "            </tr>\n",
       "    </tbody></table>"
      ],
      "text/plain": [
       "<pandas.io.formats.style.Styler at 0x7f909b34f6d0>"
      ]
     },
     "execution_count": 693,
     "metadata": {},
     "output_type": "execute_result"
    }
   ],
   "source": [
    "correlation_matrix_pearson = dt_car_numerical_only.corr(method = 'pearson')\n",
    "correlation_matrix_pearson.style.background_gradient(cmap='coolwarm')"
   ]
  },
  {
   "cell_type": "code",
   "execution_count": 694,
   "metadata": {},
   "outputs": [
    {
     "data": {
      "text/html": [
       "<style  type=\"text/css\" >\n",
       "    #T_75c635e6_4beb_11ec_b2cc_acde48001122row0_col0 {\n",
       "            background-color:  #b40426;\n",
       "            color:  #f1f1f1;\n",
       "        }    #T_75c635e6_4beb_11ec_b2cc_acde48001122row0_col1 {\n",
       "            background-color:  #3b4cc0;\n",
       "            color:  #f1f1f1;\n",
       "        }    #T_75c635e6_4beb_11ec_b2cc_acde48001122row0_col2 {\n",
       "            background-color:  #d8dce2;\n",
       "            color:  #000000;\n",
       "        }    #T_75c635e6_4beb_11ec_b2cc_acde48001122row0_col3 {\n",
       "            background-color:  #98b9ff;\n",
       "            color:  #000000;\n",
       "        }    #T_75c635e6_4beb_11ec_b2cc_acde48001122row0_col4 {\n",
       "            background-color:  #7a9df8;\n",
       "            color:  #000000;\n",
       "        }    #T_75c635e6_4beb_11ec_b2cc_acde48001122row0_col5 {\n",
       "            background-color:  #96b7ff;\n",
       "            color:  #000000;\n",
       "        }    #T_75c635e6_4beb_11ec_b2cc_acde48001122row0_col6 {\n",
       "            background-color:  #c7d7f0;\n",
       "            color:  #000000;\n",
       "        }    #T_75c635e6_4beb_11ec_b2cc_acde48001122row0_col7 {\n",
       "            background-color:  #bed2f6;\n",
       "            color:  #000000;\n",
       "        }    #T_75c635e6_4beb_11ec_b2cc_acde48001122row0_col8 {\n",
       "            background-color:  #dcdddd;\n",
       "            color:  #000000;\n",
       "        }    #T_75c635e6_4beb_11ec_b2cc_acde48001122row0_col9 {\n",
       "            background-color:  #445acc;\n",
       "            color:  #f1f1f1;\n",
       "        }    #T_75c635e6_4beb_11ec_b2cc_acde48001122row0_col10 {\n",
       "            background-color:  #5977e3;\n",
       "            color:  #000000;\n",
       "        }    #T_75c635e6_4beb_11ec_b2cc_acde48001122row0_col11 {\n",
       "            background-color:  #ec7f63;\n",
       "            color:  #000000;\n",
       "        }    #T_75c635e6_4beb_11ec_b2cc_acde48001122row1_col0 {\n",
       "            background-color:  #3b4cc0;\n",
       "            color:  #f1f1f1;\n",
       "        }    #T_75c635e6_4beb_11ec_b2cc_acde48001122row1_col1 {\n",
       "            background-color:  #b40426;\n",
       "            color:  #f1f1f1;\n",
       "        }    #T_75c635e6_4beb_11ec_b2cc_acde48001122row1_col2 {\n",
       "            background-color:  #dedcdb;\n",
       "            color:  #000000;\n",
       "        }    #T_75c635e6_4beb_11ec_b2cc_acde48001122row1_col3 {\n",
       "            background-color:  #5b7ae5;\n",
       "            color:  #000000;\n",
       "        }    #T_75c635e6_4beb_11ec_b2cc_acde48001122row1_col4 {\n",
       "            background-color:  #d2dbe8;\n",
       "            color:  #000000;\n",
       "        }    #T_75c635e6_4beb_11ec_b2cc_acde48001122row1_col5 {\n",
       "            background-color:  #efcebd;\n",
       "            color:  #000000;\n",
       "        }    #T_75c635e6_4beb_11ec_b2cc_acde48001122row1_col6 {\n",
       "            background-color:  #e2dad5;\n",
       "            color:  #000000;\n",
       "        }    #T_75c635e6_4beb_11ec_b2cc_acde48001122row1_col7 {\n",
       "            background-color:  #cbd8ee;\n",
       "            color:  #000000;\n",
       "        }    #T_75c635e6_4beb_11ec_b2cc_acde48001122row1_col8 {\n",
       "            background-color:  #e7d7ce;\n",
       "            color:  #000000;\n",
       "        }    #T_75c635e6_4beb_11ec_b2cc_acde48001122row1_col9 {\n",
       "            background-color:  #9ebeff;\n",
       "            color:  #000000;\n",
       "        }    #T_75c635e6_4beb_11ec_b2cc_acde48001122row1_col10 {\n",
       "            background-color:  #97b8ff;\n",
       "            color:  #000000;\n",
       "        }    #T_75c635e6_4beb_11ec_b2cc_acde48001122row1_col11 {\n",
       "            background-color:  #3b4cc0;\n",
       "            color:  #f1f1f1;\n",
       "        }    #T_75c635e6_4beb_11ec_b2cc_acde48001122row2_col0 {\n",
       "            background-color:  #c3d5f4;\n",
       "            color:  #000000;\n",
       "        }    #T_75c635e6_4beb_11ec_b2cc_acde48001122row2_col1 {\n",
       "            background-color:  #cbd8ee;\n",
       "            color:  #000000;\n",
       "        }    #T_75c635e6_4beb_11ec_b2cc_acde48001122row2_col2 {\n",
       "            background-color:  #b40426;\n",
       "            color:  #f1f1f1;\n",
       "        }    #T_75c635e6_4beb_11ec_b2cc_acde48001122row2_col3 {\n",
       "            background-color:  #6687ed;\n",
       "            color:  #000000;\n",
       "        }    #T_75c635e6_4beb_11ec_b2cc_acde48001122row2_col4 {\n",
       "            background-color:  #f5a081;\n",
       "            color:  #000000;\n",
       "        }    #T_75c635e6_4beb_11ec_b2cc_acde48001122row2_col5 {\n",
       "            background-color:  #d24b40;\n",
       "            color:  #f1f1f1;\n",
       "        }    #T_75c635e6_4beb_11ec_b2cc_acde48001122row2_col6 {\n",
       "            background-color:  #d0473d;\n",
       "            color:  #f1f1f1;\n",
       "        }    #T_75c635e6_4beb_11ec_b2cc_acde48001122row2_col7 {\n",
       "            background-color:  #4b64d5;\n",
       "            color:  #f1f1f1;\n",
       "        }    #T_75c635e6_4beb_11ec_b2cc_acde48001122row2_col8 {\n",
       "            background-color:  #c12b30;\n",
       "            color:  #f1f1f1;\n",
       "        }    #T_75c635e6_4beb_11ec_b2cc_acde48001122row2_col9 {\n",
       "            background-color:  #7ea1fa;\n",
       "            color:  #000000;\n",
       "        }    #T_75c635e6_4beb_11ec_b2cc_acde48001122row2_col10 {\n",
       "            background-color:  #aec9fc;\n",
       "            color:  #000000;\n",
       "        }    #T_75c635e6_4beb_11ec_b2cc_acde48001122row2_col11 {\n",
       "            background-color:  #f5c2aa;\n",
       "            color:  #000000;\n",
       "        }    #T_75c635e6_4beb_11ec_b2cc_acde48001122row3_col0 {\n",
       "            background-color:  #dddcdc;\n",
       "            color:  #000000;\n",
       "        }    #T_75c635e6_4beb_11ec_b2cc_acde48001122row3_col1 {\n",
       "            background-color:  #b9d0f9;\n",
       "            color:  #000000;\n",
       "        }    #T_75c635e6_4beb_11ec_b2cc_acde48001122row3_col2 {\n",
       "            background-color:  #d6dce4;\n",
       "            color:  #000000;\n",
       "        }    #T_75c635e6_4beb_11ec_b2cc_acde48001122row3_col3 {\n",
       "            background-color:  #b40426;\n",
       "            color:  #f1f1f1;\n",
       "        }    #T_75c635e6_4beb_11ec_b2cc_acde48001122row3_col4 {\n",
       "            background-color:  #94b6ff;\n",
       "            color:  #000000;\n",
       "        }    #T_75c635e6_4beb_11ec_b2cc_acde48001122row3_col5 {\n",
       "            background-color:  #bed2f6;\n",
       "            color:  #000000;\n",
       "        }    #T_75c635e6_4beb_11ec_b2cc_acde48001122row3_col6 {\n",
       "            background-color:  #d4dbe6;\n",
       "            color:  #000000;\n",
       "        }    #T_75c635e6_4beb_11ec_b2cc_acde48001122row3_col7 {\n",
       "            background-color:  #c9d7f0;\n",
       "            color:  #000000;\n",
       "        }    #T_75c635e6_4beb_11ec_b2cc_acde48001122row3_col8 {\n",
       "            background-color:  #d3dbe7;\n",
       "            color:  #000000;\n",
       "        }    #T_75c635e6_4beb_11ec_b2cc_acde48001122row3_col9 {\n",
       "            background-color:  #dcdddd;\n",
       "            color:  #000000;\n",
       "        }    #T_75c635e6_4beb_11ec_b2cc_acde48001122row3_col10 {\n",
       "            background-color:  #80a3fa;\n",
       "            color:  #000000;\n",
       "        }    #T_75c635e6_4beb_11ec_b2cc_acde48001122row3_col11 {\n",
       "            background-color:  #c0d4f5;\n",
       "            color:  #000000;\n",
       "        }    #T_75c635e6_4beb_11ec_b2cc_acde48001122row4_col0 {\n",
       "            background-color:  #86a9fc;\n",
       "            color:  #000000;\n",
       "        }    #T_75c635e6_4beb_11ec_b2cc_acde48001122row4_col1 {\n",
       "            background-color:  #d8dce2;\n",
       "            color:  #000000;\n",
       "        }    #T_75c635e6_4beb_11ec_b2cc_acde48001122row4_col2 {\n",
       "            background-color:  #f18f71;\n",
       "            color:  #000000;\n",
       "        }    #T_75c635e6_4beb_11ec_b2cc_acde48001122row4_col3 {\n",
       "            background-color:  #3b4cc0;\n",
       "            color:  #f1f1f1;\n",
       "        }    #T_75c635e6_4beb_11ec_b2cc_acde48001122row4_col4 {\n",
       "            background-color:  #b40426;\n",
       "            color:  #f1f1f1;\n",
       "        }    #T_75c635e6_4beb_11ec_b2cc_acde48001122row4_col5 {\n",
       "            background-color:  #ee8669;\n",
       "            color:  #000000;\n",
       "        }    #T_75c635e6_4beb_11ec_b2cc_acde48001122row4_col6 {\n",
       "            background-color:  #f59f80;\n",
       "            color:  #000000;\n",
       "        }    #T_75c635e6_4beb_11ec_b2cc_acde48001122row4_col7 {\n",
       "            background-color:  #80a3fa;\n",
       "            color:  #000000;\n",
       "        }    #T_75c635e6_4beb_11ec_b2cc_acde48001122row4_col8 {\n",
       "            background-color:  #f39475;\n",
       "            color:  #000000;\n",
       "        }    #T_75c635e6_4beb_11ec_b2cc_acde48001122row4_col9 {\n",
       "            background-color:  #7396f5;\n",
       "            color:  #000000;\n",
       "        }    #T_75c635e6_4beb_11ec_b2cc_acde48001122row4_col10 {\n",
       "            background-color:  #89acfd;\n",
       "            color:  #000000;\n",
       "        }    #T_75c635e6_4beb_11ec_b2cc_acde48001122row4_col11 {\n",
       "            background-color:  #cdd9ec;\n",
       "            color:  #000000;\n",
       "        }    #T_75c635e6_4beb_11ec_b2cc_acde48001122row5_col0 {\n",
       "            background-color:  #89acfd;\n",
       "            color:  #000000;\n",
       "        }    #T_75c635e6_4beb_11ec_b2cc_acde48001122row5_col1 {\n",
       "            background-color:  #ecd3c5;\n",
       "            color:  #000000;\n",
       "        }    #T_75c635e6_4beb_11ec_b2cc_acde48001122row5_col2 {\n",
       "            background-color:  #d0473d;\n",
       "            color:  #f1f1f1;\n",
       "        }    #T_75c635e6_4beb_11ec_b2cc_acde48001122row5_col3 {\n",
       "            background-color:  #5470de;\n",
       "            color:  #000000;\n",
       "        }    #T_75c635e6_4beb_11ec_b2cc_acde48001122row5_col4 {\n",
       "            background-color:  #f18f71;\n",
       "            color:  #000000;\n",
       "        }    #T_75c635e6_4beb_11ec_b2cc_acde48001122row5_col5 {\n",
       "            background-color:  #b40426;\n",
       "            color:  #f1f1f1;\n",
       "        }    #T_75c635e6_4beb_11ec_b2cc_acde48001122row5_col6 {\n",
       "            background-color:  #d44e41;\n",
       "            color:  #000000;\n",
       "        }    #T_75c635e6_4beb_11ec_b2cc_acde48001122row5_col7 {\n",
       "            background-color:  #6485ec;\n",
       "            color:  #000000;\n",
       "        }    #T_75c635e6_4beb_11ec_b2cc_acde48001122row5_col8 {\n",
       "            background-color:  #d95847;\n",
       "            color:  #000000;\n",
       "        }    #T_75c635e6_4beb_11ec_b2cc_acde48001122row5_col9 {\n",
       "            background-color:  #89acfd;\n",
       "            color:  #000000;\n",
       "        }    #T_75c635e6_4beb_11ec_b2cc_acde48001122row5_col10 {\n",
       "            background-color:  #b5cdfa;\n",
       "            color:  #000000;\n",
       "        }    #T_75c635e6_4beb_11ec_b2cc_acde48001122row5_col11 {\n",
       "            background-color:  #d9dce1;\n",
       "            color:  #000000;\n",
       "        }    #T_75c635e6_4beb_11ec_b2cc_acde48001122row6_col0 {\n",
       "            background-color:  #c4d5f3;\n",
       "            color:  #000000;\n",
       "        }    #T_75c635e6_4beb_11ec_b2cc_acde48001122row6_col1 {\n",
       "            background-color:  #dfdbd9;\n",
       "            color:  #000000;\n",
       "        }    #T_75c635e6_4beb_11ec_b2cc_acde48001122row6_col2 {\n",
       "            background-color:  #cd423b;\n",
       "            color:  #f1f1f1;\n",
       "        }    #T_75c635e6_4beb_11ec_b2cc_acde48001122row6_col3 {\n",
       "            background-color:  #81a4fb;\n",
       "            color:  #000000;\n",
       "        }    #T_75c635e6_4beb_11ec_b2cc_acde48001122row6_col4 {\n",
       "            background-color:  #f7a688;\n",
       "            color:  #000000;\n",
       "        }    #T_75c635e6_4beb_11ec_b2cc_acde48001122row6_col5 {\n",
       "            background-color:  #d24b40;\n",
       "            color:  #f1f1f1;\n",
       "        }    #T_75c635e6_4beb_11ec_b2cc_acde48001122row6_col6 {\n",
       "            background-color:  #b40426;\n",
       "            color:  #f1f1f1;\n",
       "        }    #T_75c635e6_4beb_11ec_b2cc_acde48001122row6_col7 {\n",
       "            background-color:  #6c8ff1;\n",
       "            color:  #000000;\n",
       "        }    #T_75c635e6_4beb_11ec_b2cc_acde48001122row6_col8 {\n",
       "            background-color:  #dc5d4a;\n",
       "            color:  #000000;\n",
       "        }    #T_75c635e6_4beb_11ec_b2cc_acde48001122row6_col9 {\n",
       "            background-color:  #adc9fd;\n",
       "            color:  #000000;\n",
       "        }    #T_75c635e6_4beb_11ec_b2cc_acde48001122row6_col10 {\n",
       "            background-color:  #b3cdfb;\n",
       "            color:  #000000;\n",
       "        }    #T_75c635e6_4beb_11ec_b2cc_acde48001122row6_col11 {\n",
       "            background-color:  #f2cbb7;\n",
       "            color:  #000000;\n",
       "        }    #T_75c635e6_4beb_11ec_b2cc_acde48001122row7_col0 {\n",
       "            background-color:  #92b4fe;\n",
       "            color:  #000000;\n",
       "        }    #T_75c635e6_4beb_11ec_b2cc_acde48001122row7_col1 {\n",
       "            background-color:  #a3c2fe;\n",
       "            color:  #000000;\n",
       "        }    #T_75c635e6_4beb_11ec_b2cc_acde48001122row7_col2 {\n",
       "            background-color:  #3b4cc0;\n",
       "            color:  #f1f1f1;\n",
       "        }    #T_75c635e6_4beb_11ec_b2cc_acde48001122row7_col3 {\n",
       "            background-color:  #3d50c3;\n",
       "            color:  #f1f1f1;\n",
       "        }    #T_75c635e6_4beb_11ec_b2cc_acde48001122row7_col4 {\n",
       "            background-color:  #3b4cc0;\n",
       "            color:  #f1f1f1;\n",
       "        }    #T_75c635e6_4beb_11ec_b2cc_acde48001122row7_col5 {\n",
       "            background-color:  #3b4cc0;\n",
       "            color:  #f1f1f1;\n",
       "        }    #T_75c635e6_4beb_11ec_b2cc_acde48001122row7_col6 {\n",
       "            background-color:  #3b4cc0;\n",
       "            color:  #f1f1f1;\n",
       "        }    #T_75c635e6_4beb_11ec_b2cc_acde48001122row7_col7 {\n",
       "            background-color:  #b40426;\n",
       "            color:  #f1f1f1;\n",
       "        }    #T_75c635e6_4beb_11ec_b2cc_acde48001122row7_col8 {\n",
       "            background-color:  #3b4cc0;\n",
       "            color:  #f1f1f1;\n",
       "        }    #T_75c635e6_4beb_11ec_b2cc_acde48001122row7_col9 {\n",
       "            background-color:  #3e51c5;\n",
       "            color:  #f1f1f1;\n",
       "        }    #T_75c635e6_4beb_11ec_b2cc_acde48001122row7_col10 {\n",
       "            background-color:  #3b4cc0;\n",
       "            color:  #f1f1f1;\n",
       "        }    #T_75c635e6_4beb_11ec_b2cc_acde48001122row7_col11 {\n",
       "            background-color:  #5875e1;\n",
       "            color:  #000000;\n",
       "        }    #T_75c635e6_4beb_11ec_b2cc_acde48001122row8_col0 {\n",
       "            background-color:  #bcd2f7;\n",
       "            color:  #000000;\n",
       "        }    #T_75c635e6_4beb_11ec_b2cc_acde48001122row8_col1 {\n",
       "            background-color:  #cedaeb;\n",
       "            color:  #000000;\n",
       "        }    #T_75c635e6_4beb_11ec_b2cc_acde48001122row8_col2 {\n",
       "            background-color:  #c32e31;\n",
       "            color:  #f1f1f1;\n",
       "        }    #T_75c635e6_4beb_11ec_b2cc_acde48001122row8_col3 {\n",
       "            background-color:  #4f69d9;\n",
       "            color:  #000000;\n",
       "        }    #T_75c635e6_4beb_11ec_b2cc_acde48001122row8_col4 {\n",
       "            background-color:  #f7ad90;\n",
       "            color:  #000000;\n",
       "        }    #T_75c635e6_4beb_11ec_b2cc_acde48001122row8_col5 {\n",
       "            background-color:  #de614d;\n",
       "            color:  #000000;\n",
       "        }    #T_75c635e6_4beb_11ec_b2cc_acde48001122row8_col6 {\n",
       "            background-color:  #e26952;\n",
       "            color:  #000000;\n",
       "        }    #T_75c635e6_4beb_11ec_b2cc_acde48001122row8_col7 {\n",
       "            background-color:  #3b4cc0;\n",
       "            color:  #f1f1f1;\n",
       "        }    #T_75c635e6_4beb_11ec_b2cc_acde48001122row8_col8 {\n",
       "            background-color:  #b40426;\n",
       "            color:  #f1f1f1;\n",
       "        }    #T_75c635e6_4beb_11ec_b2cc_acde48001122row8_col9 {\n",
       "            background-color:  #6a8bef;\n",
       "            color:  #000000;\n",
       "        }    #T_75c635e6_4beb_11ec_b2cc_acde48001122row8_col10 {\n",
       "            background-color:  #a6c4fe;\n",
       "            color:  #000000;\n",
       "        }    #T_75c635e6_4beb_11ec_b2cc_acde48001122row8_col11 {\n",
       "            background-color:  #f1ccb8;\n",
       "            color:  #000000;\n",
       "        }    #T_75c635e6_4beb_11ec_b2cc_acde48001122row9_col0 {\n",
       "            background-color:  #aac7fd;\n",
       "            color:  #000000;\n",
       "        }    #T_75c635e6_4beb_11ec_b2cc_acde48001122row9_col1 {\n",
       "            background-color:  #e1dad6;\n",
       "            color:  #000000;\n",
       "        }    #T_75c635e6_4beb_11ec_b2cc_acde48001122row9_col2 {\n",
       "            background-color:  #e3d9d3;\n",
       "            color:  #000000;\n",
       "        }    #T_75c635e6_4beb_11ec_b2cc_acde48001122row9_col3 {\n",
       "            background-color:  #dedcdb;\n",
       "            color:  #000000;\n",
       "        }    #T_75c635e6_4beb_11ec_b2cc_acde48001122row9_col4 {\n",
       "            background-color:  #c3d5f4;\n",
       "            color:  #000000;\n",
       "        }    #T_75c635e6_4beb_11ec_b2cc_acde48001122row9_col5 {\n",
       "            background-color:  #dddcdc;\n",
       "            color:  #000000;\n",
       "        }    #T_75c635e6_4beb_11ec_b2cc_acde48001122row9_col6 {\n",
       "            background-color:  #ead4c8;\n",
       "            color:  #000000;\n",
       "        }    #T_75c635e6_4beb_11ec_b2cc_acde48001122row9_col7 {\n",
       "            background-color:  #ccd9ed;\n",
       "            color:  #000000;\n",
       "        }    #T_75c635e6_4beb_11ec_b2cc_acde48001122row9_col8 {\n",
       "            background-color:  #e1dad6;\n",
       "            color:  #000000;\n",
       "        }    #T_75c635e6_4beb_11ec_b2cc_acde48001122row9_col9 {\n",
       "            background-color:  #b40426;\n",
       "            color:  #f1f1f1;\n",
       "        }    #T_75c635e6_4beb_11ec_b2cc_acde48001122row9_col10 {\n",
       "            background-color:  #7a9df8;\n",
       "            color:  #000000;\n",
       "        }    #T_75c635e6_4beb_11ec_b2cc_acde48001122row9_col11 {\n",
       "            background-color:  #9fbfff;\n",
       "            color:  #000000;\n",
       "        }    #T_75c635e6_4beb_11ec_b2cc_acde48001122row10_col0 {\n",
       "            background-color:  #a2c1ff;\n",
       "            color:  #000000;\n",
       "        }    #T_75c635e6_4beb_11ec_b2cc_acde48001122row10_col1 {\n",
       "            background-color:  #cfdaea;\n",
       "            color:  #000000;\n",
       "        }    #T_75c635e6_4beb_11ec_b2cc_acde48001122row10_col2 {\n",
       "            background-color:  #ecd3c5;\n",
       "            color:  #000000;\n",
       "        }    #T_75c635e6_4beb_11ec_b2cc_acde48001122row10_col3 {\n",
       "            background-color:  #6485ec;\n",
       "            color:  #000000;\n",
       "        }    #T_75c635e6_4beb_11ec_b2cc_acde48001122row10_col4 {\n",
       "            background-color:  #bed2f6;\n",
       "            color:  #000000;\n",
       "        }    #T_75c635e6_4beb_11ec_b2cc_acde48001122row10_col5 {\n",
       "            background-color:  #e6d7cf;\n",
       "            color:  #000000;\n",
       "        }    #T_75c635e6_4beb_11ec_b2cc_acde48001122row10_col6 {\n",
       "            background-color:  #e2dad5;\n",
       "            color:  #000000;\n",
       "        }    #T_75c635e6_4beb_11ec_b2cc_acde48001122row10_col7 {\n",
       "            background-color:  #b6cefa;\n",
       "            color:  #000000;\n",
       "        }    #T_75c635e6_4beb_11ec_b2cc_acde48001122row10_col8 {\n",
       "            background-color:  #edd1c2;\n",
       "            color:  #000000;\n",
       "        }    #T_75c635e6_4beb_11ec_b2cc_acde48001122row10_col9 {\n",
       "            background-color:  #5b7ae5;\n",
       "            color:  #000000;\n",
       "        }    #T_75c635e6_4beb_11ec_b2cc_acde48001122row10_col10 {\n",
       "            background-color:  #b40426;\n",
       "            color:  #f1f1f1;\n",
       "        }    #T_75c635e6_4beb_11ec_b2cc_acde48001122row10_col11 {\n",
       "            background-color:  #abc8fd;\n",
       "            color:  #000000;\n",
       "        }    #T_75c635e6_4beb_11ec_b2cc_acde48001122row11_col0 {\n",
       "            background-color:  #ec7f63;\n",
       "            color:  #000000;\n",
       "        }    #T_75c635e6_4beb_11ec_b2cc_acde48001122row11_col1 {\n",
       "            background-color:  #3d50c3;\n",
       "            color:  #f1f1f1;\n",
       "        }    #T_75c635e6_4beb_11ec_b2cc_acde48001122row11_col2 {\n",
       "            background-color:  #f7b396;\n",
       "            color:  #000000;\n",
       "        }    #T_75c635e6_4beb_11ec_b2cc_acde48001122row11_col3 {\n",
       "            background-color:  #6b8df0;\n",
       "            color:  #000000;\n",
       "        }    #T_75c635e6_4beb_11ec_b2cc_acde48001122row11_col4 {\n",
       "            background-color:  #c7d7f0;\n",
       "            color:  #000000;\n",
       "        }    #T_75c635e6_4beb_11ec_b2cc_acde48001122row11_col5 {\n",
       "            background-color:  #e0dbd8;\n",
       "            color:  #000000;\n",
       "        }    #T_75c635e6_4beb_11ec_b2cc_acde48001122row11_col6 {\n",
       "            background-color:  #f3c8b2;\n",
       "            color:  #000000;\n",
       "        }    #T_75c635e6_4beb_11ec_b2cc_acde48001122row11_col7 {\n",
       "            background-color:  #90b2fe;\n",
       "            color:  #000000;\n",
       "        }    #T_75c635e6_4beb_11ec_b2cc_acde48001122row11_col8 {\n",
       "            background-color:  #f7b79b;\n",
       "            color:  #000000;\n",
       "        }    #T_75c635e6_4beb_11ec_b2cc_acde48001122row11_col9 {\n",
       "            background-color:  #3b4cc0;\n",
       "            color:  #f1f1f1;\n",
       "        }    #T_75c635e6_4beb_11ec_b2cc_acde48001122row11_col10 {\n",
       "            background-color:  #6788ee;\n",
       "            color:  #000000;\n",
       "        }    #T_75c635e6_4beb_11ec_b2cc_acde48001122row11_col11 {\n",
       "            background-color:  #b40426;\n",
       "            color:  #f1f1f1;\n",
       "        }</style><table id=\"T_75c635e6_4beb_11ec_b2cc_acde48001122\" ><thead>    <tr>        <th class=\"blank level0\" ></th>        <th class=\"col_heading level0 col0\" >year</th>        <th class=\"col_heading level0 col1\" >mileage</th>        <th class=\"col_heading level0 col2\" >power</th>        <th class=\"col_heading level0 col3\" >n_doors</th>        <th class=\"col_heading level0 col4\" >n_cylinders</th>        <th class=\"col_heading level0 col5\" >displacement</th>        <th class=\"col_heading level0 col6\" >dry_weight</th>        <th class=\"col_heading level0 col7\" >acceleration</th>        <th class=\"col_heading level0 col8\" >top_speed</th>        <th class=\"col_heading level0 col9\" >n_seats</th>        <th class=\"col_heading level0 col10\" >emission</th>        <th class=\"col_heading level0 col11\" >class_rank</th>    </tr></thead><tbody>\n",
       "                <tr>\n",
       "                        <th id=\"T_75c635e6_4beb_11ec_b2cc_acde48001122level0_row0\" class=\"row_heading level0 row0\" >year</th>\n",
       "                        <td id=\"T_75c635e6_4beb_11ec_b2cc_acde48001122row0_col0\" class=\"data row0 col0\" >1.000000</td>\n",
       "                        <td id=\"T_75c635e6_4beb_11ec_b2cc_acde48001122row0_col1\" class=\"data row0 col1\" >-0.518272</td>\n",
       "                        <td id=\"T_75c635e6_4beb_11ec_b2cc_acde48001122row0_col2\" class=\"data row0 col2\" >0.098767</td>\n",
       "                        <td id=\"T_75c635e6_4beb_11ec_b2cc_acde48001122row0_col3\" class=\"data row0 col3\" >0.242501</td>\n",
       "                        <td id=\"T_75c635e6_4beb_11ec_b2cc_acde48001122row0_col4\" class=\"data row0 col4\" >-0.164020</td>\n",
       "                        <td id=\"T_75c635e6_4beb_11ec_b2cc_acde48001122row0_col5\" class=\"data row0 col5\" >-0.151175</td>\n",
       "                        <td id=\"T_75c635e6_4beb_11ec_b2cc_acde48001122row0_col6\" class=\"data row0 col6\" >0.105857</td>\n",
       "                        <td id=\"T_75c635e6_4beb_11ec_b2cc_acde48001122row0_col7\" class=\"data row0 col7\" >-0.119662</td>\n",
       "                        <td id=\"T_75c635e6_4beb_11ec_b2cc_acde48001122row0_col8\" class=\"data row0 col8\" >0.073289</td>\n",
       "                        <td id=\"T_75c635e6_4beb_11ec_b2cc_acde48001122row0_col9\" class=\"data row0 col9\" >-0.010183</td>\n",
       "                        <td id=\"T_75c635e6_4beb_11ec_b2cc_acde48001122row0_col10\" class=\"data row0 col10\" >-0.045241</td>\n",
       "                        <td id=\"T_75c635e6_4beb_11ec_b2cc_acde48001122row0_col11\" class=\"data row0 col11\" >0.712797</td>\n",
       "            </tr>\n",
       "            <tr>\n",
       "                        <th id=\"T_75c635e6_4beb_11ec_b2cc_acde48001122level0_row1\" class=\"row_heading level0 row1\" >mileage</th>\n",
       "                        <td id=\"T_75c635e6_4beb_11ec_b2cc_acde48001122row1_col0\" class=\"data row1 col0\" >-0.518272</td>\n",
       "                        <td id=\"T_75c635e6_4beb_11ec_b2cc_acde48001122row1_col1\" class=\"data row1 col1\" >1.000000</td>\n",
       "                        <td id=\"T_75c635e6_4beb_11ec_b2cc_acde48001122row1_col2\" class=\"data row1 col2\" >0.142823</td>\n",
       "                        <td id=\"T_75c635e6_4beb_11ec_b2cc_acde48001122row1_col3\" class=\"data row1 col3\" >0.053377</td>\n",
       "                        <td id=\"T_75c635e6_4beb_11ec_b2cc_acde48001122row1_col4\" class=\"data row1 col4\" >0.213170</td>\n",
       "                        <td id=\"T_75c635e6_4beb_11ec_b2cc_acde48001122row1_col5\" class=\"data row1 col5\" >0.338529</td>\n",
       "                        <td id=\"T_75c635e6_4beb_11ec_b2cc_acde48001122row1_col6\" class=\"data row1 col6\" >0.256963</td>\n",
       "                        <td id=\"T_75c635e6_4beb_11ec_b2cc_acde48001122row1_col7\" class=\"data row1 col7\" >-0.039546</td>\n",
       "                        <td id=\"T_75c635e6_4beb_11ec_b2cc_acde48001122row1_col8\" class=\"data row1 col8\" >0.158840</td>\n",
       "                        <td id=\"T_75c635e6_4beb_11ec_b2cc_acde48001122row1_col9\" class=\"data row1 col9\" >0.265643</td>\n",
       "                        <td id=\"T_75c635e6_4beb_11ec_b2cc_acde48001122row1_col10\" class=\"data row1 col10\" >0.164452</td>\n",
       "                        <td id=\"T_75c635e6_4beb_11ec_b2cc_acde48001122row1_col11\" class=\"data row1 col11\" >-0.500660</td>\n",
       "            </tr>\n",
       "            <tr>\n",
       "                        <th id=\"T_75c635e6_4beb_11ec_b2cc_acde48001122level0_row2\" class=\"row_heading level0 row2\" >power</th>\n",
       "                        <td id=\"T_75c635e6_4beb_11ec_b2cc_acde48001122row2_col0\" class=\"data row2 col0\" >0.098767</td>\n",
       "                        <td id=\"T_75c635e6_4beb_11ec_b2cc_acde48001122row2_col1\" class=\"data row2 col1\" >0.142823</td>\n",
       "                        <td id=\"T_75c635e6_4beb_11ec_b2cc_acde48001122row2_col2\" class=\"data row2 col2\" >1.000000</td>\n",
       "                        <td id=\"T_75c635e6_4beb_11ec_b2cc_acde48001122row2_col3\" class=\"data row2 col3\" >0.086449</td>\n",
       "                        <td id=\"T_75c635e6_4beb_11ec_b2cc_acde48001122row2_col4\" class=\"data row2 col4\" >0.610659</td>\n",
       "                        <td id=\"T_75c635e6_4beb_11ec_b2cc_acde48001122row2_col5\" class=\"data row2 col5\" >0.861445</td>\n",
       "                        <td id=\"T_75c635e6_4beb_11ec_b2cc_acde48001122row2_col6\" class=\"data row2 col6\" >0.875978</td>\n",
       "                        <td id=\"T_75c635e6_4beb_11ec_b2cc_acde48001122row2_col7\" class=\"data row2 col7\" >-0.736982</td>\n",
       "                        <td id=\"T_75c635e6_4beb_11ec_b2cc_acde48001122row2_col8\" class=\"data row2 col8\" >0.930935</td>\n",
       "                        <td id=\"T_75c635e6_4beb_11ec_b2cc_acde48001122row2_col9\" class=\"data row2 col9\" >0.175339</td>\n",
       "                        <td id=\"T_75c635e6_4beb_11ec_b2cc_acde48001122row2_col10\" class=\"data row2 col10\" >0.241495</td>\n",
       "                        <td id=\"T_75c635e6_4beb_11ec_b2cc_acde48001122row2_col11\" class=\"data row2 col11\" >0.443733</td>\n",
       "            </tr>\n",
       "            <tr>\n",
       "                        <th id=\"T_75c635e6_4beb_11ec_b2cc_acde48001122level0_row3\" class=\"row_heading level0 row3\" >n_doors</th>\n",
       "                        <td id=\"T_75c635e6_4beb_11ec_b2cc_acde48001122row3_col0\" class=\"data row3 col0\" >0.242501</td>\n",
       "                        <td id=\"T_75c635e6_4beb_11ec_b2cc_acde48001122row3_col1\" class=\"data row3 col1\" >0.053377</td>\n",
       "                        <td id=\"T_75c635e6_4beb_11ec_b2cc_acde48001122row3_col2\" class=\"data row3 col2\" >0.086449</td>\n",
       "                        <td id=\"T_75c635e6_4beb_11ec_b2cc_acde48001122row3_col3\" class=\"data row3 col3\" >1.000000</td>\n",
       "                        <td id=\"T_75c635e6_4beb_11ec_b2cc_acde48001122row3_col4\" class=\"data row3 col4\" >-0.059388</td>\n",
       "                        <td id=\"T_75c635e6_4beb_11ec_b2cc_acde48001122row3_col5\" class=\"data row3 col5\" >0.029580</td>\n",
       "                        <td id=\"T_75c635e6_4beb_11ec_b2cc_acde48001122row3_col6\" class=\"data row3 col6\" >0.171660</td>\n",
       "                        <td id=\"T_75c635e6_4beb_11ec_b2cc_acde48001122row3_col7\" class=\"data row3 col7\" >-0.050184</td>\n",
       "                        <td id=\"T_75c635e6_4beb_11ec_b2cc_acde48001122row3_col8\" class=\"data row3 col8\" >0.014217</td>\n",
       "                        <td id=\"T_75c635e6_4beb_11ec_b2cc_acde48001122row3_col9\" class=\"data row3 col9\" >0.476207</td>\n",
       "                        <td id=\"T_75c635e6_4beb_11ec_b2cc_acde48001122row3_col10\" class=\"data row3 col10\" >0.085096</td>\n",
       "                        <td id=\"T_75c635e6_4beb_11ec_b2cc_acde48001122row3_col11\" class=\"data row3 col11\" >0.102147</td>\n",
       "            </tr>\n",
       "            <tr>\n",
       "                        <th id=\"T_75c635e6_4beb_11ec_b2cc_acde48001122level0_row4\" class=\"row_heading level0 row4\" >n_cylinders</th>\n",
       "                        <td id=\"T_75c635e6_4beb_11ec_b2cc_acde48001122row4_col0\" class=\"data row4 col0\" >-0.164020</td>\n",
       "                        <td id=\"T_75c635e6_4beb_11ec_b2cc_acde48001122row4_col1\" class=\"data row4 col1\" >0.213170</td>\n",
       "                        <td id=\"T_75c635e6_4beb_11ec_b2cc_acde48001122row4_col2\" class=\"data row4 col2\" >0.610659</td>\n",
       "                        <td id=\"T_75c635e6_4beb_11ec_b2cc_acde48001122row4_col3\" class=\"data row4 col3\" >-0.059388</td>\n",
       "                        <td id=\"T_75c635e6_4beb_11ec_b2cc_acde48001122row4_col4\" class=\"data row4 col4\" >1.000000</td>\n",
       "                        <td id=\"T_75c635e6_4beb_11ec_b2cc_acde48001122row4_col5\" class=\"data row4 col5\" >0.671523</td>\n",
       "                        <td id=\"T_75c635e6_4beb_11ec_b2cc_acde48001122row4_col6\" class=\"data row4 col6\" >0.591749</td>\n",
       "                        <td id=\"T_75c635e6_4beb_11ec_b2cc_acde48001122row4_col7\" class=\"data row4 col7\" >-0.450471</td>\n",
       "                        <td id=\"T_75c635e6_4beb_11ec_b2cc_acde48001122row4_col8\" class=\"data row4 col8\" >0.563475</td>\n",
       "                        <td id=\"T_75c635e6_4beb_11ec_b2cc_acde48001122row4_col9\" class=\"data row4 col9\" >0.141331</td>\n",
       "                        <td id=\"T_75c635e6_4beb_11ec_b2cc_acde48001122row4_col10\" class=\"data row4 col10\" >0.120767</td>\n",
       "                        <td id=\"T_75c635e6_4beb_11ec_b2cc_acde48001122row4_col11\" class=\"data row4 col11\" >0.166528</td>\n",
       "            </tr>\n",
       "            <tr>\n",
       "                        <th id=\"T_75c635e6_4beb_11ec_b2cc_acde48001122level0_row5\" class=\"row_heading level0 row5\" >displacement</th>\n",
       "                        <td id=\"T_75c635e6_4beb_11ec_b2cc_acde48001122row5_col0\" class=\"data row5 col0\" >-0.151175</td>\n",
       "                        <td id=\"T_75c635e6_4beb_11ec_b2cc_acde48001122row5_col1\" class=\"data row5 col1\" >0.338529</td>\n",
       "                        <td id=\"T_75c635e6_4beb_11ec_b2cc_acde48001122row5_col2\" class=\"data row5 col2\" >0.861445</td>\n",
       "                        <td id=\"T_75c635e6_4beb_11ec_b2cc_acde48001122row5_col3\" class=\"data row5 col3\" >0.029580</td>\n",
       "                        <td id=\"T_75c635e6_4beb_11ec_b2cc_acde48001122row5_col4\" class=\"data row5 col4\" >0.671523</td>\n",
       "                        <td id=\"T_75c635e6_4beb_11ec_b2cc_acde48001122row5_col5\" class=\"data row5 col5\" >1.000000</td>\n",
       "                        <td id=\"T_75c635e6_4beb_11ec_b2cc_acde48001122row5_col6\" class=\"data row5 col6\" >0.860693</td>\n",
       "                        <td id=\"T_75c635e6_4beb_11ec_b2cc_acde48001122row5_col7\" class=\"data row5 col7\" >-0.592810</td>\n",
       "                        <td id=\"T_75c635e6_4beb_11ec_b2cc_acde48001122row5_col8\" class=\"data row5 col8\" >0.797243</td>\n",
       "                        <td id=\"T_75c635e6_4beb_11ec_b2cc_acde48001122row5_col9\" class=\"data row5 col9\" >0.205007</td>\n",
       "                        <td id=\"T_75c635e6_4beb_11ec_b2cc_acde48001122row5_col10\" class=\"data row5 col10\" >0.264064</td>\n",
       "                        <td id=\"T_75c635e6_4beb_11ec_b2cc_acde48001122row5_col11\" class=\"data row5 col11\" >0.227740</td>\n",
       "            </tr>\n",
       "            <tr>\n",
       "                        <th id=\"T_75c635e6_4beb_11ec_b2cc_acde48001122level0_row6\" class=\"row_heading level0 row6\" >dry_weight</th>\n",
       "                        <td id=\"T_75c635e6_4beb_11ec_b2cc_acde48001122row6_col0\" class=\"data row6 col0\" >0.105857</td>\n",
       "                        <td id=\"T_75c635e6_4beb_11ec_b2cc_acde48001122row6_col1\" class=\"data row6 col1\" >0.256963</td>\n",
       "                        <td id=\"T_75c635e6_4beb_11ec_b2cc_acde48001122row6_col2\" class=\"data row6 col2\" >0.875978</td>\n",
       "                        <td id=\"T_75c635e6_4beb_11ec_b2cc_acde48001122row6_col3\" class=\"data row6 col3\" >0.171660</td>\n",
       "                        <td id=\"T_75c635e6_4beb_11ec_b2cc_acde48001122row6_col4\" class=\"data row6 col4\" >0.591749</td>\n",
       "                        <td id=\"T_75c635e6_4beb_11ec_b2cc_acde48001122row6_col5\" class=\"data row6 col5\" >0.860693</td>\n",
       "                        <td id=\"T_75c635e6_4beb_11ec_b2cc_acde48001122row6_col6\" class=\"data row6 col6\" >1.000000</td>\n",
       "                        <td id=\"T_75c635e6_4beb_11ec_b2cc_acde48001122row6_col7\" class=\"data row6 col7\" >-0.549942</td>\n",
       "                        <td id=\"T_75c635e6_4beb_11ec_b2cc_acde48001122row6_col8\" class=\"data row6 col8\" >0.777195</td>\n",
       "                        <td id=\"T_75c635e6_4beb_11ec_b2cc_acde48001122row6_col9\" class=\"data row6 col9\" >0.313223</td>\n",
       "                        <td id=\"T_75c635e6_4beb_11ec_b2cc_acde48001122row6_col10\" class=\"data row6 col10\" >0.260742</td>\n",
       "                        <td id=\"T_75c635e6_4beb_11ec_b2cc_acde48001122row6_col11\" class=\"data row6 col11\" >0.399077</td>\n",
       "            </tr>\n",
       "            <tr>\n",
       "                        <th id=\"T_75c635e6_4beb_11ec_b2cc_acde48001122level0_row7\" class=\"row_heading level0 row7\" >acceleration</th>\n",
       "                        <td id=\"T_75c635e6_4beb_11ec_b2cc_acde48001122row7_col0\" class=\"data row7 col0\" >-0.119662</td>\n",
       "                        <td id=\"T_75c635e6_4beb_11ec_b2cc_acde48001122row7_col1\" class=\"data row7 col1\" >-0.039546</td>\n",
       "                        <td id=\"T_75c635e6_4beb_11ec_b2cc_acde48001122row7_col2\" class=\"data row7 col2\" >-0.736982</td>\n",
       "                        <td id=\"T_75c635e6_4beb_11ec_b2cc_acde48001122row7_col3\" class=\"data row7 col3\" >-0.050184</td>\n",
       "                        <td id=\"T_75c635e6_4beb_11ec_b2cc_acde48001122row7_col4\" class=\"data row7 col4\" >-0.450471</td>\n",
       "                        <td id=\"T_75c635e6_4beb_11ec_b2cc_acde48001122row7_col5\" class=\"data row7 col5\" >-0.592810</td>\n",
       "                        <td id=\"T_75c635e6_4beb_11ec_b2cc_acde48001122row7_col6\" class=\"data row7 col6\" >-0.549942</td>\n",
       "                        <td id=\"T_75c635e6_4beb_11ec_b2cc_acde48001122row7_col7\" class=\"data row7 col7\" >1.000000</td>\n",
       "                        <td id=\"T_75c635e6_4beb_11ec_b2cc_acde48001122row7_col8\" class=\"data row7 col8\" >-0.840268</td>\n",
       "                        <td id=\"T_75c635e6_4beb_11ec_b2cc_acde48001122row7_col9\" class=\"data row7 col9\" >-0.031360</td>\n",
       "                        <td id=\"T_75c635e6_4beb_11ec_b2cc_acde48001122row7_col10\" class=\"data row7 col10\" >-0.159635</td>\n",
       "                        <td id=\"T_75c635e6_4beb_11ec_b2cc_acde48001122row7_col11\" class=\"data row7 col11\" >-0.359259</td>\n",
       "            </tr>\n",
       "            <tr>\n",
       "                        <th id=\"T_75c635e6_4beb_11ec_b2cc_acde48001122level0_row8\" class=\"row_heading level0 row8\" >top_speed</th>\n",
       "                        <td id=\"T_75c635e6_4beb_11ec_b2cc_acde48001122row8_col0\" class=\"data row8 col0\" >0.073289</td>\n",
       "                        <td id=\"T_75c635e6_4beb_11ec_b2cc_acde48001122row8_col1\" class=\"data row8 col1\" >0.158840</td>\n",
       "                        <td id=\"T_75c635e6_4beb_11ec_b2cc_acde48001122row8_col2\" class=\"data row8 col2\" >0.930935</td>\n",
       "                        <td id=\"T_75c635e6_4beb_11ec_b2cc_acde48001122row8_col3\" class=\"data row8 col3\" >0.014217</td>\n",
       "                        <td id=\"T_75c635e6_4beb_11ec_b2cc_acde48001122row8_col4\" class=\"data row8 col4\" >0.563475</td>\n",
       "                        <td id=\"T_75c635e6_4beb_11ec_b2cc_acde48001122row8_col5\" class=\"data row8 col5\" >0.797243</td>\n",
       "                        <td id=\"T_75c635e6_4beb_11ec_b2cc_acde48001122row8_col6\" class=\"data row8 col6\" >0.777195</td>\n",
       "                        <td id=\"T_75c635e6_4beb_11ec_b2cc_acde48001122row8_col7\" class=\"data row8 col7\" >-0.840268</td>\n",
       "                        <td id=\"T_75c635e6_4beb_11ec_b2cc_acde48001122row8_col8\" class=\"data row8 col8\" >1.000000</td>\n",
       "                        <td id=\"T_75c635e6_4beb_11ec_b2cc_acde48001122row8_col9\" class=\"data row8 col9\" >0.114149</td>\n",
       "                        <td id=\"T_75c635e6_4beb_11ec_b2cc_acde48001122row8_col10\" class=\"data row8 col10\" >0.214564</td>\n",
       "                        <td id=\"T_75c635e6_4beb_11ec_b2cc_acde48001122row8_col11\" class=\"data row8 col11\" >0.395630</td>\n",
       "            </tr>\n",
       "            <tr>\n",
       "                        <th id=\"T_75c635e6_4beb_11ec_b2cc_acde48001122level0_row9\" class=\"row_heading level0 row9\" >n_seats</th>\n",
       "                        <td id=\"T_75c635e6_4beb_11ec_b2cc_acde48001122row9_col0\" class=\"data row9 col0\" >-0.010183</td>\n",
       "                        <td id=\"T_75c635e6_4beb_11ec_b2cc_acde48001122row9_col1\" class=\"data row9 col1\" >0.265643</td>\n",
       "                        <td id=\"T_75c635e6_4beb_11ec_b2cc_acde48001122row9_col2\" class=\"data row9 col2\" >0.175339</td>\n",
       "                        <td id=\"T_75c635e6_4beb_11ec_b2cc_acde48001122row9_col3\" class=\"data row9 col3\" >0.476207</td>\n",
       "                        <td id=\"T_75c635e6_4beb_11ec_b2cc_acde48001122row9_col4\" class=\"data row9 col4\" >0.141331</td>\n",
       "                        <td id=\"T_75c635e6_4beb_11ec_b2cc_acde48001122row9_col5\" class=\"data row9 col5\" >0.205007</td>\n",
       "                        <td id=\"T_75c635e6_4beb_11ec_b2cc_acde48001122row9_col6\" class=\"data row9 col6\" >0.313223</td>\n",
       "                        <td id=\"T_75c635e6_4beb_11ec_b2cc_acde48001122row9_col7\" class=\"data row9 col7\" >-0.031360</td>\n",
       "                        <td id=\"T_75c635e6_4beb_11ec_b2cc_acde48001122row9_col8\" class=\"data row9 col8\" >0.114149</td>\n",
       "                        <td id=\"T_75c635e6_4beb_11ec_b2cc_acde48001122row9_col9\" class=\"data row9 col9\" >1.000000</td>\n",
       "                        <td id=\"T_75c635e6_4beb_11ec_b2cc_acde48001122row9_col10\" class=\"data row9 col10\" >0.069077</td>\n",
       "                        <td id=\"T_75c635e6_4beb_11ec_b2cc_acde48001122row9_col11\" class=\"data row9 col11\" >-0.044525</td>\n",
       "            </tr>\n",
       "            <tr>\n",
       "                        <th id=\"T_75c635e6_4beb_11ec_b2cc_acde48001122level0_row10\" class=\"row_heading level0 row10\" >emission</th>\n",
       "                        <td id=\"T_75c635e6_4beb_11ec_b2cc_acde48001122row10_col0\" class=\"data row10 col0\" >-0.045241</td>\n",
       "                        <td id=\"T_75c635e6_4beb_11ec_b2cc_acde48001122row10_col1\" class=\"data row10 col1\" >0.164452</td>\n",
       "                        <td id=\"T_75c635e6_4beb_11ec_b2cc_acde48001122row10_col2\" class=\"data row10 col2\" >0.241495</td>\n",
       "                        <td id=\"T_75c635e6_4beb_11ec_b2cc_acde48001122row10_col3\" class=\"data row10 col3\" >0.085096</td>\n",
       "                        <td id=\"T_75c635e6_4beb_11ec_b2cc_acde48001122row10_col4\" class=\"data row10 col4\" >0.120767</td>\n",
       "                        <td id=\"T_75c635e6_4beb_11ec_b2cc_acde48001122row10_col5\" class=\"data row10 col5\" >0.264064</td>\n",
       "                        <td id=\"T_75c635e6_4beb_11ec_b2cc_acde48001122row10_col6\" class=\"data row10 col6\" >0.260742</td>\n",
       "                        <td id=\"T_75c635e6_4beb_11ec_b2cc_acde48001122row10_col7\" class=\"data row10 col7\" >-0.159635</td>\n",
       "                        <td id=\"T_75c635e6_4beb_11ec_b2cc_acde48001122row10_col8\" class=\"data row10 col8\" >0.214564</td>\n",
       "                        <td id=\"T_75c635e6_4beb_11ec_b2cc_acde48001122row10_col9\" class=\"data row10 col9\" >0.069077</td>\n",
       "                        <td id=\"T_75c635e6_4beb_11ec_b2cc_acde48001122row10_col10\" class=\"data row10 col10\" >1.000000</td>\n",
       "                        <td id=\"T_75c635e6_4beb_11ec_b2cc_acde48001122row10_col11\" class=\"data row10 col11\" >0.006315</td>\n",
       "            </tr>\n",
       "            <tr>\n",
       "                        <th id=\"T_75c635e6_4beb_11ec_b2cc_acde48001122level0_row11\" class=\"row_heading level0 row11\" >class_rank</th>\n",
       "                        <td id=\"T_75c635e6_4beb_11ec_b2cc_acde48001122row11_col0\" class=\"data row11 col0\" >0.712797</td>\n",
       "                        <td id=\"T_75c635e6_4beb_11ec_b2cc_acde48001122row11_col1\" class=\"data row11 col1\" >-0.500660</td>\n",
       "                        <td id=\"T_75c635e6_4beb_11ec_b2cc_acde48001122row11_col2\" class=\"data row11 col2\" >0.443733</td>\n",
       "                        <td id=\"T_75c635e6_4beb_11ec_b2cc_acde48001122row11_col3\" class=\"data row11 col3\" >0.102147</td>\n",
       "                        <td id=\"T_75c635e6_4beb_11ec_b2cc_acde48001122row11_col4\" class=\"data row11 col4\" >0.166528</td>\n",
       "                        <td id=\"T_75c635e6_4beb_11ec_b2cc_acde48001122row11_col5\" class=\"data row11 col5\" >0.227740</td>\n",
       "                        <td id=\"T_75c635e6_4beb_11ec_b2cc_acde48001122row11_col6\" class=\"data row11 col6\" >0.399077</td>\n",
       "                        <td id=\"T_75c635e6_4beb_11ec_b2cc_acde48001122row11_col7\" class=\"data row11 col7\" >-0.359259</td>\n",
       "                        <td id=\"T_75c635e6_4beb_11ec_b2cc_acde48001122row11_col8\" class=\"data row11 col8\" >0.395630</td>\n",
       "                        <td id=\"T_75c635e6_4beb_11ec_b2cc_acde48001122row11_col9\" class=\"data row11 col9\" >-0.044525</td>\n",
       "                        <td id=\"T_75c635e6_4beb_11ec_b2cc_acde48001122row11_col10\" class=\"data row11 col10\" >0.006315</td>\n",
       "                        <td id=\"T_75c635e6_4beb_11ec_b2cc_acde48001122row11_col11\" class=\"data row11 col11\" >1.000000</td>\n",
       "            </tr>\n",
       "    </tbody></table>"
      ],
      "text/plain": [
       "<pandas.io.formats.style.Styler at 0x7f909aca4750>"
      ]
     },
     "execution_count": 694,
     "metadata": {},
     "output_type": "execute_result"
    }
   ],
   "source": [
    "correlation_matrix_spearman = dt_car_numerical_only.corr(method = 'spearman')\n",
    "correlation_matrix_spearman.style.background_gradient(cmap='coolwarm')"
   ]
  },
  {
   "cell_type": "markdown",
   "metadata": {},
   "source": [
    "### Bivariate analysis - between independent variables"
   ]
  },
  {
   "cell_type": "code",
   "execution_count": 695,
   "metadata": {},
   "outputs": [
    {
     "data": {
      "text/plain": [
       "<matplotlib.axes._subplots.AxesSubplot at 0x7f9099c5d650>"
      ]
     },
     "execution_count": 695,
     "metadata": {},
     "output_type": "execute_result"
    },
    {
     "data": {
      "image/png": "[encoded data removed]",
      "text/plain": [
       "<Figure size 432x288 with 2 Axes>"
      ]
     },
     "metadata": {
      "needs_background": "light"
     },
     "output_type": "display_data"
    }
   ],
   "source": [
    "dt_car_numerical_only[(dt_car_numerical_only['acceleration'] < 26) & (dt_car_numerical_only['power'] < 335)].plot.hexbin(x='acceleration', y='power', gridsize=15, sharex=False)\n"
   ]
  },
  {
   "cell_type": "code",
   "execution_count": 696,
   "metadata": {},
   "outputs": [
    {
     "data": {
      "text/plain": [
       "<matplotlib.axes._subplots.AxesSubplot at 0x7f9099df39d0>"
      ]
     },
     "execution_count": 696,
     "metadata": {},
     "output_type": "execute_result"
    },
    {
     "data": {
      "image/png": "[encoded data removed]",
      "text/plain": [
       "<Figure size 432x288 with 1 Axes>"
      ]
     },
     "metadata": {
      "needs_background": "light"
     },
     "output_type": "display_data"
    }
   ],
   "source": [
    "dt_car_numerical_only.plot.scatter(x='displacement', y='power')\n"
   ]
  },
  {
   "cell_type": "markdown",
   "metadata": {},
   "source": [
    "### Bivariate analysis - target variable and independent variables"
   ]
  },
  {
   "cell_type": "markdown",
   "metadata": {},
   "source": [
    "Year relation with price category"
   ]
  },
  {
   "cell_type": "code",
   "execution_count": 697,
   "metadata": {},
   "outputs": [
    {
     "name": "stderr",
     "output_type": "stream",
     "text": [
      "/Users/jorgeferreira/opt/anaconda3/lib/python3.7/site-packages/seaborn/axisgrid.py:243: UserWarning: The `size` parameter has been renamed to `height`; please update your code.\n",
      "  warnings.warn(msg, UserWarning)\n"
     ]
    },
    {
     "data": {
      "text/plain": [
       "<seaborn.axisgrid.FacetGrid at 0x7f909a0a5b90>"
      ]
     },
     "execution_count": 697,
     "metadata": {},
     "output_type": "execute_result"
    },
    {
     "data": {
      "image/png": "[encoded data removed]",
      "text/plain": [
       "<Figure size 455.234x360 with 1 Axes>"
      ]
     },
     "metadata": {
      "needs_background": "light"
     },
     "output_type": "display_data"
    }
   ],
   "source": [
    "orders = ['1 (< 1K)' , '2 (1K-2K)', '3 (2K-5K)', '4 (5K-10K)', '5 (10K-15K)','6 (> 15K)']\n",
    "sns.FacetGrid(dt_car_train, hue = 'price_category', size = 5, hue_order=orders).map(sns.distplot, \"year\").add_legend()"
   ]
  },
  {
   "cell_type": "code",
   "execution_count": 698,
   "metadata": {},
   "outputs": [
    {
     "data": {
      "text/plain": [
       "<matplotlib.axes._subplots.AxesSubplot at 0x7f909a1e2a10>"
      ]
     },
     "execution_count": 698,
     "metadata": {},
     "output_type": "execute_result"
    },
    {
     "data": {
      "image/png": "[encoded data removed]",
      "text/plain": [
       "<Figure size 432x288 with 1 Axes>"
      ]
     },
     "metadata": {
      "needs_background": "light"
     },
     "output_type": "display_data"
    }
   ],
   "source": [
    "sns.boxplot(x='price_category', y='year', data = dt_car_train, order=orders, showfliers = False)"
   ]
  },
  {
   "cell_type": "markdown",
   "metadata": {},
   "source": [
    "Power relation with price category"
   ]
  },
  {
   "cell_type": "code",
   "execution_count": 699,
   "metadata": {},
   "outputs": [
    {
     "name": "stderr",
     "output_type": "stream",
     "text": [
      "/Users/jorgeferreira/opt/anaconda3/lib/python3.7/site-packages/seaborn/axisgrid.py:243: UserWarning: The `size` parameter has been renamed to `height`; please update your code.\n",
      "  warnings.warn(msg, UserWarning)\n"
     ]
    },
    {
     "data": {
      "text/plain": [
       "<seaborn.axisgrid.FacetGrid at 0x7f909b861850>"
      ]
     },
     "execution_count": 699,
     "metadata": {},
     "output_type": "execute_result"
    },
    {
     "data": {
      "image/png": "[encoded data removed]",
      "text/plain": [
       "<Figure size 455.234x360 with 1 Axes>"
      ]
     },
     "metadata": {
      "needs_background": "light"
     },
     "output_type": "display_data"
    }
   ],
   "source": [
    "sns.FacetGrid(dt_car_train, hue = 'price_category', size = 5, hue_order=orders).map(sns.distplot, \"power\").add_legend()"
   ]
  },
  {
   "cell_type": "code",
   "execution_count": 700,
   "metadata": {},
   "outputs": [
    {
     "data": {
      "text/plain": [
       "<matplotlib.axes._subplots.AxesSubplot at 0x7f909b877710>"
      ]
     },
     "execution_count": 700,
     "metadata": {},
     "output_type": "execute_result"
    },
    {
     "data": {
      "image/png": "[encoded data removed]",
      "text/plain": [
       "<Figure size 432x288 with 1 Axes>"
      ]
     },
     "metadata": {
      "needs_background": "light"
     },
     "output_type": "display_data"
    }
   ],
   "source": [
    "sns.boxplot(x='price_category', y='power', data = dt_car_train, order=orders, showfliers = False)"
   ]
  },
  {
   "cell_type": "markdown",
   "metadata": {},
   "source": [
    "Acceleration relation with price category"
   ]
  },
  {
   "cell_type": "code",
   "execution_count": 701,
   "metadata": {},
   "outputs": [
    {
     "name": "stderr",
     "output_type": "stream",
     "text": [
      "/Users/jorgeferreira/opt/anaconda3/lib/python3.7/site-packages/seaborn/axisgrid.py:243: UserWarning: The `size` parameter has been renamed to `height`; please update your code.\n",
      "  warnings.warn(msg, UserWarning)\n"
     ]
    },
    {
     "data": {
      "text/plain": [
       "<seaborn.axisgrid.FacetGrid at 0x7f909be11dd0>"
      ]
     },
     "execution_count": 701,
     "metadata": {},
     "output_type": "execute_result"
    },
    {
     "data": {
      "image/png": "[encoded data removed]",
      "text/plain": [
       "<Figure size 455.234x360 with 1 Axes>"
      ]
     },
     "metadata": {
      "needs_background": "light"
     },
     "output_type": "display_data"
    }
   ],
   "source": [
    "sns.FacetGrid(dt_car_train, hue = 'price_category', size = 5, hue_order=orders).map(sns.distplot, \"acceleration\").add_legend()"
   ]
  },
  {
   "cell_type": "code",
   "execution_count": 702,
   "metadata": {},
   "outputs": [
    {
     "data": {
      "text/plain": [
       "<matplotlib.axes._subplots.AxesSubplot at 0x7f909c3ae450>"
      ]
     },
     "execution_count": 702,
     "metadata": {},
     "output_type": "execute_result"
    },
    {
     "data": {
      "image/png": "[encoded data removed]",
      "text/plain": [
       "<Figure size 432x288 with 1 Axes>"
      ]
     },
     "metadata": {
      "needs_background": "light"
     },
     "output_type": "display_data"
    }
   ],
   "source": [
    "sns.boxplot(x='price_category', y='acceleration', data = dt_car_train, order=orders, showfliers = False)"
   ]
  },
  {
   "cell_type": "markdown",
   "metadata": {},
   "source": [
    "There is probably an error is this data. The top slowest cars to reach 60 mph (apporximatly 100 km/h) do not take ore than 30 seconds\n",
    "\n",
    "https://www.hotcars.com/13-slowest-cars-to-60mph-youll-probably-sleep-midway/"
   ]
  },
  {
   "cell_type": "markdown",
   "metadata": {},
   "source": [
    "Mileage relation with price category"
   ]
  },
  {
   "cell_type": "code",
   "execution_count": 703,
   "metadata": {},
   "outputs": [
    {
     "name": "stderr",
     "output_type": "stream",
     "text": [
      "/Users/jorgeferreira/opt/anaconda3/lib/python3.7/site-packages/seaborn/axisgrid.py:243: UserWarning: The `size` parameter has been renamed to `height`; please update your code.\n",
      "  warnings.warn(msg, UserWarning)\n"
     ]
    },
    {
     "data": {
      "text/plain": [
       "<seaborn.axisgrid.FacetGrid at 0x7f909c526390>"
      ]
     },
     "execution_count": 703,
     "metadata": {},
     "output_type": "execute_result"
    },
    {
     "data": {
      "image/png": "[encoded data removed]",
      "text/plain": [
       "<Figure size 455.234x360 with 1 Axes>"
      ]
     },
     "metadata": {
      "needs_background": "light"
     },
     "output_type": "display_data"
    }
   ],
   "source": [
    "sns.FacetGrid(dt_car_train, hue = 'price_category', size = 5, hue_order=orders).map(sns.distplot, \"mileage\").add_legend()"
   ]
  },
  {
   "cell_type": "code",
   "execution_count": 704,
   "metadata": {},
   "outputs": [
    {
     "data": {
      "text/plain": [
       "<matplotlib.axes._subplots.AxesSubplot at 0x7f909ca46850>"
      ]
     },
     "execution_count": 704,
     "metadata": {},
     "output_type": "execute_result"
    },
    {
     "data": {
      "image/png": "[encoded data removed]",
      "text/plain": [
       "<Figure size 432x288 with 1 Axes>"
      ]
     },
     "metadata": {
      "needs_background": "light"
     },
     "output_type": "display_data"
    }
   ],
   "source": [
    "sns.boxplot(x='price_category', y='mileage', data = dt_car_train, order=orders, showfliers = False)"
   ]
  },
  {
   "cell_type": "markdown",
   "metadata": {},
   "source": [
    "Top speed relation with price category"
   ]
  },
  {
   "cell_type": "code",
   "execution_count": 705,
   "metadata": {},
   "outputs": [
    {
     "name": "stderr",
     "output_type": "stream",
     "text": [
      "/Users/jorgeferreira/opt/anaconda3/lib/python3.7/site-packages/seaborn/axisgrid.py:243: UserWarning: The `size` parameter has been renamed to `height`; please update your code.\n",
      "  warnings.warn(msg, UserWarning)\n"
     ]
    },
    {
     "data": {
      "text/plain": [
       "<seaborn.axisgrid.FacetGrid at 0x7f909cc5c110>"
      ]
     },
     "execution_count": 705,
     "metadata": {},
     "output_type": "execute_result"
    },
    {
     "data": {
      "image/png": "[encoded data removed]",
      "text/plain": [
       "<Figure size 455.234x360 with 1 Axes>"
      ]
     },
     "metadata": {
      "needs_background": "light"
     },
     "output_type": "display_data"
    }
   ],
   "source": [
    "sns.FacetGrid(dt_car_train, hue = 'price_category', size = 5, hue_order=orders).map(sns.distplot, \"top_speed\").add_legend()"
   ]
  },
  {
   "cell_type": "code",
   "execution_count": 706,
   "metadata": {},
   "outputs": [
    {
     "data": {
      "text/plain": [
       "<matplotlib.axes._subplots.AxesSubplot at 0x7f909ce0c0d0>"
      ]
     },
     "execution_count": 706,
     "metadata": {},
     "output_type": "execute_result"
    },
    {
     "data": {
      "image/png": "[encoded data removed]",
      "text/plain": [
       "<Figure size 432x288 with 1 Axes>"
      ]
     },
     "metadata": {
      "needs_background": "light"
     },
     "output_type": "display_data"
    }
   ],
   "source": [
    "sns.boxplot(x='price_category', y='top_speed', data = dt_car_train, order=orders, showfliers = False)"
   ]
  },
  {
   "cell_type": "markdown",
   "metadata": {},
   "source": [
    "# Modeling"
   ]
  },
  {
   "cell_type": "markdown",
   "metadata": {},
   "source": [
    "Seting up H2O"
   ]
  },
  {
   "cell_type": "code",
   "execution_count": 866,
   "metadata": {},
   "outputs": [
    {
     "name": "stdout",
     "output_type": "stream",
     "text": [
      "Checking whether there is an H2O instance running at http://localhost:54321 . connected.\n"
     ]
    },
    {
     "data": {
      "text/html": [
       "<div style=\"overflow:auto\"><table style=\"width:50%\"><tr><td>H2O_cluster_uptime:</td>\n",
       "<td>1 day 6 hours 52 mins</td></tr>\n",
       "<tr><td>H2O_cluster_timezone:</td>\n",
       "<td>Europe/Lisbon</td></tr>\n",
       "<tr><td>H2O_data_parsing_timezone:</td>\n",
       "<td>UTC</td></tr>\n",
       "<tr><td>H2O_cluster_version:</td>\n",
       "<td>3.34.0.4</td></tr>\n",
       "<tr><td>H2O_cluster_version_age:</td>\n",
       "<td>5 days </td></tr>\n",
       "<tr><td>H2O_cluster_name:</td>\n",
       "<td>H2O_from_python_jorgeferreira_aznp3u</td></tr>\n",
       "<tr><td>H2O_cluster_total_nodes:</td>\n",
       "<td>1</td></tr>\n",
       "<tr><td>H2O_cluster_free_memory:</td>\n",
       "<td>3.057 Gb</td></tr>\n",
       "<tr><td>H2O_cluster_total_cores:</td>\n",
       "<td>8</td></tr>\n",
       "<tr><td>H2O_cluster_allowed_cores:</td>\n",
       "<td>8</td></tr>\n",
       "<tr><td>H2O_cluster_status:</td>\n",
       "<td>locked, healthy</td></tr>\n",
       "<tr><td>H2O_connection_url:</td>\n",
       "<td>http://localhost:54321</td></tr>\n",
       "<tr><td>H2O_connection_proxy:</td>\n",
       "<td>{\"http\": null, \"https\": null}</td></tr>\n",
       "<tr><td>H2O_internal_security:</td>\n",
       "<td>False</td></tr>\n",
       "<tr><td>H2O_API_Extensions:</td>\n",
       "<td>Amazon S3, XGBoost, Algos, AutoML, Core V3, TargetEncoder, Core V4</td></tr>\n",
       "<tr><td>Python_version:</td>\n",
       "<td>3.7.6 final</td></tr></table></div>"
      ],
      "text/plain": [
       "--------------------------  ------------------------------------------------------------------\n",
       "H2O_cluster_uptime:         1 day 6 hours 52 mins\n",
       "H2O_cluster_timezone:       Europe/Lisbon\n",
       "H2O_data_parsing_timezone:  UTC\n",
       "H2O_cluster_version:        3.34.0.4\n",
       "H2O_cluster_version_age:    5 days\n",
       "H2O_cluster_name:           H2O_from_python_jorgeferreira_aznp3u\n",
       "H2O_cluster_total_nodes:    1\n",
       "H2O_cluster_free_memory:    3.057 Gb\n",
       "H2O_cluster_total_cores:    8\n",
       "H2O_cluster_allowed_cores:  8\n",
       "H2O_cluster_status:         locked, healthy\n",
       "H2O_connection_url:         http://localhost:54321\n",
       "H2O_connection_proxy:       {\"http\": null, \"https\": null}\n",
       "H2O_internal_security:      False\n",
       "H2O_API_Extensions:         Amazon S3, XGBoost, Algos, AutoML, Core V3, TargetEncoder, Core V4\n",
       "Python_version:             3.7.6 final\n",
       "--------------------------  ------------------------------------------------------------------"
      ]
     },
     "metadata": {},
     "output_type": "display_data"
    }
   ],
   "source": [
    "h2o.init()"
   ]
  },
  {
   "cell_type": "code",
   "execution_count": 867,
   "metadata": {},
   "outputs": [
    {
     "name": "stdout",
     "output_type": "stream",
     "text": [
      "Parse progress: |████████████████████████████████████████████████████████████████| (done) 100%\n"
     ]
    }
   ],
   "source": [
    "hf_train = h2o.H2OFrame(dt_car_train)"
   ]
  },
  {
   "cell_type": "code",
   "execution_count": 868,
   "metadata": {},
   "outputs": [
    {
     "data": {
      "text/html": [
       "<table>\n",
       "<thead>\n",
       "<tr><th>price_category  </th><th style=\"text-align: right;\">  year</th><th style=\"text-align: right;\">  mileage</th><th style=\"text-align: right;\">  power</th><th>car_type    </th><th>fuel_type  </th><th>transmission  </th><th style=\"text-align: right;\">  n_doors</th><th style=\"text-align: right;\">  n_cylinders</th><th style=\"text-align: right;\">  displacement</th><th style=\"text-align: right;\">  dry_weight</th><th style=\"text-align: right;\">  acceleration</th><th style=\"text-align: right;\">  top_speed</th><th style=\"text-align: right;\">  n_seats</th><th style=\"text-align: right;\">  emission</th><th>emission_label  </th><th>car_maker    </th><th>country       </th></tr>\n",
       "</thead>\n",
       "<tbody>\n",
       "<tr><td>5 (10K-15K)     </td><td style=\"text-align: right;\">  2012</td><td style=\"text-align: right;\">   168390</td><td style=\"text-align: right;\">    160</td><td>stationwagon</td><td>benzine    </td><td>Handgeschakeld</td><td style=\"text-align: right;\">        5</td><td style=\"text-align: right;\">            4</td><td style=\"text-align: right;\">          1798</td><td style=\"text-align: right;\">        1490</td><td style=\"text-align: right;\">           9  </td><td style=\"text-align: right;\">        211</td><td style=\"text-align: right;\">        5</td><td style=\"text-align: right;\">        82</td><td>Euro5           </td><td>volkswagen   </td><td>Germany       </td></tr>\n",
       "<tr><td>6 (&gt; 15K)       </td><td style=\"text-align: right;\">  2015</td><td style=\"text-align: right;\">    12170</td><td style=\"text-align: right;\">    200</td><td>hatchback   </td><td>benzine    </td><td>Automaat      </td><td style=\"text-align: right;\">        5</td><td style=\"text-align: right;\">            4</td><td style=\"text-align: right;\">          1618</td><td style=\"text-align: right;\">        1179</td><td style=\"text-align: right;\">           7  </td><td style=\"text-align: right;\">        230</td><td style=\"text-align: right;\">        5</td><td style=\"text-align: right;\">        37</td><td>Euro6           </td><td>renault      </td><td>France        </td></tr>\n",
       "<tr><td>3 (2K-5K)       </td><td style=\"text-align: right;\">  2008</td><td style=\"text-align: right;\">   233485</td><td style=\"text-align: right;\">    103</td><td>mpv         </td><td>diesel     </td><td>Handgeschakeld</td><td style=\"text-align: right;\">        5</td><td style=\"text-align: right;\">            4</td><td style=\"text-align: right;\">          1461</td><td style=\"text-align: right;\">        1340</td><td style=\"text-align: right;\">          12.4</td><td style=\"text-align: right;\">        176</td><td style=\"text-align: right;\">        5</td><td style=\"text-align: right;\">        41</td><td>                </td><td>renault      </td><td>France        </td></tr>\n",
       "<tr><td>4 (5K-10K)      </td><td style=\"text-align: right;\">  2012</td><td style=\"text-align: right;\">   287567</td><td style=\"text-align: right;\">    109</td><td>mpv         </td><td>diesel     </td><td>Automaat      </td><td style=\"text-align: right;\">        5</td><td style=\"text-align: right;\">            4</td><td style=\"text-align: right;\">          1796</td><td style=\"text-align: right;\">        1405</td><td style=\"text-align: right;\">          10.7</td><td style=\"text-align: right;\">        190</td><td style=\"text-align: right;\">        5</td><td style=\"text-align: right;\">        18</td><td>Euro5           </td><td>mercedes-benz</td><td>Germany       </td></tr>\n",
       "<tr><td>6 (&gt; 15K)       </td><td style=\"text-align: right;\">  2013</td><td style=\"text-align: right;\">    72565</td><td style=\"text-align: right;\">    nan</td><td>coupe       </td><td>diesel     </td><td>Automaat      </td><td style=\"text-align: right;\">        2</td><td style=\"text-align: right;\">          nan</td><td style=\"text-align: right;\">           nan</td><td style=\"text-align: right;\">        1285</td><td style=\"text-align: right;\">          99.9</td><td style=\"text-align: right;\">        nan</td><td style=\"text-align: right;\">        5</td><td style=\"text-align: right;\">         1</td><td>                </td><td>kia          </td><td>South Korea   </td></tr>\n",
       "<tr><td>1 (&lt; 1K)        </td><td style=\"text-align: right;\">  2000</td><td style=\"text-align: right;\">   130821</td><td style=\"text-align: right;\">     65</td><td>hatchback   </td><td>benzine    </td><td>Handgeschakeld</td><td style=\"text-align: right;\">        2</td><td style=\"text-align: right;\">            4</td><td style=\"text-align: right;\">          1199</td><td style=\"text-align: right;\">         850</td><td style=\"text-align: right;\">          14  </td><td style=\"text-align: right;\">        163</td><td style=\"text-align: right;\">        5</td><td style=\"text-align: right;\">        55</td><td>Euro2           </td><td>opel         </td><td>Germany       </td></tr>\n",
       "<tr><td>6 (&gt; 15K)       </td><td style=\"text-align: right;\">  2012</td><td style=\"text-align: right;\">   111500</td><td style=\"text-align: right;\">    117</td><td>            </td><td>benzine    </td><td>Handgeschakeld</td><td style=\"text-align: right;\">      nan</td><td style=\"text-align: right;\">            4</td><td style=\"text-align: right;\">          1598</td><td style=\"text-align: right;\">        1210</td><td style=\"text-align: right;\">          11.9</td><td style=\"text-align: right;\">        181</td><td style=\"text-align: right;\">        5</td><td style=\"text-align: right;\">        43</td><td>Euro5           </td><td>nissan       </td><td>Japan         </td></tr>\n",
       "<tr><td>4 (5K-10K)      </td><td style=\"text-align: right;\">  2010</td><td style=\"text-align: right;\">   107145</td><td style=\"text-align: right;\">    101</td><td>hatchback   </td><td>benzine    </td><td>Handgeschakeld</td><td style=\"text-align: right;\">        2</td><td style=\"text-align: right;\">            4</td><td style=\"text-align: right;\">          1368</td><td style=\"text-align: right;\">         915</td><td style=\"text-align: right;\">          10.7</td><td style=\"text-align: right;\">        182</td><td style=\"text-align: right;\">        4</td><td style=\"text-align: right;\">        39</td><td>Euro5           </td><td>fiat         </td><td>Italy         </td></tr>\n",
       "<tr><td>3 (2K-5K)       </td><td style=\"text-align: right;\">  2003</td><td style=\"text-align: right;\">   119144</td><td style=\"text-align: right;\">    116</td><td>hatchback   </td><td>benzine    </td><td>Handgeschakeld</td><td style=\"text-align: right;\">        3</td><td style=\"text-align: right;\">            4</td><td style=\"text-align: right;\">          1598</td><td style=\"text-align: right;\">        1050</td><td style=\"text-align: right;\">           9.1</td><td style=\"text-align: right;\">        200</td><td style=\"text-align: right;\">        4</td><td style=\"text-align: right;\">        67</td><td>Euro4           </td><td>mini         </td><td>United Kingdom</td></tr>\n",
       "<tr><td>3 (2K-5K)       </td><td style=\"text-align: right;\">  2010</td><td style=\"text-align: right;\">    71248</td><td style=\"text-align: right;\">     75</td><td>hatchback   </td><td>benzine    </td><td>Handgeschakeld</td><td style=\"text-align: right;\">        3</td><td style=\"text-align: right;\">            4</td><td style=\"text-align: right;\">          1198</td><td style=\"text-align: right;\">         850</td><td style=\"text-align: right;\">          12  </td><td style=\"text-align: right;\">        178</td><td style=\"text-align: right;\">        5</td><td style=\"text-align: right;\">         1</td><td>                </td><td>renault      </td><td>France        </td></tr>\n",
       "</tbody>\n",
       "</table>"
      ]
     },
     "metadata": {},
     "output_type": "display_data"
    },
    {
     "data": {
      "text/plain": []
     },
     "execution_count": 868,
     "metadata": {},
     "output_type": "execute_result"
    }
   ],
   "source": [
    "train_dt = hf_train.drop(['id', 'make', 'color', 'flg_missing_power','flg_missing_car_type'\n",
    "                       ,'flg_missing_color','flg_missing_fuel_type','flg_missing_transmission',\n",
    "                       'flg_missing_n_doors','flg_missing_n_cylinders','flg_missing_displacement',\n",
    "                       'flg_missing_dry_weight','flg_missing_acceleration','flg_missing_top_speed'\n",
    "                       ,'flg_missing_n_seats','flg_missing_emission','flg_missing_emission_label',\n",
    "                       'Color Dutch','Color English','class', 'average price', 'car_make', 'class_rank' ]) \n",
    "train_dt['price_category'] = train_dt['price_category'].asfactor()\n",
    "train_dt.head()"
   ]
  },
  {
   "cell_type": "code",
   "execution_count": 873,
   "metadata": {},
   "outputs": [],
   "source": [
    "train, test, valid  = train_dt.split_frame(ratios=[0.7, 0.15], seed=1)"
   ]
  },
  {
   "cell_type": "code",
   "execution_count": 874,
   "metadata": {},
   "outputs": [
    {
     "name": "stdout",
     "output_type": "stream",
     "text": [
      "(5780, 18)\n",
      "(1236, 18)\n",
      "(1216, 18)\n"
     ]
    }
   ],
   "source": [
    "print(train.shape)\n",
    "print(valid.shape)\n",
    "print(test.shape)"
   ]
  },
  {
   "cell_type": "code",
   "execution_count": 875,
   "metadata": {},
   "outputs": [
    {
     "data": {
      "text/plain": [
       "{'price_category': 'enum',\n",
       " 'year': 'int',\n",
       " 'mileage': 'int',\n",
       " 'power': 'int',\n",
       " 'car_type': 'enum',\n",
       " 'fuel_type': 'enum',\n",
       " 'transmission': 'enum',\n",
       " 'n_doors': 'int',\n",
       " 'n_cylinders': 'int',\n",
       " 'displacement': 'int',\n",
       " 'dry_weight': 'int',\n",
       " 'acceleration': 'real',\n",
       " 'top_speed': 'int',\n",
       " 'n_seats': 'int',\n",
       " 'emission': 'int',\n",
       " 'emission_label': 'enum',\n",
       " 'car_maker': 'enum',\n",
       " 'country': 'enum'}"
      ]
     },
     "execution_count": 875,
     "metadata": {},
     "output_type": "execute_result"
    }
   ],
   "source": [
    "train.types"
   ]
  },
  {
   "cell_type": "markdown",
   "metadata": {},
   "source": [
    "### AutoML - no additional pre-processing"
   ]
  },
  {
   "cell_type": "code",
   "execution_count": 877,
   "metadata": {},
   "outputs": [],
   "source": [
    "aml = H2OAutoML(max_models = 10, seed = 10, verbosity=\"info\", nfolds=0)"
   ]
  },
  {
   "cell_type": "code",
   "execution_count": 876,
   "metadata": {},
   "outputs": [],
   "source": [
    "y ='price_category'\n",
    "x= train.columns\n",
    "x.remove(y)"
   ]
  },
  {
   "cell_type": "code",
   "execution_count": 878,
   "metadata": {
    "scrolled": false
   },
   "outputs": [
    {
     "name": "stdout",
     "output_type": "stream",
     "text": [
      "AutoML progress: |\n",
      "00:53:26.532: Project: AutoML_10_20211123_05326\n",
      "00:53:26.532: Cross-validation disabled by user: no fold column nor nfolds > 1.\n",
      "00:53:26.532: Setting stopping tolerance adaptively based on the training frame: 0.01315334104411641\n",
      "00:53:26.532: Build control seed: 10\n",
      "00:53:26.532: Since cross-validation is disabled, and no leaderboard frame was provided, automatically split the training data into training and leaderboard frames in the ratio 90/10\n",
      "00:53:26.539: training frame: Frame key: AutoML_10_20211123_05326_training_py_399_sid_96c8    cols: 18    rows: 5208  chunks: 1    size: 155528  checksum: 9107307468829374182\n",
      "00:53:26.539: validation frame: Frame key: py_401_sid_96c8    cols: 18    rows: 1236  chunks: 1    size: 45528  checksum: -9078074636163004244\n",
      "00:53:26.540: leaderboard frame: Frame key: AutoML_10_20211123_05326_leaderboard_py_399_sid_96c8    cols: 18    rows: 572  chunks: 1    size: 29184  checksum: 568849092679579940\n",
      "00:53:26.540: blending frame: NULL\n",
      "00:53:26.540: response column: price_category\n",
      "00:53:26.540: fold column: null\n",
      "00:53:26.540: weights column: null\n",
      "00:53:26.540: Loading execution steps: [{XGBoost : [def_2 (1g, 10w), def_1 (2g, 10w), def_3 (3g, 10w), grid_1 (4g, 90w), lr_search (6g, 30w)]}, {GLM : [def_1 (1g, 10w)]}, {DRF : [def_1 (2g, 10w), XRT (3g, 10w)]}, {GBM : [def_5 (1g, 10w), def_2 (2g, 10w), def_3 (2g, 10w), def_4 (2g, 10w), def_1 (3g, 10w), grid_1 (4g, 60w), lr_annealing (6g, 10w)]}, {DeepLearning : [def_1 (3g, 10w), grid_1 (4g, 30w), grid_2 (5g, 30w), grid_3 (5g, 30w)]}, {completion : [resume_best_grids (10g, 60w)]}, {StackedEnsemble : [best_of_family_1 (1g, 5w), best_of_family_2 (2g, 5w), best_of_family_3 (3g, 5w), best_of_family_4 (4g, 5w), best_of_family_5 (5g, 5w), all_2 (2g, 10w), all_3 (3g, 10w), all_4 (4g, 10w), all_5 (5g, 10w), monotonic (6g, 10w), best_of_family_xgboost (6g, 10w), best_of_family_gbm (6g, 10w), all_xgboost (7g, 10w), all_gbm (7g, 10w), best_of_family_xglm (8g, 10w), all_xglm (8g, 10w), best_of_family (10g, 10w), best_N (10g, 10w)]}]\n",
      "00:53:26.541: AutoML job created: 2021.11.23 00:53:26.531\n",
      "00:53:26.541: AutoML build started: 2021.11.23 00:53:26.541\n",
      "00:53:26.542: AutoML: starting XGBoost_1_AutoML_10_20211123_05326 model training\n",
      "\n",
      "██\n",
      "00:53:30.574: New leader: XGBoost_1_AutoML_10_20211123_05326, mean_per_class_error: 0.37630812536384756\n",
      "00:53:30.574: AutoML: starting GLM_1_AutoML_10_20211123_05326 model training\n",
      "00:53:31.575: GLM_1_AutoML_10_20211123_05326 [GLM def_1] failed: java.lang.ArrayIndexOutOfBoundsException\n",
      "00:53:31.576: AutoML: starting GBM_1_AutoML_10_20211123_05326 model training\n",
      "\n",
      "█\n",
      "00:53:33.680: New leader: GBM_1_AutoML_10_20211123_05326, mean_per_class_error: 0.35985242490500474\n",
      "00:53:33.681: Cross-validation is disabled by the user and no blending frame was provided; skipping StackedEnsemble 'best_of_family_1'.\n",
      "00:53:33.681: AutoML: starting XGBoost_2_AutoML_10_20211123_05326 model training\n",
      "\n",
      "██\n",
      "00:53:40.747: AutoML: starting DRF_1_AutoML_10_20211123_05326 model training\n",
      "\n",
      "█\n",
      "00:53:43.859: AutoML: starting GBM_2_AutoML_10_20211123_05326 model training\n",
      "00:53:44.936: AutoML: starting GBM_3_AutoML_10_20211123_05326 model training\n",
      "\n",
      "██\n",
      "00:53:47.52: AutoML: starting GBM_4_AutoML_10_20211123_05326 model training\n",
      "\n",
      "█\n",
      "00:53:49.157: Cross-validation is disabled by the user and no blending frame was provided; skipping StackedEnsemble 'best_of_family_2'.\n",
      "00:53:49.157: Cross-validation is disabled by the user and no blending frame was provided; skipping StackedEnsemble 'all_2'.\n",
      "00:53:49.157: AutoML: starting XGBoost_3_AutoML_10_20211123_05326 model training\n",
      "00:53:52.191: New leader: XGBoost_3_AutoML_10_20211123_05326, mean_per_class_error: 0.3431060397470072\n",
      "00:53:52.192: AutoML: starting XRT_1_AutoML_10_20211123_05326 model training\n",
      "\n",
      "██\n",
      "00:53:55.308: AutoML: starting GBM_5_AutoML_10_20211123_05326 model training\n",
      "00:53:56.401: Cross-validation is disabled by the user and no blending frame was provided; skipping StackedEnsemble 'best_of_family_3'.\n",
      "00:53:56.402: Cross-validation is disabled by the user and no blending frame was provided; skipping StackedEnsemble 'all_3'.\n",
      "00:53:56.402: Cross-validation is disabled by the user and no blending frame was provided; skipping StackedEnsemble 'best_of_family_4'.\n",
      "00:53:56.402: Cross-validation is disabled by the user and no blending frame was provided; skipping StackedEnsemble 'all_4'.\n",
      "00:53:56.402: Cross-validation is disabled by the user and no blending frame was provided; skipping StackedEnsemble 'best_of_family_5'.\n",
      "00:53:56.402: Cross-validation is disabled by the user and no blending frame was provided; skipping StackedEnsemble 'all_5'.\n",
      "00:53:56.402: No base models, due to timeouts or the exclude_algos option. Skipping StackedEnsemble 'monotonic'.\n",
      "00:53:56.402: Cross-validation is disabled by the user and no blending frame was provided; skipping StackedEnsemble 'best_of_family_xgboost'.\n",
      "00:53:56.402: Cross-validation is disabled by the user and no blending frame was provided; skipping StackedEnsemble 'best_of_family_gbm'.\n",
      "00:53:56.402: Cross-validation is disabled by the user and no blending frame was provided; skipping StackedEnsemble 'all_xgboost'.\n",
      "00:53:56.402: Cross-validation is disabled by the user and no blending frame was provided; skipping StackedEnsemble 'all_gbm'.\n",
      "00:53:56.402: Cross-validation is disabled by the user and no blending frame was provided; skipping StackedEnsemble 'best_of_family_xglm'.\n",
      "00:53:56.402: Cross-validation is disabled by the user and no blending frame was provided; skipping StackedEnsemble 'all_xglm'.\n",
      "00:53:56.402: Cross-validation is disabled by the user and no blending frame was provided; skipping StackedEnsemble 'best_of_family'.\n",
      "00:53:56.402: Cross-validation is disabled by the user and no blending frame was provided; skipping StackedEnsemble 'best_N'.\n",
      "00:53:56.402: Actual modeling steps: [{XGBoost : [def_2 (1g, 10w)]}, {GLM : [def_1 (1g, 10w)]}, {GBM : [def_5 (1g, 10w)]}, {XGBoost : [def_1 (2g, 10w)]}, {DRF : [def_1 (2g, 10w)]}, {GBM : [def_2 (2g, 10w), def_3 (2g, 10w), def_4 (2g, 10w)]}, {XGBoost : [def_3 (3g, 10w)]}, {DRF : [XRT (3g, 10w)]}, {GBM : [def_1 (3g, 10w)]}]\n",
      "00:53:56.402: AutoML build stopped: 2021.11.23 00:53:56.402\n",
      "00:53:56.403: AutoML build done: built 10 models\n",
      "00:53:56.403: AutoML duration: 29.861 sec\n",
      "\n",
      "████████████████████████████████████████████████████| (done) 100%\n",
      "Model Details\n",
      "=============\n",
      "H2OXGBoostEstimator :  XGBoost\n",
      "Model Key:  XGBoost_3_AutoML_10_20211123_05326\n",
      "\n",
      "\n",
      "Model Summary: \n"
     ]
    },
    {
     "data": {
      "text/html": [
       "<div>\n",
       "<style scoped>\n",
       "    .dataframe tbody tr th:only-of-type {\n",
       "        vertical-align: middle;\n",
       "    }\n",
       "\n",
       "    .dataframe tbody tr th {\n",
       "        vertical-align: top;\n",
       "    }\n",
       "\n",
       "    .dataframe thead th {\n",
       "        text-align: right;\n",
       "    }\n",
       "</style>\n",
       "<table border=\"1\" class=\"dataframe\">\n",
       "  <thead>\n",
       "    <tr style=\"text-align: right;\">\n",
       "      <th></th>\n",
       "      <th></th>\n",
       "      <th>number_of_trees</th>\n",
       "    </tr>\n",
       "  </thead>\n",
       "  <tbody>\n",
       "    <tr>\n",
       "      <th>0</th>\n",
       "      <td></td>\n",
       "      <td>50.0</td>\n",
       "    </tr>\n",
       "  </tbody>\n",
       "</table>\n",
       "</div>"
      ],
      "text/plain": [
       "     number_of_trees\n",
       "0               50.0"
      ]
     },
     "metadata": {},
     "output_type": "display_data"
    },
    {
     "name": "stdout",
     "output_type": "stream",
     "text": [
      "\n",
      "\n",
      "ModelMetricsMultinomial: xgboost\n",
      "** Reported on train data. **\n",
      "\n",
      "MSE: 0.13642331632065693\n",
      "RMSE: 0.36935527114237443\n",
      "LogLoss: 0.43318067984576886\n",
      "Mean Per-Class Error: 0.12914406527873096\n",
      "AUC: NaN\n",
      "AUCPR: NaN\n",
      "Multinomial auc values: Table is not computed because it is disabled (model parameter 'auc_type' is set to AUTO or NONE) or due to domain size (maximum is 50 domains).\n",
      "Multinomial auc_pr values: Table is not computed because it is disabled (model parameter 'auc_type' is set to AUTO or NONE) or due to domain size (maximum is 50 domains).\n",
      "\n",
      "Confusion Matrix: Row labels: Actual class; Column labels: Predicted class\n"
     ]
    },
    {
     "data": {
      "text/html": [
       "<div>\n",
       "<style scoped>\n",
       "    .dataframe tbody tr th:only-of-type {\n",
       "        vertical-align: middle;\n",
       "    }\n",
       "\n",
       "    .dataframe tbody tr th {\n",
       "        vertical-align: top;\n",
       "    }\n",
       "\n",
       "    .dataframe thead th {\n",
       "        text-align: right;\n",
       "    }\n",
       "</style>\n",
       "<table border=\"1\" class=\"dataframe\">\n",
       "  <thead>\n",
       "    <tr style=\"text-align: right;\">\n",
       "      <th></th>\n",
       "      <th>1 (&lt; 1K)</th>\n",
       "      <th>2 (1K-2K)</th>\n",
       "      <th>3 (2K-5K)</th>\n",
       "      <th>4 (5K-10K)</th>\n",
       "      <th>5 (10K-15K)</th>\n",
       "      <th>6 (&gt; 15K)</th>\n",
       "      <th>Error</th>\n",
       "      <th>Rate</th>\n",
       "    </tr>\n",
       "  </thead>\n",
       "  <tbody>\n",
       "    <tr>\n",
       "      <th>0</th>\n",
       "      <td>428.0</td>\n",
       "      <td>95.0</td>\n",
       "      <td>46.0</td>\n",
       "      <td>16.0</td>\n",
       "      <td>5.0</td>\n",
       "      <td>6.0</td>\n",
       "      <td>0.281879</td>\n",
       "      <td>168 / 596</td>\n",
       "    </tr>\n",
       "    <tr>\n",
       "      <th>1</th>\n",
       "      <td>46.0</td>\n",
       "      <td>778.0</td>\n",
       "      <td>93.0</td>\n",
       "      <td>2.0</td>\n",
       "      <td>0.0</td>\n",
       "      <td>0.0</td>\n",
       "      <td>0.153428</td>\n",
       "      <td>141 / 919</td>\n",
       "    </tr>\n",
       "    <tr>\n",
       "      <th>2</th>\n",
       "      <td>11.0</td>\n",
       "      <td>87.0</td>\n",
       "      <td>1352.0</td>\n",
       "      <td>42.0</td>\n",
       "      <td>4.0</td>\n",
       "      <td>0.0</td>\n",
       "      <td>0.096257</td>\n",
       "      <td>144 / 1,496</td>\n",
       "    </tr>\n",
       "    <tr>\n",
       "      <th>3</th>\n",
       "      <td>1.0</td>\n",
       "      <td>1.0</td>\n",
       "      <td>73.0</td>\n",
       "      <td>996.0</td>\n",
       "      <td>23.0</td>\n",
       "      <td>4.0</td>\n",
       "      <td>0.092896</td>\n",
       "      <td>102 / 1,098</td>\n",
       "    </tr>\n",
       "    <tr>\n",
       "      <th>4</th>\n",
       "      <td>0.0</td>\n",
       "      <td>1.0</td>\n",
       "      <td>2.0</td>\n",
       "      <td>39.0</td>\n",
       "      <td>425.0</td>\n",
       "      <td>14.0</td>\n",
       "      <td>0.116424</td>\n",
       "      <td>56 / 481</td>\n",
       "    </tr>\n",
       "    <tr>\n",
       "      <th>5</th>\n",
       "      <td>0.0</td>\n",
       "      <td>4.0</td>\n",
       "      <td>2.0</td>\n",
       "      <td>6.0</td>\n",
       "      <td>9.0</td>\n",
       "      <td>597.0</td>\n",
       "      <td>0.033981</td>\n",
       "      <td>21 / 618</td>\n",
       "    </tr>\n",
       "    <tr>\n",
       "      <th>6</th>\n",
       "      <td>486.0</td>\n",
       "      <td>966.0</td>\n",
       "      <td>1568.0</td>\n",
       "      <td>1101.0</td>\n",
       "      <td>466.0</td>\n",
       "      <td>621.0</td>\n",
       "      <td>0.121352</td>\n",
       "      <td>632 / 5,208</td>\n",
       "    </tr>\n",
       "  </tbody>\n",
       "</table>\n",
       "</div>"
      ],
      "text/plain": [
       "   1 (< 1K)  2 (1K-2K)  3 (2K-5K)  4 (5K-10K)  5 (10K-15K)  6 (> 15K)  \\\n",
       "0     428.0       95.0       46.0        16.0          5.0        6.0   \n",
       "1      46.0      778.0       93.0         2.0          0.0        0.0   \n",
       "2      11.0       87.0     1352.0        42.0          4.0        0.0   \n",
       "3       1.0        1.0       73.0       996.0         23.0        4.0   \n",
       "4       0.0        1.0        2.0        39.0        425.0       14.0   \n",
       "5       0.0        4.0        2.0         6.0          9.0      597.0   \n",
       "6     486.0      966.0     1568.0      1101.0        466.0      621.0   \n",
       "\n",
       "      Error         Rate  \n",
       "0  0.281879    168 / 596  \n",
       "1  0.153428    141 / 919  \n",
       "2  0.096257  144 / 1,496  \n",
       "3  0.092896  102 / 1,098  \n",
       "4  0.116424     56 / 481  \n",
       "5  0.033981     21 / 618  \n",
       "6  0.121352  632 / 5,208  "
      ]
     },
     "metadata": {},
     "output_type": "display_data"
    },
    {
     "name": "stdout",
     "output_type": "stream",
     "text": [
      "\n",
      "Top-6 Hit Ratios: \n"
     ]
    },
    {
     "data": {
      "text/html": [
       "<div>\n",
       "<style scoped>\n",
       "    .dataframe tbody tr th:only-of-type {\n",
       "        vertical-align: middle;\n",
       "    }\n",
       "\n",
       "    .dataframe tbody tr th {\n",
       "        vertical-align: top;\n",
       "    }\n",
       "\n",
       "    .dataframe thead th {\n",
       "        text-align: right;\n",
       "    }\n",
       "</style>\n",
       "<table border=\"1\" class=\"dataframe\">\n",
       "  <thead>\n",
       "    <tr style=\"text-align: right;\">\n",
       "      <th></th>\n",
       "      <th>k</th>\n",
       "      <th>hit_ratio</th>\n",
       "    </tr>\n",
       "  </thead>\n",
       "  <tbody>\n",
       "    <tr>\n",
       "      <th>0</th>\n",
       "      <td>1</td>\n",
       "      <td>0.878648</td>\n",
       "    </tr>\n",
       "    <tr>\n",
       "      <th>1</th>\n",
       "      <td>2</td>\n",
       "      <td>0.980031</td>\n",
       "    </tr>\n",
       "    <tr>\n",
       "      <th>2</th>\n",
       "      <td>3</td>\n",
       "      <td>0.997312</td>\n",
       "    </tr>\n",
       "    <tr>\n",
       "      <th>3</th>\n",
       "      <td>4</td>\n",
       "      <td>0.999808</td>\n",
       "    </tr>\n",
       "    <tr>\n",
       "      <th>4</th>\n",
       "      <td>5</td>\n",
       "      <td>1.000000</td>\n",
       "    </tr>\n",
       "    <tr>\n",
       "      <th>5</th>\n",
       "      <td>6</td>\n",
       "      <td>1.000000</td>\n",
       "    </tr>\n",
       "  </tbody>\n",
       "</table>\n",
       "</div>"
      ],
      "text/plain": [
       "   k  hit_ratio\n",
       "0  1   0.878648\n",
       "1  2   0.980031\n",
       "2  3   0.997312\n",
       "3  4   0.999808\n",
       "4  5   1.000000\n",
       "5  6   1.000000"
      ]
     },
     "metadata": {},
     "output_type": "display_data"
    },
    {
     "name": "stdout",
     "output_type": "stream",
     "text": [
      "\n",
      "ModelMetricsMultinomial: xgboost\n",
      "** Reported on validation data. **\n",
      "\n",
      "MSE: 0.27474653005635713\n",
      "RMSE: 0.5241626942623417\n",
      "LogLoss: 0.8193283735663923\n",
      "Mean Per-Class Error: 0.3858019378324445\n",
      "AUC: NaN\n",
      "AUCPR: NaN\n",
      "Multinomial auc values: Table is not computed because it is disabled (model parameter 'auc_type' is set to AUTO or NONE) or due to domain size (maximum is 50 domains).\n",
      "Multinomial auc_pr values: Table is not computed because it is disabled (model parameter 'auc_type' is set to AUTO or NONE) or due to domain size (maximum is 50 domains).\n",
      "\n",
      "Confusion Matrix: Row labels: Actual class; Column labels: Predicted class\n"
     ]
    },
    {
     "data": {
      "text/html": [
       "<div>\n",
       "<style scoped>\n",
       "    .dataframe tbody tr th:only-of-type {\n",
       "        vertical-align: middle;\n",
       "    }\n",
       "\n",
       "    .dataframe tbody tr th {\n",
       "        vertical-align: top;\n",
       "    }\n",
       "\n",
       "    .dataframe thead th {\n",
       "        text-align: right;\n",
       "    }\n",
       "</style>\n",
       "<table border=\"1\" class=\"dataframe\">\n",
       "  <thead>\n",
       "    <tr style=\"text-align: right;\">\n",
       "      <th></th>\n",
       "      <th>1 (&lt; 1K)</th>\n",
       "      <th>2 (1K-2K)</th>\n",
       "      <th>3 (2K-5K)</th>\n",
       "      <th>4 (5K-10K)</th>\n",
       "      <th>5 (10K-15K)</th>\n",
       "      <th>6 (&gt; 15K)</th>\n",
       "      <th>Error</th>\n",
       "      <th>Rate</th>\n",
       "    </tr>\n",
       "  </thead>\n",
       "  <tbody>\n",
       "    <tr>\n",
       "      <th>0</th>\n",
       "      <td>62.0</td>\n",
       "      <td>53.0</td>\n",
       "      <td>21.0</td>\n",
       "      <td>10.0</td>\n",
       "      <td>2.0</td>\n",
       "      <td>2.0</td>\n",
       "      <td>0.586667</td>\n",
       "      <td>88 / 150</td>\n",
       "    </tr>\n",
       "    <tr>\n",
       "      <th>1</th>\n",
       "      <td>35.0</td>\n",
       "      <td>120.0</td>\n",
       "      <td>54.0</td>\n",
       "      <td>0.0</td>\n",
       "      <td>0.0</td>\n",
       "      <td>0.0</td>\n",
       "      <td>0.425837</td>\n",
       "      <td>89 / 209</td>\n",
       "    </tr>\n",
       "    <tr>\n",
       "      <th>2</th>\n",
       "      <td>2.0</td>\n",
       "      <td>44.0</td>\n",
       "      <td>256.0</td>\n",
       "      <td>38.0</td>\n",
       "      <td>0.0</td>\n",
       "      <td>0.0</td>\n",
       "      <td>0.247059</td>\n",
       "      <td>84 / 340</td>\n",
       "    </tr>\n",
       "    <tr>\n",
       "      <th>3</th>\n",
       "      <td>0.0</td>\n",
       "      <td>4.0</td>\n",
       "      <td>50.0</td>\n",
       "      <td>190.0</td>\n",
       "      <td>26.0</td>\n",
       "      <td>3.0</td>\n",
       "      <td>0.304029</td>\n",
       "      <td>83 / 273</td>\n",
       "    </tr>\n",
       "    <tr>\n",
       "      <th>4</th>\n",
       "      <td>1.0</td>\n",
       "      <td>0.0</td>\n",
       "      <td>0.0</td>\n",
       "      <td>30.0</td>\n",
       "      <td>45.0</td>\n",
       "      <td>24.0</td>\n",
       "      <td>0.550000</td>\n",
       "      <td>55 / 100</td>\n",
       "    </tr>\n",
       "    <tr>\n",
       "      <th>5</th>\n",
       "      <td>0.0</td>\n",
       "      <td>0.0</td>\n",
       "      <td>1.0</td>\n",
       "      <td>7.0</td>\n",
       "      <td>25.0</td>\n",
       "      <td>131.0</td>\n",
       "      <td>0.201220</td>\n",
       "      <td>33 / 164</td>\n",
       "    </tr>\n",
       "    <tr>\n",
       "      <th>6</th>\n",
       "      <td>100.0</td>\n",
       "      <td>221.0</td>\n",
       "      <td>382.0</td>\n",
       "      <td>275.0</td>\n",
       "      <td>98.0</td>\n",
       "      <td>160.0</td>\n",
       "      <td>0.349515</td>\n",
       "      <td>432 / 1,236</td>\n",
       "    </tr>\n",
       "  </tbody>\n",
       "</table>\n",
       "</div>"
      ],
      "text/plain": [
       "   1 (< 1K)  2 (1K-2K)  3 (2K-5K)  4 (5K-10K)  5 (10K-15K)  6 (> 15K)  \\\n",
       "0      62.0       53.0       21.0        10.0          2.0        2.0   \n",
       "1      35.0      120.0       54.0         0.0          0.0        0.0   \n",
       "2       2.0       44.0      256.0        38.0          0.0        0.0   \n",
       "3       0.0        4.0       50.0       190.0         26.0        3.0   \n",
       "4       1.0        0.0        0.0        30.0         45.0       24.0   \n",
       "5       0.0        0.0        1.0         7.0         25.0      131.0   \n",
       "6     100.0      221.0      382.0       275.0         98.0      160.0   \n",
       "\n",
       "      Error         Rate  \n",
       "0  0.586667     88 / 150  \n",
       "1  0.425837     89 / 209  \n",
       "2  0.247059     84 / 340  \n",
       "3  0.304029     83 / 273  \n",
       "4  0.550000     55 / 100  \n",
       "5  0.201220     33 / 164  \n",
       "6  0.349515  432 / 1,236  "
      ]
     },
     "metadata": {},
     "output_type": "display_data"
    },
    {
     "name": "stdout",
     "output_type": "stream",
     "text": [
      "\n",
      "Top-6 Hit Ratios: \n"
     ]
    },
    {
     "data": {
      "text/html": [
       "<div>\n",
       "<style scoped>\n",
       "    .dataframe tbody tr th:only-of-type {\n",
       "        vertical-align: middle;\n",
       "    }\n",
       "\n",
       "    .dataframe tbody tr th {\n",
       "        vertical-align: top;\n",
       "    }\n",
       "\n",
       "    .dataframe thead th {\n",
       "        text-align: right;\n",
       "    }\n",
       "</style>\n",
       "<table border=\"1\" class=\"dataframe\">\n",
       "  <thead>\n",
       "    <tr style=\"text-align: right;\">\n",
       "      <th></th>\n",
       "      <th>k</th>\n",
       "      <th>hit_ratio</th>\n",
       "    </tr>\n",
       "  </thead>\n",
       "  <tbody>\n",
       "    <tr>\n",
       "      <th>0</th>\n",
       "      <td>1</td>\n",
       "      <td>0.650485</td>\n",
       "    </tr>\n",
       "    <tr>\n",
       "      <th>1</th>\n",
       "      <td>2</td>\n",
       "      <td>0.895631</td>\n",
       "    </tr>\n",
       "    <tr>\n",
       "      <th>2</th>\n",
       "      <td>3</td>\n",
       "      <td>0.977346</td>\n",
       "    </tr>\n",
       "    <tr>\n",
       "      <th>3</th>\n",
       "      <td>4</td>\n",
       "      <td>0.995146</td>\n",
       "    </tr>\n",
       "    <tr>\n",
       "      <th>4</th>\n",
       "      <td>5</td>\n",
       "      <td>0.998382</td>\n",
       "    </tr>\n",
       "    <tr>\n",
       "      <th>5</th>\n",
       "      <td>6</td>\n",
       "      <td>1.000000</td>\n",
       "    </tr>\n",
       "  </tbody>\n",
       "</table>\n",
       "</div>"
      ],
      "text/plain": [
       "   k  hit_ratio\n",
       "0  1   0.650485\n",
       "1  2   0.895631\n",
       "2  3   0.977346\n",
       "3  4   0.995146\n",
       "4  5   0.998382\n",
       "5  6   1.000000"
      ]
     },
     "metadata": {},
     "output_type": "display_data"
    },
    {
     "name": "stdout",
     "output_type": "stream",
     "text": [
      "\n",
      "Scoring History: \n"
     ]
    },
    {
     "data": {
      "text/html": [
       "<div>\n",
       "<style scoped>\n",
       "    .dataframe tbody tr th:only-of-type {\n",
       "        vertical-align: middle;\n",
       "    }\n",
       "\n",
       "    .dataframe tbody tr th {\n",
       "        vertical-align: top;\n",
       "    }\n",
       "\n",
       "    .dataframe thead th {\n",
       "        text-align: right;\n",
       "    }\n",
       "</style>\n",
       "<table border=\"1\" class=\"dataframe\">\n",
       "  <thead>\n",
       "    <tr style=\"text-align: right;\">\n",
       "      <th></th>\n",
       "      <th></th>\n",
       "      <th>timestamp</th>\n",
       "      <th>duration</th>\n",
       "      <th>number_of_trees</th>\n",
       "      <th>training_rmse</th>\n",
       "      <th>training_logloss</th>\n",
       "      <th>training_classification_error</th>\n",
       "      <th>training_auc</th>\n",
       "      <th>training_pr_auc</th>\n",
       "      <th>validation_rmse</th>\n",
       "      <th>validation_logloss</th>\n",
       "      <th>validation_classification_error</th>\n",
       "      <th>validation_auc</th>\n",
       "      <th>validation_pr_auc</th>\n",
       "    </tr>\n",
       "  </thead>\n",
       "  <tbody>\n",
       "    <tr>\n",
       "      <th>0</th>\n",
       "      <td></td>\n",
       "      <td>2021-11-23 00:53:49</td>\n",
       "      <td>0.004 sec</td>\n",
       "      <td>0.0</td>\n",
       "      <td>0.833333</td>\n",
       "      <td>1.791759</td>\n",
       "      <td>0.789171</td>\n",
       "      <td>NaN</td>\n",
       "      <td>NaN</td>\n",
       "      <td>0.833333</td>\n",
       "      <td>1.791759</td>\n",
       "      <td>0.779126</td>\n",
       "      <td>NaN</td>\n",
       "      <td>NaN</td>\n",
       "    </tr>\n",
       "    <tr>\n",
       "      <th>1</th>\n",
       "      <td></td>\n",
       "      <td>2021-11-23 00:53:49</td>\n",
       "      <td>0.253 sec</td>\n",
       "      <td>5.0</td>\n",
       "      <td>0.631084</td>\n",
       "      <td>1.034448</td>\n",
       "      <td>0.309140</td>\n",
       "      <td>NaN</td>\n",
       "      <td>NaN</td>\n",
       "      <td>0.655861</td>\n",
       "      <td>1.120452</td>\n",
       "      <td>0.411003</td>\n",
       "      <td>NaN</td>\n",
       "      <td>NaN</td>\n",
       "    </tr>\n",
       "    <tr>\n",
       "      <th>2</th>\n",
       "      <td></td>\n",
       "      <td>2021-11-23 00:53:49</td>\n",
       "      <td>0.491 sec</td>\n",
       "      <td>10.0</td>\n",
       "      <td>0.551034</td>\n",
       "      <td>0.828446</td>\n",
       "      <td>0.270737</td>\n",
       "      <td>NaN</td>\n",
       "      <td>NaN</td>\n",
       "      <td>0.596291</td>\n",
       "      <td>0.964927</td>\n",
       "      <td>0.387540</td>\n",
       "      <td>NaN</td>\n",
       "      <td>NaN</td>\n",
       "    </tr>\n",
       "    <tr>\n",
       "      <th>3</th>\n",
       "      <td></td>\n",
       "      <td>2021-11-23 00:53:49</td>\n",
       "      <td>0.733 sec</td>\n",
       "      <td>15.0</td>\n",
       "      <td>0.503763</td>\n",
       "      <td>0.716364</td>\n",
       "      <td>0.245776</td>\n",
       "      <td>NaN</td>\n",
       "      <td>NaN</td>\n",
       "      <td>0.565754</td>\n",
       "      <td>0.893035</td>\n",
       "      <td>0.378641</td>\n",
       "      <td>NaN</td>\n",
       "      <td>NaN</td>\n",
       "    </tr>\n",
       "    <tr>\n",
       "      <th>4</th>\n",
       "      <td></td>\n",
       "      <td>2021-11-23 00:53:50</td>\n",
       "      <td>0.965 sec</td>\n",
       "      <td>20.0</td>\n",
       "      <td>0.474249</td>\n",
       "      <td>0.649762</td>\n",
       "      <td>0.221582</td>\n",
       "      <td>NaN</td>\n",
       "      <td>NaN</td>\n",
       "      <td>0.551221</td>\n",
       "      <td>0.864099</td>\n",
       "      <td>0.372168</td>\n",
       "      <td>NaN</td>\n",
       "      <td>NaN</td>\n",
       "    </tr>\n",
       "    <tr>\n",
       "      <th>5</th>\n",
       "      <td></td>\n",
       "      <td>2021-11-23 00:53:50</td>\n",
       "      <td>1.201 sec</td>\n",
       "      <td>25.0</td>\n",
       "      <td>0.451259</td>\n",
       "      <td>0.599173</td>\n",
       "      <td>0.197197</td>\n",
       "      <td>NaN</td>\n",
       "      <td>NaN</td>\n",
       "      <td>0.541597</td>\n",
       "      <td>0.844679</td>\n",
       "      <td>0.364078</td>\n",
       "      <td>NaN</td>\n",
       "      <td>NaN</td>\n",
       "    </tr>\n",
       "    <tr>\n",
       "      <th>6</th>\n",
       "      <td></td>\n",
       "      <td>2021-11-23 00:53:50</td>\n",
       "      <td>1.443 sec</td>\n",
       "      <td>30.0</td>\n",
       "      <td>0.430964</td>\n",
       "      <td>0.555623</td>\n",
       "      <td>0.182028</td>\n",
       "      <td>NaN</td>\n",
       "      <td>NaN</td>\n",
       "      <td>0.535424</td>\n",
       "      <td>0.834633</td>\n",
       "      <td>0.355987</td>\n",
       "      <td>NaN</td>\n",
       "      <td>NaN</td>\n",
       "    </tr>\n",
       "    <tr>\n",
       "      <th>7</th>\n",
       "      <td></td>\n",
       "      <td>2021-11-23 00:53:50</td>\n",
       "      <td>1.672 sec</td>\n",
       "      <td>35.0</td>\n",
       "      <td>0.413345</td>\n",
       "      <td>0.519327</td>\n",
       "      <td>0.163594</td>\n",
       "      <td>NaN</td>\n",
       "      <td>NaN</td>\n",
       "      <td>0.532497</td>\n",
       "      <td>0.830908</td>\n",
       "      <td>0.351133</td>\n",
       "      <td>NaN</td>\n",
       "      <td>NaN</td>\n",
       "    </tr>\n",
       "    <tr>\n",
       "      <th>8</th>\n",
       "      <td></td>\n",
       "      <td>2021-11-23 00:53:51</td>\n",
       "      <td>1.911 sec</td>\n",
       "      <td>40.0</td>\n",
       "      <td>0.398546</td>\n",
       "      <td>0.489310</td>\n",
       "      <td>0.149194</td>\n",
       "      <td>NaN</td>\n",
       "      <td>NaN</td>\n",
       "      <td>0.530197</td>\n",
       "      <td>0.827711</td>\n",
       "      <td>0.348706</td>\n",
       "      <td>NaN</td>\n",
       "      <td>NaN</td>\n",
       "    </tr>\n",
       "    <tr>\n",
       "      <th>9</th>\n",
       "      <td></td>\n",
       "      <td>2021-11-23 00:53:51</td>\n",
       "      <td>2.173 sec</td>\n",
       "      <td>45.0</td>\n",
       "      <td>0.383271</td>\n",
       "      <td>0.459400</td>\n",
       "      <td>0.138825</td>\n",
       "      <td>NaN</td>\n",
       "      <td>NaN</td>\n",
       "      <td>0.528446</td>\n",
       "      <td>0.826455</td>\n",
       "      <td>0.354369</td>\n",
       "      <td>NaN</td>\n",
       "      <td>NaN</td>\n",
       "    </tr>\n",
       "    <tr>\n",
       "      <th>10</th>\n",
       "      <td></td>\n",
       "      <td>2021-11-23 00:53:51</td>\n",
       "      <td>2.429 sec</td>\n",
       "      <td>50.0</td>\n",
       "      <td>0.369355</td>\n",
       "      <td>0.433181</td>\n",
       "      <td>0.121352</td>\n",
       "      <td>NaN</td>\n",
       "      <td>NaN</td>\n",
       "      <td>0.524163</td>\n",
       "      <td>0.819328</td>\n",
       "      <td>0.349515</td>\n",
       "      <td>NaN</td>\n",
       "      <td>NaN</td>\n",
       "    </tr>\n",
       "  </tbody>\n",
       "</table>\n",
       "</div>"
      ],
      "text/plain": [
       "                timestamp    duration  number_of_trees  training_rmse  \\\n",
       "0     2021-11-23 00:53:49   0.004 sec              0.0       0.833333   \n",
       "1     2021-11-23 00:53:49   0.253 sec              5.0       0.631084   \n",
       "2     2021-11-23 00:53:49   0.491 sec             10.0       0.551034   \n",
       "3     2021-11-23 00:53:49   0.733 sec             15.0       0.503763   \n",
       "4     2021-11-23 00:53:50   0.965 sec             20.0       0.474249   \n",
       "5     2021-11-23 00:53:50   1.201 sec             25.0       0.451259   \n",
       "6     2021-11-23 00:53:50   1.443 sec             30.0       0.430964   \n",
       "7     2021-11-23 00:53:50   1.672 sec             35.0       0.413345   \n",
       "8     2021-11-23 00:53:51   1.911 sec             40.0       0.398546   \n",
       "9     2021-11-23 00:53:51   2.173 sec             45.0       0.383271   \n",
       "10    2021-11-23 00:53:51   2.429 sec             50.0       0.369355   \n",
       "\n",
       "    training_logloss  training_classification_error  training_auc  \\\n",
       "0           1.791759                       0.789171           NaN   \n",
       "1           1.034448                       0.309140           NaN   \n",
       "2           0.828446                       0.270737           NaN   \n",
       "3           0.716364                       0.245776           NaN   \n",
       "4           0.649762                       0.221582           NaN   \n",
       "5           0.599173                       0.197197           NaN   \n",
       "6           0.555623                       0.182028           NaN   \n",
       "7           0.519327                       0.163594           NaN   \n",
       "8           0.489310                       0.149194           NaN   \n",
       "9           0.459400                       0.138825           NaN   \n",
       "10          0.433181                       0.121352           NaN   \n",
       "\n",
       "    training_pr_auc  validation_rmse  validation_logloss  \\\n",
       "0               NaN         0.833333            1.791759   \n",
       "1               NaN         0.655861            1.120452   \n",
       "2               NaN         0.596291            0.964927   \n",
       "3               NaN         0.565754            0.893035   \n",
       "4               NaN         0.551221            0.864099   \n",
       "5               NaN         0.541597            0.844679   \n",
       "6               NaN         0.535424            0.834633   \n",
       "7               NaN         0.532497            0.830908   \n",
       "8               NaN         0.530197            0.827711   \n",
       "9               NaN         0.528446            0.826455   \n",
       "10              NaN         0.524163            0.819328   \n",
       "\n",
       "    validation_classification_error  validation_auc  validation_pr_auc  \n",
       "0                          0.779126             NaN                NaN  \n",
       "1                          0.411003             NaN                NaN  \n",
       "2                          0.387540             NaN                NaN  \n",
       "3                          0.378641             NaN                NaN  \n",
       "4                          0.372168             NaN                NaN  \n",
       "5                          0.364078             NaN                NaN  \n",
       "6                          0.355987             NaN                NaN  \n",
       "7                          0.351133             NaN                NaN  \n",
       "8                          0.348706             NaN                NaN  \n",
       "9                          0.354369             NaN                NaN  \n",
       "10                         0.349515             NaN                NaN  "
      ]
     },
     "metadata": {},
     "output_type": "display_data"
    },
    {
     "name": "stdout",
     "output_type": "stream",
     "text": [
      "\n",
      "Variable Importances: \n"
     ]
    },
    {
     "data": {
      "text/html": [
       "<div>\n",
       "<style scoped>\n",
       "    .dataframe tbody tr th:only-of-type {\n",
       "        vertical-align: middle;\n",
       "    }\n",
       "\n",
       "    .dataframe tbody tr th {\n",
       "        vertical-align: top;\n",
       "    }\n",
       "\n",
       "    .dataframe thead th {\n",
       "        text-align: right;\n",
       "    }\n",
       "</style>\n",
       "<table border=\"1\" class=\"dataframe\">\n",
       "  <thead>\n",
       "    <tr style=\"text-align: right;\">\n",
       "      <th></th>\n",
       "      <th>variable</th>\n",
       "      <th>relative_importance</th>\n",
       "      <th>scaled_importance</th>\n",
       "      <th>percentage</th>\n",
       "    </tr>\n",
       "  </thead>\n",
       "  <tbody>\n",
       "    <tr>\n",
       "      <th>0</th>\n",
       "      <td>year</td>\n",
       "      <td>5823.909180</td>\n",
       "      <td>1.000000</td>\n",
       "      <td>0.271766</td>\n",
       "    </tr>\n",
       "    <tr>\n",
       "      <th>1</th>\n",
       "      <td>power</td>\n",
       "      <td>3861.737549</td>\n",
       "      <td>0.663083</td>\n",
       "      <td>0.180203</td>\n",
       "    </tr>\n",
       "    <tr>\n",
       "      <th>2</th>\n",
       "      <td>mileage</td>\n",
       "      <td>2986.203613</td>\n",
       "      <td>0.512749</td>\n",
       "      <td>0.139348</td>\n",
       "    </tr>\n",
       "    <tr>\n",
       "      <th>3</th>\n",
       "      <td>dry_weight</td>\n",
       "      <td>1568.706177</td>\n",
       "      <td>0.269356</td>\n",
       "      <td>0.073202</td>\n",
       "    </tr>\n",
       "    <tr>\n",
       "      <th>4</th>\n",
       "      <td>displacement</td>\n",
       "      <td>1372.194214</td>\n",
       "      <td>0.235614</td>\n",
       "      <td>0.064032</td>\n",
       "    </tr>\n",
       "    <tr>\n",
       "      <th>5</th>\n",
       "      <td>acceleration</td>\n",
       "      <td>815.110046</td>\n",
       "      <td>0.139959</td>\n",
       "      <td>0.038036</td>\n",
       "    </tr>\n",
       "    <tr>\n",
       "      <th>6</th>\n",
       "      <td>top_speed</td>\n",
       "      <td>804.775513</td>\n",
       "      <td>0.138185</td>\n",
       "      <td>0.037554</td>\n",
       "    </tr>\n",
       "    <tr>\n",
       "      <th>7</th>\n",
       "      <td>emission</td>\n",
       "      <td>708.577209</td>\n",
       "      <td>0.121667</td>\n",
       "      <td>0.033065</td>\n",
       "    </tr>\n",
       "    <tr>\n",
       "      <th>8</th>\n",
       "      <td>emission_label.Euro4</td>\n",
       "      <td>364.189484</td>\n",
       "      <td>0.062534</td>\n",
       "      <td>0.016994</td>\n",
       "    </tr>\n",
       "    <tr>\n",
       "      <th>9</th>\n",
       "      <td>n_doors</td>\n",
       "      <td>310.453186</td>\n",
       "      <td>0.053307</td>\n",
       "      <td>0.014487</td>\n",
       "    </tr>\n",
       "    <tr>\n",
       "      <th>10</th>\n",
       "      <td>n_seats</td>\n",
       "      <td>219.753906</td>\n",
       "      <td>0.037733</td>\n",
       "      <td>0.010255</td>\n",
       "    </tr>\n",
       "    <tr>\n",
       "      <th>11</th>\n",
       "      <td>emission_label.Euro5</td>\n",
       "      <td>216.189514</td>\n",
       "      <td>0.037121</td>\n",
       "      <td>0.010088</td>\n",
       "    </tr>\n",
       "    <tr>\n",
       "      <th>12</th>\n",
       "      <td>country.Germany</td>\n",
       "      <td>190.898804</td>\n",
       "      <td>0.032778</td>\n",
       "      <td>0.008908</td>\n",
       "    </tr>\n",
       "    <tr>\n",
       "      <th>13</th>\n",
       "      <td>country.France</td>\n",
       "      <td>150.800766</td>\n",
       "      <td>0.025893</td>\n",
       "      <td>0.007037</td>\n",
       "    </tr>\n",
       "    <tr>\n",
       "      <th>14</th>\n",
       "      <td>emission_label.Euro2</td>\n",
       "      <td>122.027473</td>\n",
       "      <td>0.020953</td>\n",
       "      <td>0.005694</td>\n",
       "    </tr>\n",
       "    <tr>\n",
       "      <th>15</th>\n",
       "      <td>emission_label.Euro3</td>\n",
       "      <td>119.917519</td>\n",
       "      <td>0.020591</td>\n",
       "      <td>0.005596</td>\n",
       "    </tr>\n",
       "    <tr>\n",
       "      <th>16</th>\n",
       "      <td>n_cylinders</td>\n",
       "      <td>119.764229</td>\n",
       "      <td>0.020564</td>\n",
       "      <td>0.005589</td>\n",
       "    </tr>\n",
       "    <tr>\n",
       "      <th>17</th>\n",
       "      <td>car_type.hatchback</td>\n",
       "      <td>100.895012</td>\n",
       "      <td>0.017324</td>\n",
       "      <td>0.004708</td>\n",
       "    </tr>\n",
       "    <tr>\n",
       "      <th>18</th>\n",
       "      <td>car_maker.mercedes-benz</td>\n",
       "      <td>84.866692</td>\n",
       "      <td>0.014572</td>\n",
       "      <td>0.003960</td>\n",
       "    </tr>\n",
       "    <tr>\n",
       "      <th>19</th>\n",
       "      <td>emission_label.</td>\n",
       "      <td>84.427307</td>\n",
       "      <td>0.014497</td>\n",
       "      <td>0.003940</td>\n",
       "    </tr>\n",
       "  </tbody>\n",
       "</table>\n",
       "</div>"
      ],
      "text/plain": [
       "                   variable  relative_importance  scaled_importance  \\\n",
       "0                      year          5823.909180           1.000000   \n",
       "1                     power          3861.737549           0.663083   \n",
       "2                   mileage          2986.203613           0.512749   \n",
       "3                dry_weight          1568.706177           0.269356   \n",
       "4              displacement          1372.194214           0.235614   \n",
       "5              acceleration           815.110046           0.139959   \n",
       "6                 top_speed           804.775513           0.138185   \n",
       "7                  emission           708.577209           0.121667   \n",
       "8      emission_label.Euro4           364.189484           0.062534   \n",
       "9                   n_doors           310.453186           0.053307   \n",
       "10                  n_seats           219.753906           0.037733   \n",
       "11     emission_label.Euro5           216.189514           0.037121   \n",
       "12          country.Germany           190.898804           0.032778   \n",
       "13           country.France           150.800766           0.025893   \n",
       "14     emission_label.Euro2           122.027473           0.020953   \n",
       "15     emission_label.Euro3           119.917519           0.020591   \n",
       "16              n_cylinders           119.764229           0.020564   \n",
       "17       car_type.hatchback           100.895012           0.017324   \n",
       "18  car_maker.mercedes-benz            84.866692           0.014572   \n",
       "19          emission_label.            84.427307           0.014497   \n",
       "\n",
       "    percentage  \n",
       "0     0.271766  \n",
       "1     0.180203  \n",
       "2     0.139348  \n",
       "3     0.073202  \n",
       "4     0.064032  \n",
       "5     0.038036  \n",
       "6     0.037554  \n",
       "7     0.033065  \n",
       "8     0.016994  \n",
       "9     0.014487  \n",
       "10    0.010255  \n",
       "11    0.010088  \n",
       "12    0.008908  \n",
       "13    0.007037  \n",
       "14    0.005694  \n",
       "15    0.005596  \n",
       "16    0.005589  \n",
       "17    0.004708  \n",
       "18    0.003960  \n",
       "19    0.003940  "
      ]
     },
     "metadata": {},
     "output_type": "display_data"
    },
    {
     "name": "stdout",
     "output_type": "stream",
     "text": [
      "\n",
      "See the whole table with table.as_data_frame()\n"
     ]
    },
    {
     "data": {
      "text/plain": []
     },
     "execution_count": 878,
     "metadata": {},
     "output_type": "execute_result"
    }
   ],
   "source": [
    "aml.train(x = x, y = y, training_frame = train, validation_frame=valid)"
   ]
  },
  {
   "cell_type": "code",
   "execution_count": 890,
   "metadata": {},
   "outputs": [
    {
     "data": {
      "text/html": [
       "<table>\n",
       "<thead>\n",
       "<tr><th>model_id                          </th><th style=\"text-align: right;\">  mean_per_class_error</th><th style=\"text-align: right;\">  logloss</th><th style=\"text-align: right;\">    rmse</th><th style=\"text-align: right;\">     mse</th><th style=\"text-align: right;\">  accuracy</th></tr>\n",
       "</thead>\n",
       "<tbody>\n",
       "<tr><td>XGBoost_3_AutoML_10_20211123_05326</td><td style=\"text-align: right;\">              0.343106</td><td style=\"text-align: right;\"> 0.80167 </td><td style=\"text-align: right;\">0.512463</td><td style=\"text-align: right;\">0.262618</td><td style=\"text-align: right;\">  0.737382</td></tr>\n",
       "<tr><td>GBM_1_AutoML_10_20211123_05326    </td><td style=\"text-align: right;\">              0.359852</td><td style=\"text-align: right;\"> 0.784629</td><td style=\"text-align: right;\">0.514782</td><td style=\"text-align: right;\">0.265001</td><td style=\"text-align: right;\">  0.734999</td></tr>\n",
       "<tr><td>GBM_4_AutoML_10_20211123_05326    </td><td style=\"text-align: right;\">              0.362159</td><td style=\"text-align: right;\"> 0.805161</td><td style=\"text-align: right;\">0.501738</td><td style=\"text-align: right;\">0.251741</td><td style=\"text-align: right;\">  0.748259</td></tr>\n",
       "<tr><td>XGBoost_2_AutoML_10_20211123_05326</td><td style=\"text-align: right;\">              0.362316</td><td style=\"text-align: right;\"> 0.876571</td><td style=\"text-align: right;\">0.510299</td><td style=\"text-align: right;\">0.260405</td><td style=\"text-align: right;\">  0.739595</td></tr>\n",
       "<tr><td>XRT_1_AutoML_10_20211123_05326    </td><td style=\"text-align: right;\">              0.363861</td><td style=\"text-align: right;\"> 0.925175</td><td style=\"text-align: right;\">0.555503</td><td style=\"text-align: right;\">0.308584</td><td style=\"text-align: right;\">  0.691416</td></tr>\n",
       "<tr><td>GBM_3_AutoML_10_20211123_05326    </td><td style=\"text-align: right;\">              0.367383</td><td style=\"text-align: right;\"> 0.828057</td><td style=\"text-align: right;\">0.510514</td><td style=\"text-align: right;\">0.260625</td><td style=\"text-align: right;\">  0.739375</td></tr>\n",
       "<tr><td>GBM_2_AutoML_10_20211123_05326    </td><td style=\"text-align: right;\">              0.371397</td><td style=\"text-align: right;\"> 0.819357</td><td style=\"text-align: right;\">0.516638</td><td style=\"text-align: right;\">0.266915</td><td style=\"text-align: right;\">  0.733085</td></tr>\n",
       "<tr><td>GBM_5_AutoML_10_20211123_05326    </td><td style=\"text-align: right;\">              0.373275</td><td style=\"text-align: right;\"> 0.820963</td><td style=\"text-align: right;\">0.514216</td><td style=\"text-align: right;\">0.264418</td><td style=\"text-align: right;\">  0.735582</td></tr>\n",
       "<tr><td>DRF_1_AutoML_10_20211123_05326    </td><td style=\"text-align: right;\">              0.375702</td><td style=\"text-align: right;\"> 1.10526 </td><td style=\"text-align: right;\">0.523816</td><td style=\"text-align: right;\">0.274383</td><td style=\"text-align: right;\">  0.725617</td></tr>\n",
       "<tr><td>XGBoost_1_AutoML_10_20211123_05326</td><td style=\"text-align: right;\">              0.376308</td><td style=\"text-align: right;\"> 0.843992</td><td style=\"text-align: right;\">0.522152</td><td style=\"text-align: right;\">0.272643</td><td style=\"text-align: right;\">  0.727357</td></tr>\n",
       "</tbody>\n",
       "</table>"
      ]
     },
     "metadata": {},
     "output_type": "display_data"
    },
    {
     "data": {
      "text/plain": []
     },
     "execution_count": 890,
     "metadata": {},
     "output_type": "execute_result"
    }
   ],
   "source": [
    "lb['accuracy']= 1-lb['mse']\n",
    "lb.head()"
   ]
  },
  {
   "cell_type": "markdown",
   "metadata": {},
   "source": [
    "### AutoML - PCA dataset"
   ]
  },
  {
   "cell_type": "code",
   "execution_count": 869,
   "metadata": {},
   "outputs": [
    {
     "name": "stdout",
     "output_type": "stream",
     "text": [
      "pca Model Build progress: |██████████████████████████████████████████████████████| (done) 100%\n",
      "pca prediction progress: |███████████████████████████████████████████████████████| (done) 100%\n"
     ]
    }
   ],
   "source": [
    "from h2o.estimators import H2OPrincipalComponentAnalysisEstimator\n",
    "\n",
    "pca = H2OPrincipalComponentAnalysisEstimator(k = 5,\n",
    "                                                   use_all_factor_levels = True,\n",
    "                                                   pca_method = \"glrm\",\n",
    "                                                   transform = \"standardize\",\n",
    "                                                   impute_missing = True,\n",
    "                                            ignored_columns= ['price_category'])\n",
    "pca_model = pca.train(training_frame = train_dt)\n",
    "pca_train_dt = pca_model.predict(train_dt)"
   ]
  },
  {
   "cell_type": "code",
   "execution_count": 870,
   "metadata": {},
   "outputs": [
    {
     "data": {
      "text/html": [
       "<table>\n",
       "<thead>\n",
       "<tr><th style=\"text-align: right;\">       PC1</th><th style=\"text-align: right;\">       PC2</th><th style=\"text-align: right;\">        PC3</th><th style=\"text-align: right;\">        PC4</th><th style=\"text-align: right;\">       PC5</th><th>price_category  </th></tr>\n",
       "</thead>\n",
       "<tbody>\n",
       "<tr><td style=\"text-align: right;\"> -0.165564</td><td style=\"text-align: right;\">  0.336941</td><td style=\"text-align: right;\">  0.0969304</td><td style=\"text-align: right;\"> -1.49119  </td><td style=\"text-align: right;\">  0.160992</td><td>5 (10K-15K)     </td></tr>\n",
       "<tr><td style=\"text-align: right;\"> -0.323652</td><td style=\"text-align: right;\"> -0.132431</td><td style=\"text-align: right;\"> -0.427202 </td><td style=\"text-align: right;\"> -2.09038  </td><td style=\"text-align: right;\">  1.24132 </td><td>6 (&gt; 15K)       </td></tr>\n",
       "<tr><td style=\"text-align: right;\"> -0.315798</td><td style=\"text-align: right;\"> -0.17147 </td><td style=\"text-align: right;\">  1.49544  </td><td style=\"text-align: right;\">  0.309617 </td><td style=\"text-align: right;\"> -0.492022</td><td>3 (2K-5K)       </td></tr>\n",
       "<tr><td style=\"text-align: right;\"> -0.457276</td><td style=\"text-align: right;\">  0.926297</td><td style=\"text-align: right;\">  1.5632   </td><td style=\"text-align: right;\"> -0.34226  </td><td style=\"text-align: right;\">  0.496967</td><td>4 (5K-10K)      </td></tr>\n",
       "<tr><td style=\"text-align: right;\">nan       </td><td style=\"text-align: right;\">nan       </td><td style=\"text-align: right;\">nan        </td><td style=\"text-align: right;\">nan        </td><td style=\"text-align: right;\">nan       </td><td>6 (&gt; 15K)       </td></tr>\n",
       "<tr><td style=\"text-align: right;\"> -0.103377</td><td style=\"text-align: right;\"> -2.16702 </td><td style=\"text-align: right;\"> -0.265437 </td><td style=\"text-align: right;\">  1.41789  </td><td style=\"text-align: right;\">  0.491394</td><td>1 (&lt; 1K)        </td></tr>\n",
       "<tr><td style=\"text-align: right;\">nan       </td><td style=\"text-align: right;\">nan       </td><td style=\"text-align: right;\">nan        </td><td style=\"text-align: right;\">nan        </td><td style=\"text-align: right;\">nan       </td><td>6 (&gt; 15K)       </td></tr>\n",
       "<tr><td style=\"text-align: right;\"> -0.163796</td><td style=\"text-align: right;\"> -2.02874 </td><td style=\"text-align: right;\"> -0.833877 </td><td style=\"text-align: right;\">  0.0404689</td><td style=\"text-align: right;\">  1.80645 </td><td>4 (5K-10K)      </td></tr>\n",
       "<tr><td style=\"text-align: right;\"> -0.174984</td><td style=\"text-align: right;\"> -1.50158 </td><td style=\"text-align: right;\"> -1.1651   </td><td style=\"text-align: right;\">  0.449837 </td><td style=\"text-align: right;\">  0.564502</td><td>3 (2K-5K)       </td></tr>\n",
       "<tr><td style=\"text-align: right;\"> -0.121651</td><td style=\"text-align: right;\"> -2.13841 </td><td style=\"text-align: right;\">  0.127134 </td><td style=\"text-align: right;\">  0.359795 </td><td style=\"text-align: right;\">  1.19657 </td><td>3 (2K-5K)       </td></tr>\n",
       "</tbody>\n",
       "</table>"
      ]
     },
     "metadata": {},
     "output_type": "display_data"
    },
    {
     "data": {
      "text/plain": []
     },
     "execution_count": 870,
     "metadata": {},
     "output_type": "execute_result"
    }
   ],
   "source": [
    "pca_train_dt['price_category']=train_dt['price_category']\n",
    "pca_train_dt"
   ]
  },
  {
   "cell_type": "code",
   "execution_count": 871,
   "metadata": {},
   "outputs": [
    {
     "data": {
      "text/plain": [
       "(8232, 6)"
      ]
     },
     "execution_count": 871,
     "metadata": {},
     "output_type": "execute_result"
    }
   ],
   "source": [
    "pca_train_dt.shape"
   ]
  },
  {
   "cell_type": "code",
   "execution_count": 872,
   "metadata": {},
   "outputs": [],
   "source": [
    "train_pca, test_pca, valid_pca  = pca_train_dt.split_frame(ratios=[0.7, 0.15], seed=1)"
   ]
  },
  {
   "cell_type": "code",
   "execution_count": 881,
   "metadata": {},
   "outputs": [
    {
     "data": {
      "text/html": [
       "<table>\n",
       "<thead>\n",
       "<tr><th style=\"text-align: right;\">       PC1</th><th style=\"text-align: right;\">        PC2</th><th style=\"text-align: right;\">        PC3</th><th style=\"text-align: right;\">        PC4</th><th style=\"text-align: right;\">       PC5</th><th>price_category  </th></tr>\n",
       "</thead>\n",
       "<tbody>\n",
       "<tr><td style=\"text-align: right;\"> -0.165564</td><td style=\"text-align: right;\">  0.336941 </td><td style=\"text-align: right;\">  0.0969304</td><td style=\"text-align: right;\"> -1.49119  </td><td style=\"text-align: right;\">  0.160992</td><td>5 (10K-15K)     </td></tr>\n",
       "<tr><td style=\"text-align: right;\"> -0.323652</td><td style=\"text-align: right;\"> -0.132431 </td><td style=\"text-align: right;\"> -0.427202 </td><td style=\"text-align: right;\"> -2.09038  </td><td style=\"text-align: right;\">  1.24132 </td><td>6 (&gt; 15K)       </td></tr>\n",
       "<tr><td style=\"text-align: right;\"> -0.457276</td><td style=\"text-align: right;\">  0.926297 </td><td style=\"text-align: right;\">  1.5632   </td><td style=\"text-align: right;\"> -0.34226  </td><td style=\"text-align: right;\">  0.496967</td><td>4 (5K-10K)      </td></tr>\n",
       "<tr><td style=\"text-align: right;\"> -0.103377</td><td style=\"text-align: right;\"> -2.16702  </td><td style=\"text-align: right;\"> -0.265437 </td><td style=\"text-align: right;\">  1.41789  </td><td style=\"text-align: right;\">  0.491394</td><td>1 (&lt; 1K)        </td></tr>\n",
       "<tr><td style=\"text-align: right;\"> -0.163796</td><td style=\"text-align: right;\"> -2.02874  </td><td style=\"text-align: right;\"> -0.833877 </td><td style=\"text-align: right;\">  0.0404689</td><td style=\"text-align: right;\">  1.80645 </td><td>4 (5K-10K)      </td></tr>\n",
       "<tr><td style=\"text-align: right;\"> -0.174984</td><td style=\"text-align: right;\"> -1.50158  </td><td style=\"text-align: right;\"> -1.1651   </td><td style=\"text-align: right;\">  0.449837 </td><td style=\"text-align: right;\">  0.564502</td><td>3 (2K-5K)       </td></tr>\n",
       "<tr><td style=\"text-align: right;\"> -0.156183</td><td style=\"text-align: right;\"> -0.0538253</td><td style=\"text-align: right;\">  0.064302 </td><td style=\"text-align: right;\"> -0.286105 </td><td style=\"text-align: right;\"> -0.643715</td><td>3 (2K-5K)       </td></tr>\n",
       "<tr><td style=\"text-align: right;\">nan       </td><td style=\"text-align: right;\">nan        </td><td style=\"text-align: right;\">nan        </td><td style=\"text-align: right;\">nan        </td><td style=\"text-align: right;\">nan       </td><td>4 (5K-10K)      </td></tr>\n",
       "<tr><td style=\"text-align: right;\"> -0.36085 </td><td style=\"text-align: right;\">  0.619184 </td><td style=\"text-align: right;\">  0.480616 </td><td style=\"text-align: right;\">  0.867908 </td><td style=\"text-align: right;\"> -0.882959</td><td>3 (2K-5K)       </td></tr>\n",
       "<tr><td style=\"text-align: right;\">nan       </td><td style=\"text-align: right;\">nan        </td><td style=\"text-align: right;\">nan        </td><td style=\"text-align: right;\">nan        </td><td style=\"text-align: right;\">nan       </td><td>4 (5K-10K)      </td></tr>\n",
       "</tbody>\n",
       "</table>"
      ]
     },
     "metadata": {},
     "output_type": "display_data"
    },
    {
     "data": {
      "text/plain": []
     },
     "execution_count": 881,
     "metadata": {},
     "output_type": "execute_result"
    }
   ],
   "source": [
    "train_pca"
   ]
  },
  {
   "cell_type": "code",
   "execution_count": 882,
   "metadata": {},
   "outputs": [],
   "source": [
    "y_pca ='price_category'\n",
    "x_pca= train_pca.columns\n",
    "x_pca.remove(y)\n"
   ]
  },
  {
   "cell_type": "code",
   "execution_count": 883,
   "metadata": {},
   "outputs": [],
   "source": [
    "aml_pca = H2OAutoML(max_models = 10, seed = 10, verbosity=\"info\", nfolds=0)"
   ]
  },
  {
   "cell_type": "code",
   "execution_count": 884,
   "metadata": {},
   "outputs": [
    {
     "name": "stdout",
     "output_type": "stream",
     "text": [
      "AutoML progress: |\n",
      "00:54:44.460: Project: AutoML_11_20211123_05444\n",
      "00:54:44.460: Cross-validation disabled by user: no fold column nor nfolds > 1.\n",
      "00:54:44.460: Setting stopping tolerance adaptively based on the training frame: 0.01315334104411641\n",
      "00:54:44.460: Build control seed: 10\n",
      "00:54:44.460: Since cross-validation is disabled, and no leaderboard frame was provided, automatically split the training data into training and leaderboard frames in the ratio 90/10\n",
      "00:54:44.463: training frame: Frame key: AutoML_11_20211123_05444_training_py_395_sid_96c8    cols: 6    rows: 5208  chunks: 1    size: 214852  checksum: 3579983705203815894\n",
      "00:54:44.463: validation frame: Frame key: py_397_sid_96c8    cols: 6    rows: 1236  chunks: 1    size: 52000  checksum: -1254364674917556428\n",
      "00:54:44.463: leaderboard frame: Frame key: AutoML_11_20211123_05444_leaderboard_py_395_sid_96c8    cols: 6    rows: 572  chunks: 1    size: 24776  checksum: -3416600013238431818\n",
      "00:54:44.463: blending frame: NULL\n",
      "00:54:44.463: response column: price_category\n",
      "00:54:44.463: fold column: null\n",
      "00:54:44.463: weights column: null\n",
      "00:54:44.464: Loading execution steps: [{XGBoost : [def_2 (1g, 10w), def_1 (2g, 10w), def_3 (3g, 10w), grid_1 (4g, 90w), lr_search (6g, 30w)]}, {GLM : [def_1 (1g, 10w)]}, {DRF : [def_1 (2g, 10w), XRT (3g, 10w)]}, {GBM : [def_5 (1g, 10w), def_2 (2g, 10w), def_3 (2g, 10w), def_4 (2g, 10w), def_1 (3g, 10w), grid_1 (4g, 60w), lr_annealing (6g, 10w)]}, {DeepLearning : [def_1 (3g, 10w), grid_1 (4g, 30w), grid_2 (5g, 30w), grid_3 (5g, 30w)]}, {completion : [resume_best_grids (10g, 60w)]}, {StackedEnsemble : [best_of_family_1 (1g, 5w), best_of_family_2 (2g, 5w), best_of_family_3 (3g, 5w), best_of_family_4 (4g, 5w), best_of_family_5 (5g, 5w), all_2 (2g, 10w), all_3 (3g, 10w), all_4 (4g, 10w), all_5 (5g, 10w), monotonic (6g, 10w), best_of_family_xgboost (6g, 10w), best_of_family_gbm (6g, 10w), all_xgboost (7g, 10w), all_gbm (7g, 10w), best_of_family_xglm (8g, 10w), all_xglm (8g, 10w), best_of_family (10g, 10w), best_N (10g, 10w)]}]\n",
      "00:54:44.464: AutoML job created: 2021.11.23 00:54:44.459\n",
      "00:54:44.465: AutoML build started: 2021.11.23 00:54:44.465\n",
      "00:54:44.465: AutoML: starting XGBoost_1_AutoML_11_20211123_05444 model training\n",
      "\n",
      "█\n",
      "00:54:46.511: New leader: XGBoost_1_AutoML_11_20211123_05444, mean_per_class_error: 0.5884527261669873\n",
      "00:54:46.511: AutoML: starting GLM_1_AutoML_11_20211123_05444 model training\n",
      "\n",
      "█\n",
      "00:54:48.519: AutoML: starting GBM_1_AutoML_11_20211123_05444 model training\n",
      "00:54:49.584: Cross-validation is disabled by the user and no blending frame was provided; skipping StackedEnsemble 'best_of_family_1'.\n",
      "00:54:49.584: AutoML: starting XGBoost_2_AutoML_11_20211123_05444 model training\n",
      "\n",
      "██\n",
      "00:54:51.601: AutoML: starting DRF_1_AutoML_11_20211123_05444 model training\n",
      "00:54:52.667: New leader: DRF_1_AutoML_11_20211123_05444, mean_per_class_error: 0.583715969488476\n",
      "00:54:52.668: AutoML: starting GBM_2_AutoML_11_20211123_05444 model training\n",
      "00:54:53.737: AutoML: starting GBM_3_AutoML_11_20211123_05444 model training\n",
      "00:54:54.801: New leader: GBM_3_AutoML_11_20211123_05444, mean_per_class_error: 0.5778520443186107\n",
      "00:54:54.801: AutoML: starting GBM_4_AutoML_11_20211123_05444 model training\n",
      "\n",
      "███\n",
      "00:54:56.896: New leader: GBM_4_AutoML_11_20211123_05444, mean_per_class_error: 0.5716374385990619\n",
      "00:54:56.897: Cross-validation is disabled by the user and no blending frame was provided; skipping StackedEnsemble 'best_of_family_2'.\n",
      "00:54:56.897: Cross-validation is disabled by the user and no blending frame was provided; skipping StackedEnsemble 'all_2'.\n",
      "00:54:56.897: AutoML: starting XGBoost_3_AutoML_11_20211123_05444 model training\n",
      "\n",
      "████████████████████████████████████████████████████████| (done) 100%\n",
      "\n",
      "00:54:58.911: AutoML: starting XRT_1_AutoML_11_20211123_05444 model training\n",
      "00:55:00.977: New leader: XRT_1_AutoML_11_20211123_05444, mean_per_class_error: 0.564983899990636\n",
      "00:55:00.977: Cross-validation is disabled by the user and no blending frame was provided; skipping StackedEnsemble 'best_of_family_3'.\n",
      "00:55:00.977: Cross-validation is disabled by the user and no blending frame was provided; skipping StackedEnsemble 'all_3'.\n",
      "00:55:00.977: Cross-validation is disabled by the user and no blending frame was provided; skipping StackedEnsemble 'best_of_family_4'.\n",
      "00:55:00.978: Cross-validation is disabled by the user and no blending frame was provided; skipping StackedEnsemble 'all_4'.\n",
      "00:55:00.978: Cross-validation is disabled by the user and no blending frame was provided; skipping StackedEnsemble 'best_of_family_5'.\n",
      "00:55:00.978: Cross-validation is disabled by the user and no blending frame was provided; skipping StackedEnsemble 'all_5'.\n",
      "00:55:00.978: No base models, due to timeouts or the exclude_algos option. Skipping StackedEnsemble 'monotonic'.\n",
      "00:55:00.978: Cross-validation is disabled by the user and no blending frame was provided; skipping StackedEnsemble 'best_of_family_xgboost'.\n",
      "00:55:00.978: Cross-validation is disabled by the user and no blending frame was provided; skipping StackedEnsemble 'best_of_family_gbm'.\n",
      "00:55:00.978: Cross-validation is disabled by the user and no blending frame was provided; skipping StackedEnsemble 'all_xgboost'.\n",
      "00:55:00.978: Cross-validation is disabled by the user and no blending frame was provided; skipping StackedEnsemble 'all_gbm'.\n",
      "00:55:00.978: Cross-validation is disabled by the user and no blending frame was provided; skipping StackedEnsemble 'best_of_family_xglm'.\n",
      "00:55:00.978: Cross-validation is disabled by the user and no blending frame was provided; skipping StackedEnsemble 'all_xglm'.\n",
      "00:55:00.978: Cross-validation is disabled by the user and no blending frame was provided; skipping StackedEnsemble 'best_of_family'.\n",
      "00:55:00.979: Cross-validation is disabled by the user and no blending frame was provided; skipping StackedEnsemble 'best_N'.\n",
      "00:55:00.979: Actual modeling steps: [{XGBoost : [def_2 (1g, 10w)]}, {GLM : [def_1 (1g, 10w)]}, {GBM : [def_5 (1g, 10w)]}, {XGBoost : [def_1 (2g, 10w)]}, {DRF : [def_1 (2g, 10w)]}, {GBM : [def_2 (2g, 10w), def_3 (2g, 10w), def_4 (2g, 10w)]}, {XGBoost : [def_3 (3g, 10w)]}, {DRF : [XRT (3g, 10w)]}]\n",
      "00:55:00.979: AutoML build stopped: 2021.11.23 00:55:00.979\n",
      "00:55:00.979: AutoML build done: built 10 models\n",
      "00:55:00.979: AutoML duration: 16.514 sec\n",
      "\n",
      "Model Details\n",
      "=============\n",
      "H2ORandomForestEstimator :  Distributed Random Forest\n",
      "Model Key:  XRT_1_AutoML_11_20211123_05444\n",
      "\n",
      "\n",
      "Model Summary: \n"
     ]
    },
    {
     "data": {
      "text/html": [
       "<div>\n",
       "<style scoped>\n",
       "    .dataframe tbody tr th:only-of-type {\n",
       "        vertical-align: middle;\n",
       "    }\n",
       "\n",
       "    .dataframe tbody tr th {\n",
       "        vertical-align: top;\n",
       "    }\n",
       "\n",
       "    .dataframe thead th {\n",
       "        text-align: right;\n",
       "    }\n",
       "</style>\n",
       "<table border=\"1\" class=\"dataframe\">\n",
       "  <thead>\n",
       "    <tr style=\"text-align: right;\">\n",
       "      <th></th>\n",
       "      <th></th>\n",
       "      <th>number_of_trees</th>\n",
       "      <th>number_of_internal_trees</th>\n",
       "      <th>model_size_in_bytes</th>\n",
       "      <th>min_depth</th>\n",
       "      <th>max_depth</th>\n",
       "      <th>mean_depth</th>\n",
       "      <th>min_leaves</th>\n",
       "      <th>max_leaves</th>\n",
       "      <th>mean_leaves</th>\n",
       "    </tr>\n",
       "  </thead>\n",
       "  <tbody>\n",
       "    <tr>\n",
       "      <th>0</th>\n",
       "      <td></td>\n",
       "      <td>35.0</td>\n",
       "      <td>210.0</td>\n",
       "      <td>879344.0</td>\n",
       "      <td>12.0</td>\n",
       "      <td>20.0</td>\n",
       "      <td>18.680952</td>\n",
       "      <td>136.0</td>\n",
       "      <td>527.0</td>\n",
       "      <td>329.30475</td>\n",
       "    </tr>\n",
       "  </tbody>\n",
       "</table>\n",
       "</div>"
      ],
      "text/plain": [
       "     number_of_trees  number_of_internal_trees  model_size_in_bytes  \\\n",
       "0               35.0                     210.0             879344.0   \n",
       "\n",
       "   min_depth  max_depth  mean_depth  min_leaves  max_leaves  mean_leaves  \n",
       "0       12.0       20.0   18.680952       136.0       527.0    329.30475  "
      ]
     },
     "metadata": {},
     "output_type": "display_data"
    },
    {
     "name": "stdout",
     "output_type": "stream",
     "text": [
      "\n",
      "\n",
      "ModelMetricsMultinomial: drf\n",
      "** Reported on train data. **\n",
      "\n",
      "MSE: 0.43889635010537403\n",
      "RMSE: 0.6624925283392817\n",
      "LogLoss: 2.093090717329278\n",
      "Mean Per-Class Error: 0.5798254907188573\n",
      "AUC: NaN\n",
      "AUCPR: NaN\n",
      "Multinomial auc values: Table is not computed because it is disabled (model parameter 'auc_type' is set to AUTO or NONE) or due to domain size (maximum is 50 domains).\n",
      "Multinomial auc_pr values: Table is not computed because it is disabled (model parameter 'auc_type' is set to AUTO or NONE) or due to domain size (maximum is 50 domains).\n",
      "\n",
      "Confusion Matrix: Row labels: Actual class; Column labels: Predicted class\n"
     ]
    },
    {
     "data": {
      "text/html": [
       "<div>\n",
       "<style scoped>\n",
       "    .dataframe tbody tr th:only-of-type {\n",
       "        vertical-align: middle;\n",
       "    }\n",
       "\n",
       "    .dataframe tbody tr th {\n",
       "        vertical-align: top;\n",
       "    }\n",
       "\n",
       "    .dataframe thead th {\n",
       "        text-align: right;\n",
       "    }\n",
       "</style>\n",
       "<table border=\"1\" class=\"dataframe\">\n",
       "  <thead>\n",
       "    <tr style=\"text-align: right;\">\n",
       "      <th></th>\n",
       "      <th>1 (&lt; 1K)</th>\n",
       "      <th>2 (1K-2K)</th>\n",
       "      <th>3 (2K-5K)</th>\n",
       "      <th>4 (5K-10K)</th>\n",
       "      <th>5 (10K-15K)</th>\n",
       "      <th>6 (&gt; 15K)</th>\n",
       "      <th>Error</th>\n",
       "      <th>Rate</th>\n",
       "    </tr>\n",
       "  </thead>\n",
       "  <tbody>\n",
       "    <tr>\n",
       "      <th>0</th>\n",
       "      <td>95.0</td>\n",
       "      <td>137.0</td>\n",
       "      <td>343.0</td>\n",
       "      <td>13.0</td>\n",
       "      <td>6.0</td>\n",
       "      <td>2.0</td>\n",
       "      <td>0.840604</td>\n",
       "      <td>501 / 596</td>\n",
       "    </tr>\n",
       "    <tr>\n",
       "      <th>1</th>\n",
       "      <td>66.0</td>\n",
       "      <td>347.0</td>\n",
       "      <td>501.0</td>\n",
       "      <td>5.0</td>\n",
       "      <td>0.0</td>\n",
       "      <td>0.0</td>\n",
       "      <td>0.622416</td>\n",
       "      <td>572 / 919</td>\n",
       "    </tr>\n",
       "    <tr>\n",
       "      <th>2</th>\n",
       "      <td>16.0</td>\n",
       "      <td>130.0</td>\n",
       "      <td>1222.0</td>\n",
       "      <td>122.0</td>\n",
       "      <td>3.0</td>\n",
       "      <td>3.0</td>\n",
       "      <td>0.183155</td>\n",
       "      <td>274 / 1,496</td>\n",
       "    </tr>\n",
       "    <tr>\n",
       "      <th>3</th>\n",
       "      <td>2.0</td>\n",
       "      <td>9.0</td>\n",
       "      <td>516.0</td>\n",
       "      <td>494.0</td>\n",
       "      <td>59.0</td>\n",
       "      <td>18.0</td>\n",
       "      <td>0.550091</td>\n",
       "      <td>604 / 1,098</td>\n",
       "    </tr>\n",
       "    <tr>\n",
       "      <th>4</th>\n",
       "      <td>1.0</td>\n",
       "      <td>2.0</td>\n",
       "      <td>171.0</td>\n",
       "      <td>119.0</td>\n",
       "      <td>145.0</td>\n",
       "      <td>43.0</td>\n",
       "      <td>0.698545</td>\n",
       "      <td>336 / 481</td>\n",
       "    </tr>\n",
       "    <tr>\n",
       "      <th>5</th>\n",
       "      <td>1.0</td>\n",
       "      <td>0.0</td>\n",
       "      <td>284.0</td>\n",
       "      <td>29.0</td>\n",
       "      <td>47.0</td>\n",
       "      <td>257.0</td>\n",
       "      <td>0.584142</td>\n",
       "      <td>361 / 618</td>\n",
       "    </tr>\n",
       "    <tr>\n",
       "      <th>6</th>\n",
       "      <td>181.0</td>\n",
       "      <td>625.0</td>\n",
       "      <td>3037.0</td>\n",
       "      <td>782.0</td>\n",
       "      <td>260.0</td>\n",
       "      <td>323.0</td>\n",
       "      <td>0.508449</td>\n",
       "      <td>2,648 / 5,208</td>\n",
       "    </tr>\n",
       "  </tbody>\n",
       "</table>\n",
       "</div>"
      ],
      "text/plain": [
       "   1 (< 1K)  2 (1K-2K)  3 (2K-5K)  4 (5K-10K)  5 (10K-15K)  6 (> 15K)  \\\n",
       "0      95.0      137.0      343.0        13.0          6.0        2.0   \n",
       "1      66.0      347.0      501.0         5.0          0.0        0.0   \n",
       "2      16.0      130.0     1222.0       122.0          3.0        3.0   \n",
       "3       2.0        9.0      516.0       494.0         59.0       18.0   \n",
       "4       1.0        2.0      171.0       119.0        145.0       43.0   \n",
       "5       1.0        0.0      284.0        29.0         47.0      257.0   \n",
       "6     181.0      625.0     3037.0       782.0        260.0      323.0   \n",
       "\n",
       "      Error           Rate  \n",
       "0  0.840604      501 / 596  \n",
       "1  0.622416      572 / 919  \n",
       "2  0.183155    274 / 1,496  \n",
       "3  0.550091    604 / 1,098  \n",
       "4  0.698545      336 / 481  \n",
       "5  0.584142      361 / 618  \n",
       "6  0.508449  2,648 / 5,208  "
      ]
     },
     "metadata": {},
     "output_type": "display_data"
    },
    {
     "name": "stdout",
     "output_type": "stream",
     "text": [
      "\n",
      "Top-6 Hit Ratios: \n"
     ]
    },
    {
     "data": {
      "text/html": [
       "<div>\n",
       "<style scoped>\n",
       "    .dataframe tbody tr th:only-of-type {\n",
       "        vertical-align: middle;\n",
       "    }\n",
       "\n",
       "    .dataframe tbody tr th {\n",
       "        vertical-align: top;\n",
       "    }\n",
       "\n",
       "    .dataframe thead th {\n",
       "        text-align: right;\n",
       "    }\n",
       "</style>\n",
       "<table border=\"1\" class=\"dataframe\">\n",
       "  <thead>\n",
       "    <tr style=\"text-align: right;\">\n",
       "      <th></th>\n",
       "      <th>k</th>\n",
       "      <th>hit_ratio</th>\n",
       "    </tr>\n",
       "  </thead>\n",
       "  <tbody>\n",
       "    <tr>\n",
       "      <th>0</th>\n",
       "      <td>1</td>\n",
       "      <td>0.491551</td>\n",
       "    </tr>\n",
       "    <tr>\n",
       "      <th>1</th>\n",
       "      <td>2</td>\n",
       "      <td>0.703725</td>\n",
       "    </tr>\n",
       "    <tr>\n",
       "      <th>2</th>\n",
       "      <td>3</td>\n",
       "      <td>0.811828</td>\n",
       "    </tr>\n",
       "    <tr>\n",
       "      <th>3</th>\n",
       "      <td>4</td>\n",
       "      <td>0.872120</td>\n",
       "    </tr>\n",
       "    <tr>\n",
       "      <th>4</th>\n",
       "      <td>5</td>\n",
       "      <td>0.926075</td>\n",
       "    </tr>\n",
       "    <tr>\n",
       "      <th>5</th>\n",
       "      <td>6</td>\n",
       "      <td>1.000000</td>\n",
       "    </tr>\n",
       "  </tbody>\n",
       "</table>\n",
       "</div>"
      ],
      "text/plain": [
       "   k  hit_ratio\n",
       "0  1   0.491551\n",
       "1  2   0.703725\n",
       "2  3   0.811828\n",
       "3  4   0.872120\n",
       "4  5   0.926075\n",
       "5  6   1.000000"
      ]
     },
     "metadata": {},
     "output_type": "display_data"
    },
    {
     "name": "stdout",
     "output_type": "stream",
     "text": [
      "\n",
      "ModelMetricsMultinomial: drf\n",
      "** Reported on validation data. **\n",
      "\n",
      "MSE: 0.43456901905175316\n",
      "RMSE: 0.6592184911330636\n",
      "LogLoss: 1.4663864608917416\n",
      "Mean Per-Class Error: 0.5768778899957635\n",
      "AUC: NaN\n",
      "AUCPR: NaN\n",
      "Multinomial auc values: Table is not computed because it is disabled (model parameter 'auc_type' is set to AUTO or NONE) or due to domain size (maximum is 50 domains).\n",
      "Multinomial auc_pr values: Table is not computed because it is disabled (model parameter 'auc_type' is set to AUTO or NONE) or due to domain size (maximum is 50 domains).\n",
      "\n",
      "Confusion Matrix: Row labels: Actual class; Column labels: Predicted class\n"
     ]
    },
    {
     "data": {
      "text/html": [
       "<div>\n",
       "<style scoped>\n",
       "    .dataframe tbody tr th:only-of-type {\n",
       "        vertical-align: middle;\n",
       "    }\n",
       "\n",
       "    .dataframe tbody tr th {\n",
       "        vertical-align: top;\n",
       "    }\n",
       "\n",
       "    .dataframe thead th {\n",
       "        text-align: right;\n",
       "    }\n",
       "</style>\n",
       "<table border=\"1\" class=\"dataframe\">\n",
       "  <thead>\n",
       "    <tr style=\"text-align: right;\">\n",
       "      <th></th>\n",
       "      <th>1 (&lt; 1K)</th>\n",
       "      <th>2 (1K-2K)</th>\n",
       "      <th>3 (2K-5K)</th>\n",
       "      <th>4 (5K-10K)</th>\n",
       "      <th>5 (10K-15K)</th>\n",
       "      <th>6 (&gt; 15K)</th>\n",
       "      <th>Error</th>\n",
       "      <th>Rate</th>\n",
       "    </tr>\n",
       "  </thead>\n",
       "  <tbody>\n",
       "    <tr>\n",
       "      <th>0</th>\n",
       "      <td>24.0</td>\n",
       "      <td>40.0</td>\n",
       "      <td>77.0</td>\n",
       "      <td>9.0</td>\n",
       "      <td>0.0</td>\n",
       "      <td>0.0</td>\n",
       "      <td>0.840000</td>\n",
       "      <td>126 / 150</td>\n",
       "    </tr>\n",
       "    <tr>\n",
       "      <th>1</th>\n",
       "      <td>15.0</td>\n",
       "      <td>72.0</td>\n",
       "      <td>121.0</td>\n",
       "      <td>1.0</td>\n",
       "      <td>0.0</td>\n",
       "      <td>0.0</td>\n",
       "      <td>0.655502</td>\n",
       "      <td>137 / 209</td>\n",
       "    </tr>\n",
       "    <tr>\n",
       "      <th>2</th>\n",
       "      <td>4.0</td>\n",
       "      <td>29.0</td>\n",
       "      <td>277.0</td>\n",
       "      <td>29.0</td>\n",
       "      <td>0.0</td>\n",
       "      <td>1.0</td>\n",
       "      <td>0.185294</td>\n",
       "      <td>63 / 340</td>\n",
       "    </tr>\n",
       "    <tr>\n",
       "      <th>3</th>\n",
       "      <td>1.0</td>\n",
       "      <td>2.0</td>\n",
       "      <td>137.0</td>\n",
       "      <td>113.0</td>\n",
       "      <td>20.0</td>\n",
       "      <td>0.0</td>\n",
       "      <td>0.586081</td>\n",
       "      <td>160 / 273</td>\n",
       "    </tr>\n",
       "    <tr>\n",
       "      <th>4</th>\n",
       "      <td>0.0</td>\n",
       "      <td>0.0</td>\n",
       "      <td>34.0</td>\n",
       "      <td>19.0</td>\n",
       "      <td>33.0</td>\n",
       "      <td>14.0</td>\n",
       "      <td>0.670000</td>\n",
       "      <td>67 / 100</td>\n",
       "    </tr>\n",
       "    <tr>\n",
       "      <th>5</th>\n",
       "      <td>0.0</td>\n",
       "      <td>0.0</td>\n",
       "      <td>71.0</td>\n",
       "      <td>4.0</td>\n",
       "      <td>11.0</td>\n",
       "      <td>78.0</td>\n",
       "      <td>0.524390</td>\n",
       "      <td>86 / 164</td>\n",
       "    </tr>\n",
       "    <tr>\n",
       "      <th>6</th>\n",
       "      <td>44.0</td>\n",
       "      <td>143.0</td>\n",
       "      <td>717.0</td>\n",
       "      <td>175.0</td>\n",
       "      <td>64.0</td>\n",
       "      <td>93.0</td>\n",
       "      <td>0.516990</td>\n",
       "      <td>639 / 1,236</td>\n",
       "    </tr>\n",
       "  </tbody>\n",
       "</table>\n",
       "</div>"
      ],
      "text/plain": [
       "   1 (< 1K)  2 (1K-2K)  3 (2K-5K)  4 (5K-10K)  5 (10K-15K)  6 (> 15K)  \\\n",
       "0      24.0       40.0       77.0         9.0          0.0        0.0   \n",
       "1      15.0       72.0      121.0         1.0          0.0        0.0   \n",
       "2       4.0       29.0      277.0        29.0          0.0        1.0   \n",
       "3       1.0        2.0      137.0       113.0         20.0        0.0   \n",
       "4       0.0        0.0       34.0        19.0         33.0       14.0   \n",
       "5       0.0        0.0       71.0         4.0         11.0       78.0   \n",
       "6      44.0      143.0      717.0       175.0         64.0       93.0   \n",
       "\n",
       "      Error         Rate  \n",
       "0  0.840000    126 / 150  \n",
       "1  0.655502    137 / 209  \n",
       "2  0.185294     63 / 340  \n",
       "3  0.586081    160 / 273  \n",
       "4  0.670000     67 / 100  \n",
       "5  0.524390     86 / 164  \n",
       "6  0.516990  639 / 1,236  "
      ]
     },
     "metadata": {},
     "output_type": "display_data"
    },
    {
     "name": "stdout",
     "output_type": "stream",
     "text": [
      "\n",
      "Top-6 Hit Ratios: \n"
     ]
    },
    {
     "data": {
      "text/html": [
       "<div>\n",
       "<style scoped>\n",
       "    .dataframe tbody tr th:only-of-type {\n",
       "        vertical-align: middle;\n",
       "    }\n",
       "\n",
       "    .dataframe tbody tr th {\n",
       "        vertical-align: top;\n",
       "    }\n",
       "\n",
       "    .dataframe thead th {\n",
       "        text-align: right;\n",
       "    }\n",
       "</style>\n",
       "<table border=\"1\" class=\"dataframe\">\n",
       "  <thead>\n",
       "    <tr style=\"text-align: right;\">\n",
       "      <th></th>\n",
       "      <th>k</th>\n",
       "      <th>hit_ratio</th>\n",
       "    </tr>\n",
       "  </thead>\n",
       "  <tbody>\n",
       "    <tr>\n",
       "      <th>0</th>\n",
       "      <td>1</td>\n",
       "      <td>0.483010</td>\n",
       "    </tr>\n",
       "    <tr>\n",
       "      <th>1</th>\n",
       "      <td>2</td>\n",
       "      <td>0.707120</td>\n",
       "    </tr>\n",
       "    <tr>\n",
       "      <th>2</th>\n",
       "      <td>3</td>\n",
       "      <td>0.837379</td>\n",
       "    </tr>\n",
       "    <tr>\n",
       "      <th>3</th>\n",
       "      <td>4</td>\n",
       "      <td>0.898867</td>\n",
       "    </tr>\n",
       "    <tr>\n",
       "      <th>4</th>\n",
       "      <td>5</td>\n",
       "      <td>0.955502</td>\n",
       "    </tr>\n",
       "    <tr>\n",
       "      <th>5</th>\n",
       "      <td>6</td>\n",
       "      <td>1.000000</td>\n",
       "    </tr>\n",
       "  </tbody>\n",
       "</table>\n",
       "</div>"
      ],
      "text/plain": [
       "   k  hit_ratio\n",
       "0  1   0.483010\n",
       "1  2   0.707120\n",
       "2  3   0.837379\n",
       "3  4   0.898867\n",
       "4  5   0.955502\n",
       "5  6   1.000000"
      ]
     },
     "metadata": {},
     "output_type": "display_data"
    },
    {
     "name": "stdout",
     "output_type": "stream",
     "text": [
      "\n",
      "Scoring History: \n"
     ]
    },
    {
     "data": {
      "text/html": [
       "<div>\n",
       "<style scoped>\n",
       "    .dataframe tbody tr th:only-of-type {\n",
       "        vertical-align: middle;\n",
       "    }\n",
       "\n",
       "    .dataframe tbody tr th {\n",
       "        vertical-align: top;\n",
       "    }\n",
       "\n",
       "    .dataframe thead th {\n",
       "        text-align: right;\n",
       "    }\n",
       "</style>\n",
       "<table border=\"1\" class=\"dataframe\">\n",
       "  <thead>\n",
       "    <tr style=\"text-align: right;\">\n",
       "      <th></th>\n",
       "      <th></th>\n",
       "      <th>timestamp</th>\n",
       "      <th>duration</th>\n",
       "      <th>number_of_trees</th>\n",
       "      <th>training_rmse</th>\n",
       "      <th>training_logloss</th>\n",
       "      <th>training_classification_error</th>\n",
       "      <th>training_auc</th>\n",
       "      <th>training_pr_auc</th>\n",
       "      <th>validation_rmse</th>\n",
       "      <th>validation_logloss</th>\n",
       "      <th>validation_classification_error</th>\n",
       "      <th>validation_auc</th>\n",
       "      <th>validation_pr_auc</th>\n",
       "    </tr>\n",
       "  </thead>\n",
       "  <tbody>\n",
       "    <tr>\n",
       "      <th>0</th>\n",
       "      <td></td>\n",
       "      <td>2021-11-23 00:54:58</td>\n",
       "      <td>0.003 sec</td>\n",
       "      <td>0.0</td>\n",
       "      <td>NaN</td>\n",
       "      <td>NaN</td>\n",
       "      <td>NaN</td>\n",
       "      <td>NaN</td>\n",
       "      <td>NaN</td>\n",
       "      <td>NaN</td>\n",
       "      <td>NaN</td>\n",
       "      <td>NaN</td>\n",
       "      <td>NaN</td>\n",
       "      <td>NaN</td>\n",
       "    </tr>\n",
       "    <tr>\n",
       "      <th>1</th>\n",
       "      <td></td>\n",
       "      <td>2021-11-23 00:54:59</td>\n",
       "      <td>0.106 sec</td>\n",
       "      <td>5.0</td>\n",
       "      <td>0.714562</td>\n",
       "      <td>7.754306</td>\n",
       "      <td>0.570907</td>\n",
       "      <td>NaN</td>\n",
       "      <td>NaN</td>\n",
       "      <td>0.667386</td>\n",
       "      <td>3.554710</td>\n",
       "      <td>0.550971</td>\n",
       "      <td>NaN</td>\n",
       "      <td>NaN</td>\n",
       "    </tr>\n",
       "    <tr>\n",
       "      <th>2</th>\n",
       "      <td></td>\n",
       "      <td>2021-11-23 00:54:59</td>\n",
       "      <td>0.199 sec</td>\n",
       "      <td>10.0</td>\n",
       "      <td>0.686773</td>\n",
       "      <td>5.204804</td>\n",
       "      <td>0.544610</td>\n",
       "      <td>NaN</td>\n",
       "      <td>NaN</td>\n",
       "      <td>0.661571</td>\n",
       "      <td>2.330810</td>\n",
       "      <td>0.529126</td>\n",
       "      <td>NaN</td>\n",
       "      <td>NaN</td>\n",
       "    </tr>\n",
       "    <tr>\n",
       "      <th>3</th>\n",
       "      <td></td>\n",
       "      <td>2021-11-23 00:54:59</td>\n",
       "      <td>0.320 sec</td>\n",
       "      <td>15.0</td>\n",
       "      <td>0.672770</td>\n",
       "      <td>3.677702</td>\n",
       "      <td>0.528621</td>\n",
       "      <td>NaN</td>\n",
       "      <td>NaN</td>\n",
       "      <td>0.660068</td>\n",
       "      <td>1.868883</td>\n",
       "      <td>0.524272</td>\n",
       "      <td>NaN</td>\n",
       "      <td>NaN</td>\n",
       "    </tr>\n",
       "    <tr>\n",
       "      <th>4</th>\n",
       "      <td></td>\n",
       "      <td>2021-11-23 00:54:59</td>\n",
       "      <td>0.464 sec</td>\n",
       "      <td>20.0</td>\n",
       "      <td>0.667356</td>\n",
       "      <td>2.970724</td>\n",
       "      <td>0.518241</td>\n",
       "      <td>NaN</td>\n",
       "      <td>NaN</td>\n",
       "      <td>0.659554</td>\n",
       "      <td>1.618748</td>\n",
       "      <td>0.516990</td>\n",
       "      <td>NaN</td>\n",
       "      <td>NaN</td>\n",
       "    </tr>\n",
       "    <tr>\n",
       "      <th>5</th>\n",
       "      <td></td>\n",
       "      <td>2021-11-23 00:54:59</td>\n",
       "      <td>0.617 sec</td>\n",
       "      <td>25.0</td>\n",
       "      <td>0.664332</td>\n",
       "      <td>2.522845</td>\n",
       "      <td>0.509601</td>\n",
       "      <td>NaN</td>\n",
       "      <td>NaN</td>\n",
       "      <td>0.659938</td>\n",
       "      <td>1.593764</td>\n",
       "      <td>0.520227</td>\n",
       "      <td>NaN</td>\n",
       "      <td>NaN</td>\n",
       "    </tr>\n",
       "    <tr>\n",
       "      <th>6</th>\n",
       "      <td></td>\n",
       "      <td>2021-11-23 00:54:59</td>\n",
       "      <td>0.839 sec</td>\n",
       "      <td>30.0</td>\n",
       "      <td>0.663488</td>\n",
       "      <td>2.278304</td>\n",
       "      <td>0.510369</td>\n",
       "      <td>NaN</td>\n",
       "      <td>NaN</td>\n",
       "      <td>0.659664</td>\n",
       "      <td>1.567749</td>\n",
       "      <td>0.516990</td>\n",
       "      <td>NaN</td>\n",
       "      <td>NaN</td>\n",
       "    </tr>\n",
       "    <tr>\n",
       "      <th>7</th>\n",
       "      <td></td>\n",
       "      <td>2021-11-23 00:55:00</td>\n",
       "      <td>1.177 sec</td>\n",
       "      <td>35.0</td>\n",
       "      <td>0.662493</td>\n",
       "      <td>2.093091</td>\n",
       "      <td>0.508449</td>\n",
       "      <td>NaN</td>\n",
       "      <td>NaN</td>\n",
       "      <td>0.659218</td>\n",
       "      <td>1.466386</td>\n",
       "      <td>0.516990</td>\n",
       "      <td>NaN</td>\n",
       "      <td>NaN</td>\n",
       "    </tr>\n",
       "  </tbody>\n",
       "</table>\n",
       "</div>"
      ],
      "text/plain": [
       "               timestamp    duration  number_of_trees  training_rmse  \\\n",
       "0    2021-11-23 00:54:58   0.003 sec              0.0            NaN   \n",
       "1    2021-11-23 00:54:59   0.106 sec              5.0       0.714562   \n",
       "2    2021-11-23 00:54:59   0.199 sec             10.0       0.686773   \n",
       "3    2021-11-23 00:54:59   0.320 sec             15.0       0.672770   \n",
       "4    2021-11-23 00:54:59   0.464 sec             20.0       0.667356   \n",
       "5    2021-11-23 00:54:59   0.617 sec             25.0       0.664332   \n",
       "6    2021-11-23 00:54:59   0.839 sec             30.0       0.663488   \n",
       "7    2021-11-23 00:55:00   1.177 sec             35.0       0.662493   \n",
       "\n",
       "   training_logloss  training_classification_error  training_auc  \\\n",
       "0               NaN                            NaN           NaN   \n",
       "1          7.754306                       0.570907           NaN   \n",
       "2          5.204804                       0.544610           NaN   \n",
       "3          3.677702                       0.528621           NaN   \n",
       "4          2.970724                       0.518241           NaN   \n",
       "5          2.522845                       0.509601           NaN   \n",
       "6          2.278304                       0.510369           NaN   \n",
       "7          2.093091                       0.508449           NaN   \n",
       "\n",
       "   training_pr_auc  validation_rmse  validation_logloss  \\\n",
       "0              NaN              NaN                 NaN   \n",
       "1              NaN         0.667386            3.554710   \n",
       "2              NaN         0.661571            2.330810   \n",
       "3              NaN         0.660068            1.868883   \n",
       "4              NaN         0.659554            1.618748   \n",
       "5              NaN         0.659938            1.593764   \n",
       "6              NaN         0.659664            1.567749   \n",
       "7              NaN         0.659218            1.466386   \n",
       "\n",
       "   validation_classification_error  validation_auc  validation_pr_auc  \n",
       "0                              NaN             NaN                NaN  \n",
       "1                         0.550971             NaN                NaN  \n",
       "2                         0.529126             NaN                NaN  \n",
       "3                         0.524272             NaN                NaN  \n",
       "4                         0.516990             NaN                NaN  \n",
       "5                         0.520227             NaN                NaN  \n",
       "6                         0.516990             NaN                NaN  \n",
       "7                         0.516990             NaN                NaN  "
      ]
     },
     "metadata": {},
     "output_type": "display_data"
    },
    {
     "name": "stdout",
     "output_type": "stream",
     "text": [
      "\n",
      "Variable Importances: \n"
     ]
    },
    {
     "data": {
      "text/html": [
       "<div>\n",
       "<style scoped>\n",
       "    .dataframe tbody tr th:only-of-type {\n",
       "        vertical-align: middle;\n",
       "    }\n",
       "\n",
       "    .dataframe tbody tr th {\n",
       "        vertical-align: top;\n",
       "    }\n",
       "\n",
       "    .dataframe thead th {\n",
       "        text-align: right;\n",
       "    }\n",
       "</style>\n",
       "<table border=\"1\" class=\"dataframe\">\n",
       "  <thead>\n",
       "    <tr style=\"text-align: right;\">\n",
       "      <th></th>\n",
       "      <th>variable</th>\n",
       "      <th>relative_importance</th>\n",
       "      <th>scaled_importance</th>\n",
       "      <th>percentage</th>\n",
       "    </tr>\n",
       "  </thead>\n",
       "  <tbody>\n",
       "    <tr>\n",
       "      <th>0</th>\n",
       "      <td>PC4</td>\n",
       "      <td>15974.225586</td>\n",
       "      <td>1.000000</td>\n",
       "      <td>0.264375</td>\n",
       "    </tr>\n",
       "    <tr>\n",
       "      <th>1</th>\n",
       "      <td>PC5</td>\n",
       "      <td>14316.615234</td>\n",
       "      <td>0.896232</td>\n",
       "      <td>0.236941</td>\n",
       "    </tr>\n",
       "    <tr>\n",
       "      <th>2</th>\n",
       "      <td>PC2</td>\n",
       "      <td>12064.874023</td>\n",
       "      <td>0.755271</td>\n",
       "      <td>0.199675</td>\n",
       "    </tr>\n",
       "    <tr>\n",
       "      <th>3</th>\n",
       "      <td>PC3</td>\n",
       "      <td>9104.890625</td>\n",
       "      <td>0.569974</td>\n",
       "      <td>0.150687</td>\n",
       "    </tr>\n",
       "    <tr>\n",
       "      <th>4</th>\n",
       "      <td>PC1</td>\n",
       "      <td>8962.014648</td>\n",
       "      <td>0.561030</td>\n",
       "      <td>0.148322</td>\n",
       "    </tr>\n",
       "  </tbody>\n",
       "</table>\n",
       "</div>"
      ],
      "text/plain": [
       "  variable  relative_importance  scaled_importance  percentage\n",
       "0      PC4         15974.225586           1.000000    0.264375\n",
       "1      PC5         14316.615234           0.896232    0.236941\n",
       "2      PC2         12064.874023           0.755271    0.199675\n",
       "3      PC3          9104.890625           0.569974    0.150687\n",
       "4      PC1          8962.014648           0.561030    0.148322"
      ]
     },
     "metadata": {},
     "output_type": "display_data"
    },
    {
     "data": {
      "text/plain": []
     },
     "execution_count": 884,
     "metadata": {},
     "output_type": "execute_result"
    }
   ],
   "source": [
    "aml_pca.train(x = x_pca, y = y_pca, training_frame = train_pca, validation_frame=valid_pca)"
   ]
  },
  {
   "cell_type": "code",
   "execution_count": 886,
   "metadata": {},
   "outputs": [
    {
     "data": {
      "text/html": [
       "<table>\n",
       "<thead>\n",
       "<tr><th>model_id                          </th><th style=\"text-align: right;\">  mean_per_class_error</th><th style=\"text-align: right;\">  logloss</th><th style=\"text-align: right;\">    rmse</th><th style=\"text-align: right;\">     mse</th></tr>\n",
       "</thead>\n",
       "<tbody>\n",
       "<tr><td>XRT_1_AutoML_11_20211123_05444    </td><td style=\"text-align: right;\">              0.564984</td><td style=\"text-align: right;\">  1.45512</td><td style=\"text-align: right;\">0.658943</td><td style=\"text-align: right;\">0.434206</td></tr>\n",
       "<tr><td>GBM_4_AutoML_11_20211123_05444    </td><td style=\"text-align: right;\">              0.571637</td><td style=\"text-align: right;\">  1.24187</td><td style=\"text-align: right;\">0.659657</td><td style=\"text-align: right;\">0.435147</td></tr>\n",
       "<tr><td>GBM_3_AutoML_11_20211123_05444    </td><td style=\"text-align: right;\">              0.577852</td><td style=\"text-align: right;\">  1.21646</td><td style=\"text-align: right;\">0.6632  </td><td style=\"text-align: right;\">0.439835</td></tr>\n",
       "<tr><td>XGBoost_3_AutoML_11_20211123_05444</td><td style=\"text-align: right;\">              0.583583</td><td style=\"text-align: right;\">  1.20709</td><td style=\"text-align: right;\">0.660366</td><td style=\"text-align: right;\">0.436083</td></tr>\n",
       "<tr><td>DRF_1_AutoML_11_20211123_05444    </td><td style=\"text-align: right;\">              0.583716</td><td style=\"text-align: right;\">  1.4039 </td><td style=\"text-align: right;\">0.6598  </td><td style=\"text-align: right;\">0.435336</td></tr>\n",
       "<tr><td>GBM_2_AutoML_11_20211123_05444    </td><td style=\"text-align: right;\">              0.58697 </td><td style=\"text-align: right;\">  1.21752</td><td style=\"text-align: right;\">0.663717</td><td style=\"text-align: right;\">0.44052 </td></tr>\n",
       "<tr><td>XGBoost_1_AutoML_11_20211123_05444</td><td style=\"text-align: right;\">              0.588453</td><td style=\"text-align: right;\">  1.21678</td><td style=\"text-align: right;\">0.661264</td><td style=\"text-align: right;\">0.43727 </td></tr>\n",
       "<tr><td>GBM_1_AutoML_11_20211123_05444    </td><td style=\"text-align: right;\">              0.588825</td><td style=\"text-align: right;\">  1.22062</td><td style=\"text-align: right;\">0.669224</td><td style=\"text-align: right;\">0.44786 </td></tr>\n",
       "<tr><td>XGBoost_2_AutoML_11_20211123_05444</td><td style=\"text-align: right;\">              0.603906</td><td style=\"text-align: right;\">  1.24374</td><td style=\"text-align: right;\">0.666531</td><td style=\"text-align: right;\">0.444263</td></tr>\n",
       "<tr><td>GLM_1_AutoML_11_20211123_05444    </td><td style=\"text-align: right;\">              0.642204</td><td style=\"text-align: right;\">  1.34372</td><td style=\"text-align: right;\">0.707199</td><td style=\"text-align: right;\">0.500131</td></tr>\n",
       "</tbody>\n",
       "</table>"
      ]
     },
     "metadata": {},
     "output_type": "display_data"
    },
    {
     "data": {
      "text/plain": []
     },
     "execution_count": 886,
     "metadata": {},
     "output_type": "execute_result"
    }
   ],
   "source": [
    "lb_pca = aml_pca.leaderboard\n",
    "lb_pca.head()"
   ]
  },
  {
   "cell_type": "code",
   "execution_count": 887,
   "metadata": {},
   "outputs": [],
   "source": [
    "lb_pca['accuracy']=1-lb_pca['mse']"
   ]
  },
  {
   "cell_type": "code",
   "execution_count": 889,
   "metadata": {},
   "outputs": [
    {
     "data": {
      "text/html": [
       "<table>\n",
       "<thead>\n",
       "<tr><th>model_id                          </th><th style=\"text-align: right;\">  mean_per_class_error</th><th style=\"text-align: right;\">  logloss</th><th style=\"text-align: right;\">    rmse</th><th style=\"text-align: right;\">     mse</th><th style=\"text-align: right;\">  accuracy</th></tr>\n",
       "</thead>\n",
       "<tbody>\n",
       "<tr><td>XRT_1_AutoML_11_20211123_05444    </td><td style=\"text-align: right;\">              0.564984</td><td style=\"text-align: right;\">  1.45512</td><td style=\"text-align: right;\">0.658943</td><td style=\"text-align: right;\">0.434206</td><td style=\"text-align: right;\">  0.565794</td></tr>\n",
       "<tr><td>GBM_4_AutoML_11_20211123_05444    </td><td style=\"text-align: right;\">              0.571637</td><td style=\"text-align: right;\">  1.24187</td><td style=\"text-align: right;\">0.659657</td><td style=\"text-align: right;\">0.435147</td><td style=\"text-align: right;\">  0.564853</td></tr>\n",
       "<tr><td>GBM_3_AutoML_11_20211123_05444    </td><td style=\"text-align: right;\">              0.577852</td><td style=\"text-align: right;\">  1.21646</td><td style=\"text-align: right;\">0.6632  </td><td style=\"text-align: right;\">0.439835</td><td style=\"text-align: right;\">  0.560165</td></tr>\n",
       "<tr><td>XGBoost_3_AutoML_11_20211123_05444</td><td style=\"text-align: right;\">              0.583583</td><td style=\"text-align: right;\">  1.20709</td><td style=\"text-align: right;\">0.660366</td><td style=\"text-align: right;\">0.436083</td><td style=\"text-align: right;\">  0.563917</td></tr>\n",
       "<tr><td>DRF_1_AutoML_11_20211123_05444    </td><td style=\"text-align: right;\">              0.583716</td><td style=\"text-align: right;\">  1.4039 </td><td style=\"text-align: right;\">0.6598  </td><td style=\"text-align: right;\">0.435336</td><td style=\"text-align: right;\">  0.564664</td></tr>\n",
       "<tr><td>GBM_2_AutoML_11_20211123_05444    </td><td style=\"text-align: right;\">              0.58697 </td><td style=\"text-align: right;\">  1.21752</td><td style=\"text-align: right;\">0.663717</td><td style=\"text-align: right;\">0.44052 </td><td style=\"text-align: right;\">  0.55948 </td></tr>\n",
       "<tr><td>XGBoost_1_AutoML_11_20211123_05444</td><td style=\"text-align: right;\">              0.588453</td><td style=\"text-align: right;\">  1.21678</td><td style=\"text-align: right;\">0.661264</td><td style=\"text-align: right;\">0.43727 </td><td style=\"text-align: right;\">  0.56273 </td></tr>\n",
       "<tr><td>GBM_1_AutoML_11_20211123_05444    </td><td style=\"text-align: right;\">              0.588825</td><td style=\"text-align: right;\">  1.22062</td><td style=\"text-align: right;\">0.669224</td><td style=\"text-align: right;\">0.44786 </td><td style=\"text-align: right;\">  0.55214 </td></tr>\n",
       "<tr><td>XGBoost_2_AutoML_11_20211123_05444</td><td style=\"text-align: right;\">              0.603906</td><td style=\"text-align: right;\">  1.24374</td><td style=\"text-align: right;\">0.666531</td><td style=\"text-align: right;\">0.444263</td><td style=\"text-align: right;\">  0.555737</td></tr>\n",
       "<tr><td>GLM_1_AutoML_11_20211123_05444    </td><td style=\"text-align: right;\">              0.642204</td><td style=\"text-align: right;\">  1.34372</td><td style=\"text-align: right;\">0.707199</td><td style=\"text-align: right;\">0.500131</td><td style=\"text-align: right;\">  0.499869</td></tr>\n",
       "</tbody>\n",
       "</table>"
      ]
     },
     "metadata": {},
     "output_type": "display_data"
    },
    {
     "data": {
      "text/plain": []
     },
     "execution_count": 889,
     "metadata": {},
     "output_type": "execute_result"
    }
   ],
   "source": [
    "lb_pca.head()"
   ]
  },
  {
   "cell_type": "code",
   "execution_count": null,
   "metadata": {},
   "outputs": [],
   "source": [
    "#from h2o.estimators.random_forest import H2ORandomForestEstimator\n",
    "#rf = H2ORandomForestEstimator(seed=1)\n",
    "#y ='price_category'"
   ]
  },
  {
   "cell_type": "code",
   "execution_count": null,
   "metadata": {},
   "outputs": [],
   "source": [
    "#rf.train(y=y, training_frame=train)"
   ]
  },
  {
   "cell_type": "code",
   "execution_count": null,
   "metadata": {},
   "outputs": [],
   "source": [
    "#from h2o.estimators.gbm import H2OGradientBoostingEstimator\n",
    "\n",
    "#gbm = H2OGradientBoostingEstimator(sample_rate = .7, seed = 1234)\n",
    "#gbm.train(y = y,\n",
    "#                   training_frame = train,\n",
    "#                   validation_frame = valid)"
   ]
  },
  {
   "cell_type": "code",
   "execution_count": null,
   "metadata": {},
   "outputs": [],
   "source": []
  }
 ],
 "metadata": {
  "kernelspec": {
   "display_name": "Python 3",
   "language": "python",
   "name": "python3"
  },
  "language_info": {
   "codemirror_mode": {
    "name": "ipython",
    "version": 3
   },
   "file_extension": ".py",
   "mimetype": "text/x-python",
   "name": "python",
   "nbconvert_exporter": "python",
   "pygments_lexer": "ipython3",
   "version": "3.7.6"
  }
 },
 "nbformat": 4,
 "nbformat_minor": 4
}
